{
 "cells": [
  {
   "cell_type": "code",
   "execution_count": 1,
   "metadata": {
    "collapsed": false
   },
   "outputs": [
    {
     "name": "stderr",
     "output_type": "stream",
     "text": [
      "Warning message:\n",
      ": package ‘MASS’ was built under R version 3.2.3"
     ]
    },
    {
     "data": {
      "text/html": [
       "\n",
       "<table width=\"100%\" summary=\"page for fgl {MASS}\"><tr><td>fgl {MASS}</td><td style=\"text-align: right;\">R Documentation</td></tr></table>\n",
       "\n",
       "<h2>\n",
       "Measurements of Forensic Glass Fragments\n",
       "</h2>\n",
       "\n",
       "<h3>Description</h3>\n",
       "\n",
       "<p>The <code>fgl</code> data frame has 214 rows and 10 columns.\n",
       "It was collected by B. German on fragments of glass\n",
       "collected in forensic work.\n",
       "</p>\n",
       "\n",
       "\n",
       "<h3>Usage</h3>\n",
       "\n",
       "<pre>\n",
       "fgl\n",
       "</pre>\n",
       "\n",
       "\n",
       "<h3>Format</h3>\n",
       "\n",
       "<p>This data frame contains the following columns:\n",
       "</p>\n",
       "\n",
       "<dl>\n",
       "<dt><code>RI</code></dt><dd>\n",
       "<p>refractive index; more precisely the refractive index is 1.518xxxx.\n",
       "</p>\n",
       "<p>The next 8 measurements are percentages by weight of oxides.\n",
       "</p>\n",
       "</dd>\n",
       "<dt><code>Na</code></dt><dd><p>sodium.</p>\n",
       "</dd>\n",
       "<dt><code>Mg</code></dt><dd><p>manganese.</p>\n",
       "</dd>\n",
       "<dt><code>Al</code></dt><dd><p>aluminium.</p>\n",
       "</dd>\n",
       "<dt><code>Si</code></dt><dd><p>silicon.</p>\n",
       "</dd>\n",
       "<dt><code>K</code></dt><dd><p>potassium.</p>\n",
       "</dd>\n",
       "<dt><code>Ca</code></dt><dd><p>calcium.</p>\n",
       "</dd>\n",
       "<dt><code>Ba</code></dt><dd><p>barium.</p>\n",
       "</dd>\n",
       "<dt><code>Fe</code></dt><dd><p>iron.</p>\n",
       "</dd>\n",
       "<dt><code>type</code></dt><dd>\n",
       "<p>The fragments were originally classed into seven types, one of which\n",
       "was absent in this dataset.  The categories which occur are\n",
       "window float glass (<code>WinF</code>: 70),\n",
       "window non-float glass (<code>WinNF</code>: 76),\n",
       "vehicle window glass (<code>Veh</code>: 17),\n",
       "containers (<code>Con</code>: 13),\n",
       "tableware (<code>Tabl</code>: 9) and\n",
       "vehicle headlamps (<code>Head</code>: 29).\n",
       "</p>\n",
       "</dd>\n",
       "</dl>\n",
       "\n",
       "\n",
       "\n",
       "<h3>References</h3>\n",
       "\n",
       "<p>Venables, W. N. and Ripley, B. D. (2002)\n",
       "<em>Modern Applied Statistics with S.</em> Fourth edition.  Springer.\n",
       "</p>\n",
       "\n",
       "<hr /><div style=\"text-align: center;\">[Package <em>MASS</em> version 7.3-45 ]</div>"
      ],
      "text/latex": [
       "\\inputencoding{utf8}\n",
       "\\HeaderA{fgl}{Measurements of Forensic Glass Fragments}{fgl}\n",
       "\\keyword{datasets}{fgl}\n",
       "%\n",
       "\\begin{Description}\\relax\n",
       "The \\code{fgl} data frame has 214 rows and 10 columns.\n",
       "It was collected by B. German on fragments of glass\n",
       "collected in forensic work.\n",
       "\\end{Description}\n",
       "%\n",
       "\\begin{Usage}\n",
       "\\begin{verbatim}\n",
       "fgl\n",
       "\\end{verbatim}\n",
       "\\end{Usage}\n",
       "%\n",
       "\\begin{Format}\n",
       "This data frame contains the following columns:\n",
       "\\begin{description}\n",
       "\n",
       "\\item[\\code{RI}] \n",
       "refractive index; more precisely the refractive index is 1.518xxxx.\n",
       "\n",
       "The next 8 measurements are percentages by weight of oxides.\n",
       "\n",
       "\\item[\\code{Na}] sodium.\n",
       "\\item[\\code{Mg}] manganese.\n",
       "\\item[\\code{Al}] aluminium.\n",
       "\\item[\\code{Si}] silicon.\n",
       "\\item[\\code{K}] potassium.\n",
       "\\item[\\code{Ca}] calcium.\n",
       "\\item[\\code{Ba}] barium.\n",
       "\\item[\\code{Fe}] iron.\n",
       "\\item[\\code{type}] \n",
       "The fragments were originally classed into seven types, one of which\n",
       "was absent in this dataset.  The categories which occur are\n",
       "window float glass (\\code{WinF}: 70),\n",
       "window non-float glass (\\code{WinNF}: 76),\n",
       "vehicle window glass (\\code{Veh}: 17),\n",
       "containers (\\code{Con}: 13),\n",
       "tableware (\\code{Tabl}: 9) and\n",
       "vehicle headlamps (\\code{Head}: 29).\n",
       "\n",
       "\n",
       "\\end{description}\n",
       "\n",
       "\\end{Format}\n",
       "%\n",
       "\\begin{References}\\relax\n",
       "Venables, W. N. and Ripley, B. D. (2002)\n",
       "\\emph{Modern Applied Statistics with S.} Fourth edition.  Springer.\n",
       "\\end{References}"
      ],
      "text/plain": [
       "fgl                    package:MASS                    R Documentation\n",
       "\n",
       "_\bM_\be_\ba_\bs_\bu_\br_\be_\bm_\be_\bn_\bt_\bs _\bo_\bf _\bF_\bo_\br_\be_\bn_\bs_\bi_\bc _\bG_\bl_\ba_\bs_\bs _\bF_\br_\ba_\bg_\bm_\be_\bn_\bt_\bs\n",
       "\n",
       "_\bD_\be_\bs_\bc_\br_\bi_\bp_\bt_\bi_\bo_\bn:\n",
       "\n",
       "     The ‘fgl’ data frame has 214 rows and 10 columns. It was collected\n",
       "     by B. German on fragments of glass collected in forensic work.\n",
       "\n",
       "_\bU_\bs_\ba_\bg_\be:\n",
       "\n",
       "     fgl\n",
       "     \n",
       "_\bF_\bo_\br_\bm_\ba_\bt:\n",
       "\n",
       "     This data frame contains the following columns:\n",
       "\n",
       "     ‘RI’ refractive index; more precisely the refractive index is\n",
       "          1.518xxxx.\n",
       "\n",
       "          The next 8 measurements are percentages by weight of oxides.\n",
       "\n",
       "     ‘Na’ sodium.\n",
       "\n",
       "     ‘Mg’ manganese.\n",
       "\n",
       "     ‘Al’ aluminium.\n",
       "\n",
       "     ‘Si’ silicon.\n",
       "\n",
       "     ‘K’ potassium.\n",
       "\n",
       "     ‘Ca’ calcium.\n",
       "\n",
       "     ‘Ba’ barium.\n",
       "\n",
       "     ‘Fe’ iron.\n",
       "\n",
       "     ‘type’ The fragments were originally classed into seven types, one\n",
       "          of which was absent in this dataset.  The categories which\n",
       "          occur are window float glass (‘WinF’: 70), window non-float\n",
       "          glass (‘WinNF’: 76), vehicle window glass (‘Veh’: 17),\n",
       "          containers (‘Con’: 13), tableware (‘Tabl’: 9) and vehicle\n",
       "          headlamps (‘Head’: 29).\n",
       "\n",
       "_\bR_\be_\bf_\be_\br_\be_\bn_\bc_\be_\bs:\n",
       "\n",
       "     Venables, W. N. and Ripley, B. D. (2002) _Modern Applied\n",
       "     Statistics with S._ Fourth edition.  Springer.\n"
      ]
     },
     "execution_count": 1,
     "metadata": {},
     "output_type": "execute_result"
    }
   ],
   "source": [
    "library(MASS)\n",
    "?fgl"
   ]
  },
  {
   "cell_type": "code",
   "execution_count": 2,
   "metadata": {
    "collapsed": true
   },
   "outputs": [],
   "source": [
    "fgl = fgl"
   ]
  },
  {
   "cell_type": "code",
   "execution_count": 3,
   "metadata": {
    "collapsed": false
   },
   "outputs": [
    {
     "name": "stdout",
     "output_type": "stream",
     "text": [
      "'data.frame':\t214 obs. of  10 variables:\n",
      " $ RI  : num  3.01 -0.39 -1.82 -0.34 -0.58 ...\n",
      " $ Na  : num  13.6 13.9 13.5 13.2 13.3 ...\n",
      " $ Mg  : num  4.49 3.6 3.55 3.69 3.62 3.61 3.6 3.61 3.58 3.6 ...\n",
      " $ Al  : num  1.1 1.36 1.54 1.29 1.24 1.62 1.14 1.05 1.37 1.36 ...\n",
      " $ Si  : num  71.8 72.7 73 72.6 73.1 ...\n",
      " $ K   : num  0.06 0.48 0.39 0.57 0.55 0.64 0.58 0.57 0.56 0.57 ...\n",
      " $ Ca  : num  8.75 7.83 7.78 8.22 8.07 8.07 8.17 8.24 8.3 8.4 ...\n",
      " $ Ba  : num  0 0 0 0 0 0 0 0 0 0 ...\n",
      " $ Fe  : num  0 0 0 0 0 0.26 0 0 0 0.11 ...\n",
      " $ type: Factor w/ 6 levels \"WinF\",\"WinNF\",..: 1 1 1 1 1 1 1 1 1 1 ...\n"
     ]
    }
   ],
   "source": [
    "str(fgl)"
   ]
  },
  {
   "cell_type": "code",
   "execution_count": 4,
   "metadata": {
    "collapsed": false
   },
   "outputs": [
    {
     "data": {
      "text/plain": [
       "       RI                Na              Mg              Al       \n",
       " Min.   :-6.8500   Min.   :10.73   Min.   :0.000   Min.   :0.290  \n",
       " 1st Qu.:-1.4775   1st Qu.:12.91   1st Qu.:2.115   1st Qu.:1.190  \n",
       " Median :-0.3200   Median :13.30   Median :3.480   Median :1.360  \n",
       " Mean   : 0.3654   Mean   :13.41   Mean   :2.685   Mean   :1.445  \n",
       " 3rd Qu.: 1.1575   3rd Qu.:13.82   3rd Qu.:3.600   3rd Qu.:1.630  \n",
       " Max.   :15.9300   Max.   :17.38   Max.   :4.490   Max.   :3.500  \n",
       "       Si              K                Ca               Ba       \n",
       " Min.   :69.81   Min.   :0.0000   Min.   : 5.430   Min.   :0.000  \n",
       " 1st Qu.:72.28   1st Qu.:0.1225   1st Qu.: 8.240   1st Qu.:0.000  \n",
       " Median :72.79   Median :0.5550   Median : 8.600   Median :0.000  \n",
       " Mean   :72.65   Mean   :0.4971   Mean   : 8.957   Mean   :0.175  \n",
       " 3rd Qu.:73.09   3rd Qu.:0.6100   3rd Qu.: 9.172   3rd Qu.:0.000  \n",
       " Max.   :75.41   Max.   :6.2100   Max.   :16.190   Max.   :3.150  \n",
       "       Fe             type   \n",
       " Min.   :0.00000   WinF :70  \n",
       " 1st Qu.:0.00000   WinNF:76  \n",
       " Median :0.00000   Veh  :17  \n",
       " Mean   :0.05701   Con  :13  \n",
       " 3rd Qu.:0.10000   Tabl : 9  \n",
       " Max.   :0.51000   Head :29  "
      ]
     },
     "execution_count": 4,
     "metadata": {},
     "output_type": "execute_result"
    }
   ],
   "source": [
    "summary(fgl)"
   ]
  },
  {
   "cell_type": "code",
   "execution_count": 7,
   "metadata": {
    "collapsed": true
   },
   "outputs": [],
   "source": [
    "type = fgl[,10]"
   ]
  },
  {
   "cell_type": "code",
   "execution_count": 12,
   "metadata": {
    "collapsed": true
   },
   "outputs": [],
   "source": [
    "std_fgl = scale(fgl[,-10])"
   ]
  },
  {
   "cell_type": "code",
   "execution_count": 60,
   "metadata": {
    "collapsed": false
   },
   "outputs": [],
   "source": [
    "set.seed(1)\n",
    "\n",
    "test = sample(1:214,150)\n",
    "train = -test\n",
    "\n",
    "training_data = std_fgl[train,]\n",
    "testing_data = std_fgl[test,]\n",
    "\n",
    "type = fgl[,10] # save the type column in a seperate variable\n",
    "\n",
    "testing_y = type[test]\n",
    "training_y = type[train]"
   ]
  },
  {
   "cell_type": "code",
   "execution_count": 61,
   "metadata": {
    "collapsed": false
   },
   "outputs": [],
   "source": [
    "library(FNN)"
   ]
  },
  {
   "cell_type": "code",
   "execution_count": 62,
   "metadata": {
    "collapsed": false
   },
   "outputs": [
    {
     "data": {
      "text/html": [
       "<ol class=list-inline>\n",
       "\t<li>WinF</li>\n",
       "\t<li>WinNF</li>\n",
       "\t<li>WinF</li>\n",
       "\t<li>Head</li>\n",
       "\t<li>WinF</li>\n",
       "\t<li>WinF</li>\n",
       "</ol>\n"
      ],
      "text/latex": [
       "\\begin{enumerate*}\n",
       "\\item WinF\n",
       "\\item WinNF\n",
       "\\item WinF\n",
       "\\item Head\n",
       "\\item WinF\n",
       "\\item WinF\n",
       "\\end{enumerate*}\n"
      ],
      "text/markdown": [
       "1. WinF\n",
       "2. WinNF\n",
       "3. WinF\n",
       "4. Head\n",
       "5. WinF\n",
       "6. WinF\n",
       "\n",
       "\n"
      ],
      "text/plain": [
       "[1] WinF  WinNF WinF  Head  WinF  WinF \n",
       "Levels: Con Head Tabl Veh WinF WinNF"
      ]
     },
     "execution_count": 62,
     "metadata": {},
     "output_type": "execute_result"
    }
   ],
   "source": [
    "predicted_y = knn(training_data, testing_data, training_y, k=1)\n",
    "head(predicted_y)"
   ]
  },
  {
   "cell_type": "code",
   "execution_count": 63,
   "metadata": {
    "collapsed": false
   },
   "outputs": [
    {
     "data": {
      "text/html": [
       "0.326666666666667"
      ],
      "text/latex": [
       "0.326666666666667"
      ],
      "text/markdown": [
       "0.326666666666667"
      ],
      "text/plain": [
       "[1] 0.3266667"
      ]
     },
     "execution_count": 63,
     "metadata": {},
     "output_type": "execute_result"
    }
   ],
   "source": [
    "mean(predicted_y != testing_y)"
   ]
  },
  {
   "cell_type": "code",
   "execution_count": 53,
   "metadata": {
    "collapsed": false
   },
   "outputs": [
    {
     "data": {
      "text/html": [
       "0.326666666666667"
      ],
      "text/latex": [
       "0.326666666666667"
      ],
      "text/markdown": [
       "0.326666666666667"
      ],
      "text/plain": [
       "[1] 0.3266667"
      ]
     },
     "execution_count": 53,
     "metadata": {},
     "output_type": "execute_result"
    }
   ],
   "source": [
    "MSE = mean((predicted_y != testing_y))\n",
    "MSE"
   ]
  },
  {
   "cell_type": "code",
   "execution_count": 54,
   "metadata": {
    "collapsed": false
   },
   "outputs": [
    {
     "data": {
      "text/plain": [
       "         predicted_y\n",
       "testing_y Con Head Tabl Veh WinF WinNF\n",
       "    WinF    0    0    0   2   34     8\n",
       "    WinNF   4    0    0   1   16    35\n",
       "    Veh     0    0    0   3    5     5\n",
       "    Con     4    1    0   0    1     0\n",
       "    Tabl    0    0    5   0    0     1\n",
       "    Head    1   20    0   0    3     1"
      ]
     },
     "execution_count": 54,
     "metadata": {},
     "output_type": "execute_result"
    }
   ],
   "source": [
    "table(testing_y,predicted_y)"
   ]
  },
  {
   "cell_type": "code",
   "execution_count": 90,
   "metadata": {
    "collapsed": false
   },
   "outputs": [
    {
     "name": "stdout",
     "output_type": "stream",
     "text": [
      "\n",
      "\n",
      "\n",
      "\n",
      "\n",
      "\n",
      "\n"
     ]
    }
   ],
   "source": [
    "ME = NULL\n",
    "\n",
    "for(i in 1:7){\n",
    "  set.seed(1)\n",
    "  predicted_y = knn(training_data,testing_data,training_y,k=i)\n",
    "  \n",
    "  ME[i] = mean(predicted_y != testing_y)\n",
    "  \n",
    "  #print(i)  # print k\n",
    "  #print(table(testing_y,predicted_y)) # prink confusion matrix\n",
    "  cat(\"\\n\")  \n",
    "}\n",
    "#print (round(ME,3)) # print mean error"
   ]
  },
  {
   "cell_type": "code",
   "execution_count": 92,
   "metadata": {
    "collapsed": false
   },
   "outputs": [
    {
     "name": "stdout",
     "output_type": "stream",
     "text": [
      "[1] 0.3266667\n",
      "[1] 1\n"
     ]
    }
   ],
   "source": [
    "min_error_rate = min(ME)\n",
    "K = which(ME == min_error_rate)\n",
    "print(min_error_rate)\n",
    "print (K)"
   ]
  },
  {
   "cell_type": "code",
   "execution_count": 83,
   "metadata": {
    "collapsed": false
   },
   "outputs": [
    {
     "data": {
      "image/png": "[encoded data removed]",
      "image/svg+xml": [
       "<?xml version=\"1.0\" encoding=\"UTF-8\"?>\n",
       "<svg xmlns=\"http://www.w3.org/2000/svg\" xmlns:xlink=\"http://www.w3.org/1999/xlink\" width=\"504pt\" height=\"504pt\" viewBox=\"0 0 504 504\" version=\"1.1\">\n",
       "<defs>\n",
       "<g>\n",
       "<symbol overflow=\"visible\" id=\"glyph0-0\">\n",
       "<path style=\"stroke:none;\" d=\"M 0.390625 0 L 0.390625 -8.609375 L 7.21875 -8.609375 L 7.21875 0 Z M 6.140625 -1.078125 L 6.140625 -7.53125 L 1.46875 -7.53125 L 1.46875 -1.078125 Z M 6.140625 -1.078125 \"/>\n",
       "</symbol>\n",
       "<symbol overflow=\"visible\" id=\"glyph0-1\">\n",
       "<path style=\"stroke:none;\" d=\"M 1.15625 -5.9375 L 1.15625 -6.75 C 1.914062 -6.820312 2.441406 -6.945312 2.734375 -7.125 C 3.035156 -7.300781 3.265625 -7.710938 3.421875 -8.359375 L 4.25 -8.359375 L 4.25 0 L 3.125 0 L 3.125 -5.9375 Z M 1.15625 -5.9375 \"/>\n",
       "</symbol>\n",
       "<symbol overflow=\"visible\" id=\"glyph0-2\">\n",
       "<path style=\"stroke:none;\" d=\"M 0.375 0 C 0.414062 -0.71875 0.566406 -1.34375 0.828125 -1.875 C 1.085938 -2.414062 1.59375 -2.90625 2.34375 -3.34375 L 3.46875 -4 C 3.96875 -4.289062 4.320312 -4.539062 4.53125 -4.75 C 4.851562 -5.070312 5.015625 -5.441406 5.015625 -5.859375 C 5.015625 -6.347656 4.863281 -6.734375 4.5625 -7.015625 C 4.269531 -7.304688 3.882812 -7.453125 3.40625 -7.453125 C 2.675781 -7.453125 2.175781 -7.179688 1.90625 -6.640625 C 1.75 -6.335938 1.664062 -5.929688 1.65625 -5.421875 L 0.578125 -5.421875 C 0.585938 -6.148438 0.722656 -6.742188 0.984375 -7.203125 C 1.441406 -8.015625 2.25 -8.421875 3.40625 -8.421875 C 4.363281 -8.421875 5.0625 -8.160156 5.5 -7.640625 C 5.945312 -7.117188 6.171875 -6.539062 6.171875 -5.90625 C 6.171875 -5.238281 5.9375 -4.664062 5.46875 -4.1875 C 5.195312 -3.90625 4.707031 -3.566406 4 -3.171875 L 3.1875 -2.734375 C 2.8125 -2.523438 2.515625 -2.320312 2.296875 -2.125 C 1.898438 -1.789062 1.648438 -1.414062 1.546875 -1 L 6.140625 -1 L 6.140625 0 Z M 0.375 0 \"/>\n",
       "</symbol>\n",
       "<symbol overflow=\"visible\" id=\"glyph0-3\">\n",
       "<path style=\"stroke:none;\" d=\"M 3.125 0.234375 C 2.125 0.234375 1.398438 -0.0351562 0.953125 -0.578125 C 0.503906 -1.128906 0.28125 -1.796875 0.28125 -2.578125 L 1.390625 -2.578125 C 1.429688 -2.035156 1.53125 -1.640625 1.6875 -1.390625 C 1.96875 -0.953125 2.460938 -0.734375 3.171875 -0.734375 C 3.734375 -0.734375 4.179688 -0.878906 4.515625 -1.171875 C 4.847656 -1.472656 5.015625 -1.859375 5.015625 -2.328125 C 5.015625 -2.898438 4.835938 -3.300781 4.484375 -3.53125 C 4.128906 -3.769531 3.640625 -3.890625 3.015625 -3.890625 C 2.941406 -3.890625 2.867188 -3.882812 2.796875 -3.875 C 2.722656 -3.875 2.648438 -3.875 2.578125 -3.875 L 2.578125 -4.8125 C 2.691406 -4.789062 2.785156 -4.78125 2.859375 -4.78125 C 2.929688 -4.78125 3.007812 -4.78125 3.09375 -4.78125 C 3.488281 -4.78125 3.8125 -4.84375 4.0625 -4.96875 C 4.507812 -5.1875 4.734375 -5.578125 4.734375 -6.140625 C 4.734375 -6.554688 4.582031 -6.875 4.28125 -7.09375 C 3.988281 -7.320312 3.644531 -7.4375 3.25 -7.4375 C 2.550781 -7.4375 2.066406 -7.203125 1.796875 -6.734375 C 1.648438 -6.484375 1.566406 -6.117188 1.546875 -5.640625 L 0.5 -5.640625 C 0.5 -6.265625 0.625 -6.796875 0.875 -7.234375 C 1.300781 -8.015625 2.054688 -8.40625 3.140625 -8.40625 C 3.992188 -8.40625 4.65625 -8.210938 5.125 -7.828125 C 5.59375 -7.453125 5.828125 -6.898438 5.828125 -6.171875 C 5.828125 -5.660156 5.691406 -5.242188 5.421875 -4.921875 C 5.242188 -4.722656 5.019531 -4.566406 4.75 -4.453125 C 5.1875 -4.328125 5.53125 -4.09375 5.78125 -3.75 C 6.03125 -3.40625 6.15625 -2.984375 6.15625 -2.484375 C 6.15625 -1.679688 5.890625 -1.023438 5.359375 -0.515625 C 4.835938 -0.015625 4.09375 0.234375 3.125 0.234375 Z M 3.125 0.234375 \"/>\n",
       "</symbol>\n",
       "<symbol overflow=\"visible\" id=\"glyph0-4\">\n",
       "<path style=\"stroke:none;\" d=\"M 3.96875 -2.96875 L 3.96875 -6.78125 L 1.28125 -2.96875 Z M 3.984375 0 L 3.984375 -2.046875 L 0.3125 -2.046875 L 0.3125 -3.078125 L 4.15625 -8.421875 L 5.046875 -8.421875 L 5.046875 -2.96875 L 6.28125 -2.96875 L 6.28125 -2.046875 L 5.046875 -2.046875 L 5.046875 0 Z M 3.984375 0 \"/>\n",
       "</symbol>\n",
       "<symbol overflow=\"visible\" id=\"glyph0-5\">\n",
       "<path style=\"stroke:none;\" d=\"M 1.484375 -2.140625 C 1.554688 -1.535156 1.835938 -1.117188 2.328125 -0.890625 C 2.578125 -0.773438 2.863281 -0.71875 3.1875 -0.71875 C 3.8125 -0.71875 4.273438 -0.914062 4.578125 -1.3125 C 4.878906 -1.707031 5.03125 -2.148438 5.03125 -2.640625 C 5.03125 -3.222656 4.847656 -3.675781 4.484375 -4 C 4.128906 -4.320312 3.703125 -4.484375 3.203125 -4.484375 C 2.835938 -4.484375 2.523438 -4.410156 2.265625 -4.265625 C 2.003906 -4.128906 1.785156 -3.9375 1.609375 -3.6875 L 0.6875 -3.734375 L 1.328125 -8.25 L 5.6875 -8.25 L 5.6875 -7.234375 L 2.125 -7.234375 L 1.765625 -4.90625 C 1.960938 -5.050781 2.148438 -5.160156 2.328125 -5.234375 C 2.640625 -5.359375 3 -5.421875 3.40625 -5.421875 C 4.175781 -5.421875 4.828125 -5.171875 5.359375 -4.671875 C 5.898438 -4.179688 6.171875 -3.554688 6.171875 -2.796875 C 6.171875 -2.003906 5.921875 -1.300781 5.421875 -0.6875 C 4.929688 -0.0820312 4.148438 0.21875 3.078125 0.21875 C 2.398438 0.21875 1.796875 0.0234375 1.265625 -0.359375 C 0.742188 -0.742188 0.453125 -1.335938 0.390625 -2.140625 Z M 1.484375 -2.140625 \"/>\n",
       "</symbol>\n",
       "<symbol overflow=\"visible\" id=\"glyph0-6\">\n",
       "<path style=\"stroke:none;\" d=\"M 3.515625 -8.421875 C 4.453125 -8.421875 5.101562 -8.175781 5.46875 -7.6875 C 5.84375 -7.207031 6.03125 -6.707031 6.03125 -6.1875 L 4.984375 -6.1875 C 4.921875 -6.519531 4.820312 -6.78125 4.6875 -6.96875 C 4.425781 -7.320312 4.039062 -7.5 3.53125 -7.5 C 2.9375 -7.5 2.460938 -7.222656 2.109375 -6.671875 C 1.765625 -6.128906 1.578125 -5.351562 1.546875 -4.34375 C 1.785156 -4.695312 2.085938 -4.960938 2.453125 -5.140625 C 2.785156 -5.296875 3.160156 -5.375 3.578125 -5.375 C 4.285156 -5.375 4.898438 -5.148438 5.421875 -4.703125 C 5.941406 -4.253906 6.203125 -3.582031 6.203125 -2.6875 C 6.203125 -1.925781 5.953125 -1.25 5.453125 -0.65625 C 4.960938 -0.0703125 4.257812 0.21875 3.34375 0.21875 C 2.550781 0.21875 1.867188 -0.078125 1.296875 -0.671875 C 0.734375 -1.273438 0.453125 -2.28125 0.453125 -3.6875 C 0.453125 -4.726562 0.578125 -5.613281 0.828125 -6.34375 C 1.316406 -7.726562 2.210938 -8.421875 3.515625 -8.421875 Z M 3.4375 -0.71875 C 3.988281 -0.71875 4.398438 -0.90625 4.671875 -1.28125 C 4.953125 -1.65625 5.09375 -2.097656 5.09375 -2.609375 C 5.09375 -3.035156 4.96875 -3.441406 4.71875 -3.828125 C 4.476562 -4.210938 4.03125 -4.40625 3.375 -4.40625 C 2.925781 -4.40625 2.53125 -4.253906 2.1875 -3.953125 C 1.84375 -3.660156 1.671875 -3.210938 1.671875 -2.609375 C 1.671875 -2.078125 1.828125 -1.628906 2.140625 -1.265625 C 2.453125 -0.898438 2.882812 -0.71875 3.4375 -0.71875 Z M 3.4375 -0.71875 \"/>\n",
       "</symbol>\n",
       "<symbol overflow=\"visible\" id=\"glyph0-7\">\n",
       "<path style=\"stroke:none;\" d=\"M 6.28125 -8.25 L 6.28125 -7.328125 C 6.007812 -7.066406 5.648438 -6.613281 5.203125 -5.96875 C 4.753906 -5.320312 4.359375 -4.625 4.015625 -3.875 C 3.671875 -3.132812 3.410156 -2.46875 3.234375 -1.875 C 3.128906 -1.488281 2.984375 -0.863281 2.796875 0 L 1.640625 0 C 1.898438 -1.601562 2.484375 -3.195312 3.390625 -4.78125 C 3.929688 -5.707031 4.492188 -6.507812 5.078125 -7.1875 L 0.4375 -7.1875 L 0.4375 -8.25 Z M 6.28125 -8.25 \"/>\n",
       "</symbol>\n",
       "<symbol overflow=\"visible\" id=\"glyph0-8\">\n",
       "<path style=\"stroke:none;\" d=\"M 0.921875 -8.609375 L 2.046875 -8.609375 L 2.046875 -4.40625 L 6.25 -8.609375 L 7.859375 -8.609375 L 4.28125 -5.140625 L 7.953125 0 L 6.4375 0 L 3.421875 -4.3125 L 2.046875 -3 L 2.046875 0 L 0.921875 0 Z M 0.921875 -8.609375 \"/>\n",
       "</symbol>\n",
       "<symbol overflow=\"visible\" id=\"glyph1-0\">\n",
       "<path style=\"stroke:none;\" d=\"M 0 -0.390625 L -8.609375 -0.390625 L -8.609375 -7.21875 L 0 -7.21875 Z M -1.078125 -6.140625 L -7.53125 -6.140625 L -7.53125 -1.46875 L -1.078125 -1.46875 Z M -1.078125 -6.140625 \"/>\n",
       "</symbol>\n",
       "<symbol overflow=\"visible\" id=\"glyph1-1\">\n",
       "<path style=\"stroke:none;\" d=\"M -8.390625 -3.25 C -8.390625 -4.332031 -7.941406 -5.117188 -7.046875 -5.609375 C -6.359375 -5.984375 -5.410156 -6.171875 -4.203125 -6.171875 C -3.066406 -6.171875 -2.125 -6 -1.375 -5.65625 C -0.300781 -5.164062 0.234375 -4.359375 0.234375 -3.234375 C 0.234375 -2.234375 -0.203125 -1.484375 -1.078125 -0.984375 C -1.816406 -0.578125 -2.800781 -0.375 -4.03125 -0.375 C -4.976562 -0.375 -5.796875 -0.5 -6.484375 -0.75 C -7.753906 -1.207031 -8.390625 -2.039062 -8.390625 -3.25 Z M -0.734375 -3.234375 C -0.734375 -3.785156 -0.972656 -4.222656 -1.453125 -4.546875 C -1.941406 -4.867188 -2.847656 -5.03125 -4.171875 -5.03125 C -5.117188 -5.03125 -5.898438 -4.910156 -6.515625 -4.671875 C -7.128906 -4.441406 -7.4375 -3.988281 -7.4375 -3.3125 C -7.4375 -2.6875 -7.144531 -2.226562 -6.5625 -1.9375 C -5.976562 -1.65625 -5.117188 -1.515625 -3.984375 -1.515625 C -3.128906 -1.515625 -2.441406 -1.609375 -1.921875 -1.796875 C -1.128906 -2.078125 -0.734375 -2.554688 -0.734375 -3.234375 Z M -0.734375 -3.234375 \"/>\n",
       "</symbol>\n",
       "<symbol overflow=\"visible\" id=\"glyph1-2\">\n",
       "<path style=\"stroke:none;\" d=\"M -5.9375 -1.15625 L -6.75 -1.15625 C -6.820312 -1.914062 -6.945312 -2.441406 -7.125 -2.734375 C -7.300781 -3.035156 -7.710938 -3.265625 -8.359375 -3.421875 L -8.359375 -4.25 L 0 -4.25 L 0 -3.125 L -5.9375 -3.125 Z M -5.9375 -1.15625 \"/>\n",
       "</symbol>\n",
       "<symbol overflow=\"visible\" id=\"glyph1-3\">\n",
       "<path style=\"stroke:none;\" d=\"M 0 -0.375 C -0.71875 -0.414062 -1.34375 -0.566406 -1.875 -0.828125 C -2.414062 -1.085938 -2.90625 -1.59375 -3.34375 -2.34375 L -4 -3.46875 C -4.289062 -3.96875 -4.539062 -4.320312 -4.75 -4.53125 C -5.070312 -4.851562 -5.441406 -5.015625 -5.859375 -5.015625 C -6.347656 -5.015625 -6.734375 -4.863281 -7.015625 -4.5625 C -7.304688 -4.269531 -7.453125 -3.882812 -7.453125 -3.40625 C -7.453125 -2.675781 -7.179688 -2.175781 -6.640625 -1.90625 C -6.335938 -1.75 -5.929688 -1.664062 -5.421875 -1.65625 L -5.421875 -0.578125 C -6.148438 -0.585938 -6.742188 -0.722656 -7.203125 -0.984375 C -8.015625 -1.441406 -8.421875 -2.25 -8.421875 -3.40625 C -8.421875 -4.363281 -8.160156 -5.0625 -7.640625 -5.5 C -7.117188 -5.945312 -6.539062 -6.171875 -5.90625 -6.171875 C -5.238281 -6.171875 -4.664062 -5.9375 -4.1875 -5.46875 C -3.90625 -5.195312 -3.566406 -4.707031 -3.171875 -4 L -2.734375 -3.1875 C -2.523438 -2.8125 -2.320312 -2.515625 -2.125 -2.296875 C -1.789062 -1.898438 -1.414062 -1.648438 -1 -1.546875 L -1 -6.140625 L 0 -6.140625 Z M 0 -0.375 \"/>\n",
       "</symbol>\n",
       "<symbol overflow=\"visible\" id=\"glyph1-4\">\n",
       "<path style=\"stroke:none;\" d=\"M 0.234375 -3.125 C 0.234375 -2.125 -0.0351562 -1.398438 -0.578125 -0.953125 C -1.128906 -0.503906 -1.796875 -0.28125 -2.578125 -0.28125 L -2.578125 -1.390625 C -2.035156 -1.429688 -1.640625 -1.53125 -1.390625 -1.6875 C -0.953125 -1.96875 -0.734375 -2.460938 -0.734375 -3.171875 C -0.734375 -3.734375 -0.878906 -4.179688 -1.171875 -4.515625 C -1.472656 -4.847656 -1.859375 -5.015625 -2.328125 -5.015625 C -2.898438 -5.015625 -3.300781 -4.835938 -3.53125 -4.484375 C -3.769531 -4.128906 -3.890625 -3.640625 -3.890625 -3.015625 C -3.890625 -2.941406 -3.882812 -2.867188 -3.875 -2.796875 C -3.875 -2.722656 -3.875 -2.648438 -3.875 -2.578125 L -4.8125 -2.578125 C -4.789062 -2.691406 -4.78125 -2.785156 -4.78125 -2.859375 C -4.78125 -2.929688 -4.78125 -3.007812 -4.78125 -3.09375 C -4.78125 -3.488281 -4.84375 -3.8125 -4.96875 -4.0625 C -5.1875 -4.507812 -5.578125 -4.734375 -6.140625 -4.734375 C -6.554688 -4.734375 -6.875 -4.582031 -7.09375 -4.28125 C -7.320312 -3.988281 -7.4375 -3.644531 -7.4375 -3.25 C -7.4375 -2.550781 -7.203125 -2.066406 -6.734375 -1.796875 C -6.484375 -1.648438 -6.117188 -1.566406 -5.640625 -1.546875 L -5.640625 -0.5 C -6.265625 -0.5 -6.796875 -0.625 -7.234375 -0.875 C -8.015625 -1.300781 -8.40625 -2.054688 -8.40625 -3.140625 C -8.40625 -3.992188 -8.210938 -4.65625 -7.828125 -5.125 C -7.453125 -5.59375 -6.898438 -5.828125 -6.171875 -5.828125 C -5.660156 -5.828125 -5.242188 -5.691406 -4.921875 -5.421875 C -4.722656 -5.242188 -4.566406 -5.019531 -4.453125 -4.75 C -4.328125 -5.1875 -4.09375 -5.53125 -3.75 -5.78125 C -3.40625 -6.03125 -2.984375 -6.15625 -2.484375 -6.15625 C -1.679688 -6.15625 -1.023438 -5.890625 -0.515625 -5.359375 C -0.015625 -4.835938 0.234375 -4.09375 0.234375 -3.125 Z M 0.234375 -3.125 \"/>\n",
       "</symbol>\n",
       "<symbol overflow=\"visible\" id=\"glyph1-5\">\n",
       "<path style=\"stroke:none;\" d=\"M -2.96875 -3.96875 L -6.78125 -3.96875 L -2.96875 -1.28125 Z M 0 -3.984375 L -2.046875 -3.984375 L -2.046875 -0.3125 L -3.078125 -0.3125 L -8.421875 -4.15625 L -8.421875 -5.046875 L -2.96875 -5.046875 L -2.96875 -6.28125 L -2.046875 -6.28125 L -2.046875 -5.046875 L 0 -5.046875 Z M 0 -3.984375 \"/>\n",
       "</symbol>\n",
       "<symbol overflow=\"visible\" id=\"glyph1-6\">\n",
       "<path style=\"stroke:none;\" d=\"M -2.140625 -1.484375 C -1.535156 -1.554688 -1.117188 -1.835938 -0.890625 -2.328125 C -0.773438 -2.578125 -0.71875 -2.863281 -0.71875 -3.1875 C -0.71875 -3.8125 -0.914062 -4.273438 -1.3125 -4.578125 C -1.707031 -4.878906 -2.148438 -5.03125 -2.640625 -5.03125 C -3.222656 -5.03125 -3.675781 -4.847656 -4 -4.484375 C -4.320312 -4.128906 -4.484375 -3.703125 -4.484375 -3.203125 C -4.484375 -2.835938 -4.410156 -2.523438 -4.265625 -2.265625 C -4.128906 -2.003906 -3.9375 -1.785156 -3.6875 -1.609375 L -3.734375 -0.6875 L -8.25 -1.328125 L -8.25 -5.6875 L -7.234375 -5.6875 L -7.234375 -2.125 L -4.90625 -1.765625 C -5.050781 -1.960938 -5.160156 -2.148438 -5.234375 -2.328125 C -5.359375 -2.640625 -5.421875 -3 -5.421875 -3.40625 C -5.421875 -4.175781 -5.171875 -4.828125 -4.671875 -5.359375 C -4.179688 -5.898438 -3.554688 -6.171875 -2.796875 -6.171875 C -2.003906 -6.171875 -1.300781 -5.921875 -0.6875 -5.421875 C -0.0820312 -4.929688 0.21875 -4.148438 0.21875 -3.078125 C 0.21875 -2.398438 0.0234375 -1.796875 -0.359375 -1.265625 C -0.742188 -0.742188 -1.335938 -0.453125 -2.140625 -0.390625 Z M -2.140625 -1.484375 \"/>\n",
       "</symbol>\n",
       "<symbol overflow=\"visible\" id=\"glyph1-7\">\n",
       "<path style=\"stroke:none;\" d=\"M -8.609375 -1.03125 L -8.609375 -7.296875 L -7.546875 -7.296875 L -7.546875 -2.15625 L -4.9375 -2.15625 L -4.9375 -6.921875 L -3.9375 -6.921875 L -3.9375 -2.15625 L -1.03125 -2.15625 L -1.03125 -7.390625 L 0 -7.390625 L 0 -1.03125 Z M -8.609375 -4.203125 Z M -8.609375 -4.203125 \"/>\n",
       "</symbol>\n",
       "<symbol overflow=\"visible\" id=\"glyph1-8\">\n",
       "<path style=\"stroke:none;\" d=\"M -6.28125 -0.796875 L -6.28125 -1.8125 L -5.1875 -1.8125 C -5.40625 -1.882812 -5.664062 -2.082031 -5.96875 -2.40625 C -6.269531 -2.726562 -6.421875 -3.097656 -6.421875 -3.515625 C -6.421875 -3.535156 -6.414062 -3.566406 -6.40625 -3.609375 C -6.40625 -3.660156 -6.398438 -3.742188 -6.390625 -3.859375 L -5.28125 -3.859375 C -5.289062 -3.796875 -5.296875 -3.738281 -5.296875 -3.6875 C -5.296875 -3.632812 -5.296875 -3.578125 -5.296875 -3.515625 C -5.296875 -2.984375 -5.125 -2.570312 -4.78125 -2.28125 C -4.445312 -2 -4.054688 -1.859375 -3.609375 -1.859375 L 0 -1.859375 L 0 -0.796875 Z M -6.28125 -0.796875 \"/>\n",
       "</symbol>\n",
       "<symbol overflow=\"visible\" id=\"glyph1-9\">\n",
       "<path style=\"stroke:none;\" d=\"M -0.6875 -3.265625 C -0.6875 -3.960938 -0.945312 -4.441406 -1.46875 -4.703125 C -2 -4.960938 -2.585938 -5.09375 -3.234375 -5.09375 C -3.828125 -5.09375 -4.304688 -5 -4.671875 -4.8125 C -5.242188 -4.507812 -5.53125 -4 -5.53125 -3.28125 C -5.53125 -2.632812 -5.285156 -2.164062 -4.796875 -1.875 C -4.304688 -1.582031 -3.710938 -1.4375 -3.015625 -1.4375 C -2.347656 -1.4375 -1.789062 -1.582031 -1.34375 -1.875 C -0.90625 -2.164062 -0.6875 -2.628906 -0.6875 -3.265625 Z M -6.453125 -3.3125 C -6.453125 -4.113281 -6.179688 -4.789062 -5.640625 -5.34375 C -5.109375 -5.90625 -4.316406 -6.1875 -3.265625 -6.1875 C -2.253906 -6.1875 -1.414062 -5.941406 -0.75 -5.453125 C -0.09375 -4.960938 0.234375 -4.203125 0.234375 -3.171875 C 0.234375 -2.304688 -0.0546875 -1.617188 -0.640625 -1.109375 C -1.234375 -0.597656 -2.019531 -0.34375 -3 -0.34375 C -4.050781 -0.34375 -4.890625 -0.609375 -5.515625 -1.140625 C -6.140625 -1.679688 -6.453125 -2.40625 -6.453125 -3.3125 Z M -6.421875 -3.265625 Z M -6.421875 -3.265625 \"/>\n",
       "</symbol>\n",
       "<symbol overflow=\"visible\" id=\"glyph1-10\">\n",
       "<path style=\"stroke:none;\" d=\"\"/>\n",
       "</symbol>\n",
       "<symbol overflow=\"visible\" id=\"glyph1-11\">\n",
       "<path style=\"stroke:none;\" d=\"M -4.671875 -4.921875 C -4.671875 -5.460938 -4.78125 -5.890625 -5 -6.203125 C -5.21875 -6.523438 -5.609375 -6.6875 -6.171875 -6.6875 C -6.785156 -6.6875 -7.207031 -6.46875 -7.4375 -6.03125 C -7.550781 -5.789062 -7.609375 -5.46875 -7.609375 -5.0625 L -7.609375 -2.21875 L -4.671875 -2.21875 Z M -8.609375 -1.0625 L -8.609375 -5.046875 C -8.609375 -5.703125 -8.515625 -6.238281 -8.328125 -6.65625 C -7.953125 -7.46875 -7.269531 -7.875 -6.28125 -7.875 C -5.769531 -7.875 -5.347656 -7.765625 -5.015625 -7.546875 C -4.691406 -7.335938 -4.429688 -7.039062 -4.234375 -6.65625 C -4.097656 -7 -3.914062 -7.253906 -3.6875 -7.421875 C -3.46875 -7.585938 -3.109375 -7.679688 -2.609375 -7.703125 L -1.453125 -7.75 C -1.128906 -7.757812 -0.882812 -7.785156 -0.71875 -7.828125 C -0.445312 -7.898438 -0.269531 -8.023438 -0.1875 -8.203125 L 0 -8.203125 L 0 -6.78125 C -0.0703125 -6.738281 -0.164062 -6.703125 -0.28125 -6.671875 C -0.40625 -6.648438 -0.632812 -6.632812 -0.96875 -6.625 L -2.40625 -6.546875 C -2.96875 -6.523438 -3.34375 -6.316406 -3.53125 -5.921875 C -3.632812 -5.703125 -3.6875 -5.351562 -3.6875 -4.875 L -3.6875 -2.21875 L 0 -2.21875 L 0 -1.0625 Z M -8.609375 -1.0625 \"/>\n",
       "</symbol>\n",
       "<symbol overflow=\"visible\" id=\"glyph1-12\">\n",
       "<path style=\"stroke:none;\" d=\"M -1.671875 -1.578125 C -1.367188 -1.578125 -1.128906 -1.6875 -0.953125 -1.90625 C -0.773438 -2.132812 -0.6875 -2.398438 -0.6875 -2.703125 C -0.6875 -3.078125 -0.769531 -3.4375 -0.9375 -3.78125 C -1.226562 -4.375 -1.695312 -4.671875 -2.34375 -4.671875 L -3.1875 -4.671875 C -3.113281 -4.535156 -3.046875 -4.363281 -2.984375 -4.15625 C -2.929688 -3.957031 -2.894531 -3.757812 -2.875 -3.5625 L -2.796875 -2.9375 C -2.742188 -2.550781 -2.660156 -2.257812 -2.546875 -2.0625 C -2.367188 -1.738281 -2.078125 -1.578125 -1.671875 -1.578125 Z M -3.796875 -4.140625 C -3.828125 -4.378906 -3.929688 -4.539062 -4.109375 -4.625 C -4.203125 -4.664062 -4.335938 -4.6875 -4.515625 -4.6875 C -4.867188 -4.6875 -5.125 -4.554688 -5.28125 -4.296875 C -5.445312 -4.046875 -5.53125 -3.6875 -5.53125 -3.21875 C -5.53125 -2.664062 -5.382812 -2.273438 -5.09375 -2.046875 C -4.925781 -1.910156 -4.679688 -1.820312 -4.359375 -1.78125 L -4.359375 -0.796875 C -5.128906 -0.816406 -5.664062 -1.066406 -5.96875 -1.546875 C -6.269531 -2.035156 -6.421875 -2.597656 -6.421875 -3.234375 C -6.421875 -3.972656 -6.28125 -4.570312 -6 -5.03125 C -5.71875 -5.488281 -5.28125 -5.71875 -4.6875 -5.71875 L -1.078125 -5.71875 C -0.972656 -5.71875 -0.882812 -5.738281 -0.8125 -5.78125 C -0.75 -5.832031 -0.71875 -5.929688 -0.71875 -6.078125 C -0.71875 -6.117188 -0.71875 -6.164062 -0.71875 -6.21875 C -0.726562 -6.28125 -0.738281 -6.347656 -0.75 -6.421875 L 0.03125 -6.421875 C 0.0703125 -6.253906 0.0976562 -6.125 0.109375 -6.03125 C 0.128906 -5.945312 0.140625 -5.832031 0.140625 -5.6875 C 0.140625 -5.320312 0.0078125 -5.0625 -0.25 -4.90625 C -0.382812 -4.8125 -0.578125 -4.75 -0.828125 -4.71875 C -0.546875 -4.5 -0.300781 -4.1875 -0.09375 -3.78125 C 0.113281 -3.382812 0.21875 -2.945312 0.21875 -2.46875 C 0.21875 -1.882812 0.0390625 -1.40625 -0.3125 -1.03125 C -0.664062 -0.664062 -1.109375 -0.484375 -1.640625 -0.484375 C -2.222656 -0.484375 -2.675781 -0.664062 -3 -1.03125 C -3.320312 -1.394531 -3.519531 -1.867188 -3.59375 -2.453125 Z M -6.421875 -3.265625 Z M -6.421875 -3.265625 \"/>\n",
       "</symbol>\n",
       "<symbol overflow=\"visible\" id=\"glyph1-13\">\n",
       "<path style=\"stroke:none;\" d=\"M -8.03125 -0.984375 L -8.03125 -2.046875 L -6.28125 -2.046875 L -6.28125 -3.046875 L -5.421875 -3.046875 L -5.421875 -2.046875 L -1.3125 -2.046875 C -1.09375 -2.046875 -0.945312 -2.125 -0.875 -2.28125 C -0.832031 -2.351562 -0.8125 -2.488281 -0.8125 -2.6875 C -0.8125 -2.738281 -0.8125 -2.789062 -0.8125 -2.84375 C -0.820312 -2.90625 -0.828125 -2.972656 -0.828125 -3.046875 L 0 -3.046875 C 0.03125 -2.929688 0.0507812 -2.804688 0.0625 -2.671875 C 0.0820312 -2.546875 0.09375 -2.40625 0.09375 -2.25 C 0.09375 -1.757812 -0.03125 -1.425781 -0.28125 -1.25 C -0.53125 -1.070312 -0.859375 -0.984375 -1.265625 -0.984375 L -5.421875 -0.984375 L -5.421875 -0.140625 L -6.28125 -0.140625 L -6.28125 -0.984375 Z M -8.03125 -0.984375 \"/>\n",
       "</symbol>\n",
       "<symbol overflow=\"visible\" id=\"glyph1-14\">\n",
       "<path style=\"stroke:none;\" d=\"M -6.421875 -3.390625 C -6.421875 -3.835938 -6.316406 -4.269531 -6.109375 -4.6875 C -5.898438 -5.101562 -5.628906 -5.421875 -5.296875 -5.640625 C -4.972656 -5.847656 -4.601562 -5.988281 -4.1875 -6.0625 C -3.894531 -6.125 -3.429688 -6.15625 -2.796875 -6.15625 L -2.796875 -1.546875 C -2.160156 -1.566406 -1.648438 -1.71875 -1.265625 -2 C -0.878906 -2.28125 -0.6875 -2.71875 -0.6875 -3.3125 C -0.6875 -3.863281 -0.867188 -4.300781 -1.234375 -4.625 C -1.441406 -4.8125 -1.6875 -4.945312 -1.96875 -5.03125 L -1.96875 -6.0625 C -1.738281 -6.039062 -1.484375 -5.953125 -1.203125 -5.796875 C -0.921875 -5.640625 -0.6875 -5.46875 -0.5 -5.28125 C -0.1875 -4.957031 0.0195312 -4.554688 0.125 -4.078125 C 0.1875 -3.828125 0.21875 -3.539062 0.21875 -3.21875 C 0.21875 -2.4375 -0.0625 -1.773438 -0.625 -1.234375 C -1.195312 -0.691406 -1.992188 -0.421875 -3.015625 -0.421875 C -4.023438 -0.421875 -4.84375 -0.691406 -5.46875 -1.234375 C -6.101562 -1.785156 -6.421875 -2.503906 -6.421875 -3.390625 Z M -3.640625 -5.0625 C -4.097656 -5.019531 -4.460938 -4.921875 -4.734375 -4.765625 C -5.242188 -4.484375 -5.5 -4.003906 -5.5 -3.328125 C -5.5 -2.835938 -5.320312 -2.425781 -4.96875 -2.09375 C -4.625 -1.769531 -4.179688 -1.597656 -3.640625 -1.578125 Z M -6.421875 -3.28125 Z M -6.421875 -3.28125 \"/>\n",
       "</symbol>\n",
       "</g>\n",
       "</defs>\n",
       "<g id=\"surface31\">\n",
       "<rect x=\"0\" y=\"0\" width=\"504\" height=\"504\" style=\"fill:rgb(100%,100%,100%);fill-opacity:1;stroke:none;\"/>\n",
       "<path style=\"fill:none;stroke-width:0.75;stroke-linecap:round;stroke-linejoin:round;stroke:rgb(0%,0%,0%);stroke-opacity:1;stroke-miterlimit:10;\" d=\"M 74.398438 192.054688 L 138.398438 150.773438 L 202.398438 164.535156 L 266.398438 137.011719 L 330.398438 132.425781 L 394.398438 118.667969 L 458.398438 104.90625 \"/>\n",
       "<path style=\"fill:none;stroke-width:0.75;stroke-linecap:round;stroke-linejoin:round;stroke:rgb(0%,0%,0%);stroke-opacity:1;stroke-miterlimit:10;\" d=\"M 74.398438 430.558594 L 458.398438 430.558594 \"/>\n",
       "<path style=\"fill:none;stroke-width:0.75;stroke-linecap:round;stroke-linejoin:round;stroke:rgb(0%,0%,0%);stroke-opacity:1;stroke-miterlimit:10;\" d=\"M 74.398438 430.558594 L 74.398438 437.761719 \"/>\n",
       "<path style=\"fill:none;stroke-width:0.75;stroke-linecap:round;stroke-linejoin:round;stroke:rgb(0%,0%,0%);stroke-opacity:1;stroke-miterlimit:10;\" d=\"M 138.398438 430.558594 L 138.398438 437.761719 \"/>\n",
       "<path style=\"fill:none;stroke-width:0.75;stroke-linecap:round;stroke-linejoin:round;stroke:rgb(0%,0%,0%);stroke-opacity:1;stroke-miterlimit:10;\" d=\"M 202.398438 430.558594 L 202.398438 437.761719 \"/>\n",
       "<path style=\"fill:none;stroke-width:0.75;stroke-linecap:round;stroke-linejoin:round;stroke:rgb(0%,0%,0%);stroke-opacity:1;stroke-miterlimit:10;\" d=\"M 266.398438 430.558594 L 266.398438 437.761719 \"/>\n",
       "<path style=\"fill:none;stroke-width:0.75;stroke-linecap:round;stroke-linejoin:round;stroke:rgb(0%,0%,0%);stroke-opacity:1;stroke-miterlimit:10;\" d=\"M 330.398438 430.558594 L 330.398438 437.761719 \"/>\n",
       "<path style=\"fill:none;stroke-width:0.75;stroke-linecap:round;stroke-linejoin:round;stroke:rgb(0%,0%,0%);stroke-opacity:1;stroke-miterlimit:10;\" d=\"M 394.398438 430.558594 L 394.398438 437.761719 \"/>\n",
       "<path style=\"fill:none;stroke-width:0.75;stroke-linecap:round;stroke-linejoin:round;stroke:rgb(0%,0%,0%);stroke-opacity:1;stroke-miterlimit:10;\" d=\"M 458.398438 430.558594 L 458.398438 437.761719 \"/>\n",
       "<g style=\"fill:rgb(0%,0%,0%);fill-opacity:1;\">\n",
       "  <use xlink:href=\"#glyph0-1\" x=\"71.0625\" y=\"456.480469\"/>\n",
       "</g>\n",
       "<g style=\"fill:rgb(0%,0%,0%);fill-opacity:1;\">\n",
       "  <use xlink:href=\"#glyph0-2\" x=\"135.0625\" y=\"456.480469\"/>\n",
       "</g>\n",
       "<g style=\"fill:rgb(0%,0%,0%);fill-opacity:1;\">\n",
       "  <use xlink:href=\"#glyph0-3\" x=\"199.0625\" y=\"456.480469\"/>\n",
       "</g>\n",
       "<g style=\"fill:rgb(0%,0%,0%);fill-opacity:1;\">\n",
       "  <use xlink:href=\"#glyph0-4\" x=\"263.0625\" y=\"456.480469\"/>\n",
       "</g>\n",
       "<g style=\"fill:rgb(0%,0%,0%);fill-opacity:1;\">\n",
       "  <use xlink:href=\"#glyph0-5\" x=\"327.0625\" y=\"456.480469\"/>\n",
       "</g>\n",
       "<g style=\"fill:rgb(0%,0%,0%);fill-opacity:1;\">\n",
       "  <use xlink:href=\"#glyph0-6\" x=\"391.0625\" y=\"456.480469\"/>\n",
       "</g>\n",
       "<g style=\"fill:rgb(0%,0%,0%);fill-opacity:1;\">\n",
       "  <use xlink:href=\"#glyph0-7\" x=\"455.0625\" y=\"456.480469\"/>\n",
       "</g>\n",
       "<path style=\"fill:none;stroke-width:0.75;stroke-linecap:round;stroke-linejoin:round;stroke:rgb(0%,0%,0%);stroke-opacity:1;stroke-miterlimit:10;\" d=\"M 59.039062 416.800781 L 59.039062 72.800781 \"/>\n",
       "<path style=\"fill:none;stroke-width:0.75;stroke-linecap:round;stroke-linejoin:round;stroke:rgb(0%,0%,0%);stroke-opacity:1;stroke-miterlimit:10;\" d=\"M 59.039062 416.800781 L 51.839844 416.800781 \"/>\n",
       "<path style=\"fill:none;stroke-width:0.75;stroke-linecap:round;stroke-linejoin:round;stroke:rgb(0%,0%,0%);stroke-opacity:1;stroke-miterlimit:10;\" d=\"M 59.039062 348 L 51.839844 348 \"/>\n",
       "<path style=\"fill:none;stroke-width:0.75;stroke-linecap:round;stroke-linejoin:round;stroke:rgb(0%,0%,0%);stroke-opacity:1;stroke-miterlimit:10;\" d=\"M 59.039062 279.199219 L 51.839844 279.199219 \"/>\n",
       "<path style=\"fill:none;stroke-width:0.75;stroke-linecap:round;stroke-linejoin:round;stroke:rgb(0%,0%,0%);stroke-opacity:1;stroke-miterlimit:10;\" d=\"M 59.039062 210.398438 L 51.839844 210.398438 \"/>\n",
       "<path style=\"fill:none;stroke-width:0.75;stroke-linecap:round;stroke-linejoin:round;stroke:rgb(0%,0%,0%);stroke-opacity:1;stroke-miterlimit:10;\" d=\"M 59.039062 141.601562 L 51.839844 141.601562 \"/>\n",
       "<path style=\"fill:none;stroke-width:0.75;stroke-linecap:round;stroke-linejoin:round;stroke:rgb(0%,0%,0%);stroke-opacity:1;stroke-miterlimit:10;\" d=\"M 59.039062 72.800781 L 51.839844 72.800781 \"/>\n",
       "<g style=\"fill:rgb(0%,0%,0%);fill-opacity:1;\">\n",
       "  <use xlink:href=\"#glyph1-1\" x=\"41.761719\" y=\"420.136719\"/>\n",
       "</g>\n",
       "<g style=\"fill:rgb(0%,0%,0%);fill-opacity:1;\">\n",
       "  <use xlink:href=\"#glyph1-2\" x=\"41.761719\" y=\"354.671875\"/>\n",
       "  <use xlink:href=\"#glyph1-1\" x=\"41.761719\" y=\"347.998047\"/>\n",
       "</g>\n",
       "<g style=\"fill:rgb(0%,0%,0%);fill-opacity:1;\">\n",
       "  <use xlink:href=\"#glyph1-3\" x=\"41.761719\" y=\"285.871094\"/>\n",
       "  <use xlink:href=\"#glyph1-1\" x=\"41.761719\" y=\"279.197266\"/>\n",
       "</g>\n",
       "<g style=\"fill:rgb(0%,0%,0%);fill-opacity:1;\">\n",
       "  <use xlink:href=\"#glyph1-4\" x=\"41.761719\" y=\"217.070312\"/>\n",
       "  <use xlink:href=\"#glyph1-1\" x=\"41.761719\" y=\"210.396484\"/>\n",
       "</g>\n",
       "<g style=\"fill:rgb(0%,0%,0%);fill-opacity:1;\">\n",
       "  <use xlink:href=\"#glyph1-5\" x=\"41.761719\" y=\"148.273438\"/>\n",
       "  <use xlink:href=\"#glyph1-1\" x=\"41.761719\" y=\"141.599609\"/>\n",
       "</g>\n",
       "<g style=\"fill:rgb(0%,0%,0%);fill-opacity:1;\">\n",
       "  <use xlink:href=\"#glyph1-6\" x=\"41.761719\" y=\"79.472656\"/>\n",
       "  <use xlink:href=\"#glyph1-1\" x=\"41.761719\" y=\"72.798828\"/>\n",
       "</g>\n",
       "<path style=\"fill:none;stroke-width:0.75;stroke-linecap:round;stroke-linejoin:round;stroke:rgb(0%,0%,0%);stroke-opacity:1;stroke-miterlimit:10;\" d=\"M 59.039062 430.558594 L 473.761719 430.558594 L 473.761719 59.039062 L 59.039062 59.039062 L 59.039062 430.558594 \"/>\n",
       "<g style=\"fill:rgb(0%,0%,0%);fill-opacity:1;\">\n",
       "  <use xlink:href=\"#glyph0-8\" x=\"262.398438\" y=\"485.28125\"/>\n",
       "</g>\n",
       "<g style=\"fill:rgb(0%,0%,0%);fill-opacity:1;\">\n",
       "  <use xlink:href=\"#glyph1-7\" x=\"12.960938\" y=\"272.472656\"/>\n",
       "  <use xlink:href=\"#glyph1-8\" x=\"12.960938\" y=\"264.46875\"/>\n",
       "  <use xlink:href=\"#glyph1-8\" x=\"12.960938\" y=\"260.472656\"/>\n",
       "  <use xlink:href=\"#glyph1-9\" x=\"12.960938\" y=\"256.476562\"/>\n",
       "  <use xlink:href=\"#glyph1-8\" x=\"12.960938\" y=\"249.802734\"/>\n",
       "  <use xlink:href=\"#glyph1-10\" x=\"12.960938\" y=\"245.806641\"/>\n",
       "  <use xlink:href=\"#glyph1-11\" x=\"12.960938\" y=\"242.472656\"/>\n",
       "  <use xlink:href=\"#glyph1-12\" x=\"12.960938\" y=\"233.806641\"/>\n",
       "  <use xlink:href=\"#glyph1-13\" x=\"12.960938\" y=\"227.132812\"/>\n",
       "  <use xlink:href=\"#glyph1-14\" x=\"12.960938\" y=\"223.798828\"/>\n",
       "</g>\n",
       "<path style=\"fill-rule:nonzero;fill:rgb(100%,0%,0%);fill-opacity:1;stroke-width:0.75;stroke-linecap:round;stroke-linejoin:round;stroke:rgb(100%,0%,0%);stroke-opacity:1;stroke-miterlimit:10;\" d=\"M 77.101562 192.054688 C 77.101562 195.652344 71.699219 195.652344 71.699219 192.054688 C 71.699219 188.453125 77.101562 188.453125 77.101562 192.054688 \"/>\n",
       "</g>\n",
       "</svg>\n"
      ],
      "text/plain": [
       "plot without title"
      ]
     },
     "metadata": {
      "image/svg+xml": {
       "isolated": true
      }
     },
     "output_type": "display_data"
    }
   ],
   "source": [
    "plot(x = 1:7,\n",
    "    y = ME*100,\n",
    "    xlab = \"K\",\n",
    "    ylab = \"Error Rate\",\n",
    "    type = 'l',\n",
    "    ylim = c(0, 50))\n",
    "\n",
    "points(x= 1, y = (min(ME)*100), col = \"red\", pch = 19)"
   ]
  }
 ],
 "metadata": {
  "kernelspec": {
   "display_name": "R",
   "language": "R",
   "name": "ir"
  },
  "language_info": {
   "codemirror_mode": "r",
   "file_extension": ".r",
   "mimetype": "text/x-r-source",
   "name": "R",
   "pygments_lexer": "r",
   "version": "3.2.2"
  }
 },
 "nbformat": 4,
 "nbformat_minor": 0
}
