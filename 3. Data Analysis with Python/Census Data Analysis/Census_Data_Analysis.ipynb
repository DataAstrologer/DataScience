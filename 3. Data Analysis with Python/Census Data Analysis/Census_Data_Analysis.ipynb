{
 "cells": [
  {
   "cell_type": "markdown",
   "metadata": {},
   "source": [
    "# Census Data Analysis"
   ]
  },
  {
   "cell_type": "markdown",
   "metadata": {},
   "source": [
    "**Prediction task:** Determine whether a person makes over 50K a year.\n",
    "\n",
    "**UCI Machine Learning Repository:** https://archive.ics.uci.edu/ml/datasets/Census+Income"
   ]
  },
  {
   "cell_type": "markdown",
   "metadata": {},
   "source": [
    "## Import Dataset"
   ]
  },
  {
   "cell_type": "code",
   "execution_count": 1,
   "metadata": {
    "collapsed": false
   },
   "outputs": [],
   "source": [
    "''' \n",
    "The list of packages used for data analysis.\n",
    "'''\n",
    "\n",
    "import pandas as pd\n",
    "import matplotlib.pyplot as plt\n",
    "import scipy.stats as stats\n",
    "import numpy as np\n",
    "import sklearn.linear_model as sklm\n",
    "import pylab\n",
    "from sklearn.linear_model import LogisticRegression, LogisticRegressionCV\n",
    "from sklearn import metrics\n",
    "from sklearn.cross_validation import cross_val_score\n",
    "from sklearn import svm\n",
    "from sklearn.ensemble import RandomForestClassifier\n",
    "from sklearn.ensemble import GradientBoostingClassifier"
   ]
  },
  {
   "cell_type": "code",
   "execution_count": 2,
   "metadata": {
    "collapsed": false
   },
   "outputs": [
    {
     "name": "stdout",
     "output_type": "stream",
     "text": [
      "Dimensions of the dataset (rows, columns):  (32561, 15)\n"
     ]
    }
   ],
   "source": [
    "'''\n",
    "Importing census data (adult.data) as a dataframe using Padas\n",
    "'''\n",
    "census_data = pd.read_csv(\"./Data/adult.data\", \n",
    "                          sep = \",\\s\",\n",
    "                          names = [\"age\", \"workclass\", \"fnlwgt\", \"education\",\"education_num\", \n",
    "                                   \"martial_status\", \"occupation\",\"relationship\",\"race\",\"sex\",\n",
    "                                   \"capital_gain\",\"capital_loss\", \"hours_per_week\",\"native_country\", \"salary\"], \n",
    "                          engine = 'python') \n",
    "\n",
    "print \"Dimensions of the dataset (rows, columns): \" , census_data.shape"
   ]
  },
  {
   "cell_type": "code",
   "execution_count": 3,
   "metadata": {
    "collapsed": false
   },
   "outputs": [
    {
     "name": "stdout",
     "output_type": "stream",
     "text": [
      "To display first N rows, enter N: 6\n"
     ]
    },
    {
     "data": {
      "text/html": [
       "<div>\n",
       "<table border=\"1\" class=\"dataframe\">\n",
       "  <thead>\n",
       "    <tr style=\"text-align: right;\">\n",
       "      <th></th>\n",
       "      <th>age</th>\n",
       "      <th>workclass</th>\n",
       "      <th>fnlwgt</th>\n",
       "      <th>education</th>\n",
       "      <th>education_num</th>\n",
       "      <th>martial_status</th>\n",
       "      <th>occupation</th>\n",
       "      <th>relationship</th>\n",
       "      <th>race</th>\n",
       "      <th>sex</th>\n",
       "      <th>capital_gain</th>\n",
       "      <th>capital_loss</th>\n",
       "      <th>hours_per_week</th>\n",
       "      <th>native_country</th>\n",
       "      <th>salary</th>\n",
       "    </tr>\n",
       "  </thead>\n",
       "  <tbody>\n",
       "    <tr>\n",
       "      <th>0</th>\n",
       "      <td>39</td>\n",
       "      <td>State-gov</td>\n",
       "      <td>77516</td>\n",
       "      <td>Bachelors</td>\n",
       "      <td>13</td>\n",
       "      <td>Never-married</td>\n",
       "      <td>Adm-clerical</td>\n",
       "      <td>Not-in-family</td>\n",
       "      <td>White</td>\n",
       "      <td>Male</td>\n",
       "      <td>2174</td>\n",
       "      <td>0</td>\n",
       "      <td>40</td>\n",
       "      <td>United-States</td>\n",
       "      <td>&lt;=50K</td>\n",
       "    </tr>\n",
       "    <tr>\n",
       "      <th>1</th>\n",
       "      <td>50</td>\n",
       "      <td>Self-emp-not-inc</td>\n",
       "      <td>83311</td>\n",
       "      <td>Bachelors</td>\n",
       "      <td>13</td>\n",
       "      <td>Married-civ-spouse</td>\n",
       "      <td>Exec-managerial</td>\n",
       "      <td>Husband</td>\n",
       "      <td>White</td>\n",
       "      <td>Male</td>\n",
       "      <td>0</td>\n",
       "      <td>0</td>\n",
       "      <td>13</td>\n",
       "      <td>United-States</td>\n",
       "      <td>&lt;=50K</td>\n",
       "    </tr>\n",
       "    <tr>\n",
       "      <th>2</th>\n",
       "      <td>38</td>\n",
       "      <td>Private</td>\n",
       "      <td>215646</td>\n",
       "      <td>HS-grad</td>\n",
       "      <td>9</td>\n",
       "      <td>Divorced</td>\n",
       "      <td>Handlers-cleaners</td>\n",
       "      <td>Not-in-family</td>\n",
       "      <td>White</td>\n",
       "      <td>Male</td>\n",
       "      <td>0</td>\n",
       "      <td>0</td>\n",
       "      <td>40</td>\n",
       "      <td>United-States</td>\n",
       "      <td>&lt;=50K</td>\n",
       "    </tr>\n",
       "    <tr>\n",
       "      <th>3</th>\n",
       "      <td>53</td>\n",
       "      <td>Private</td>\n",
       "      <td>234721</td>\n",
       "      <td>11th</td>\n",
       "      <td>7</td>\n",
       "      <td>Married-civ-spouse</td>\n",
       "      <td>Handlers-cleaners</td>\n",
       "      <td>Husband</td>\n",
       "      <td>Black</td>\n",
       "      <td>Male</td>\n",
       "      <td>0</td>\n",
       "      <td>0</td>\n",
       "      <td>40</td>\n",
       "      <td>United-States</td>\n",
       "      <td>&lt;=50K</td>\n",
       "    </tr>\n",
       "    <tr>\n",
       "      <th>4</th>\n",
       "      <td>28</td>\n",
       "      <td>Private</td>\n",
       "      <td>338409</td>\n",
       "      <td>Bachelors</td>\n",
       "      <td>13</td>\n",
       "      <td>Married-civ-spouse</td>\n",
       "      <td>Prof-specialty</td>\n",
       "      <td>Wife</td>\n",
       "      <td>Black</td>\n",
       "      <td>Female</td>\n",
       "      <td>0</td>\n",
       "      <td>0</td>\n",
       "      <td>40</td>\n",
       "      <td>Cuba</td>\n",
       "      <td>&lt;=50K</td>\n",
       "    </tr>\n",
       "    <tr>\n",
       "      <th>5</th>\n",
       "      <td>37</td>\n",
       "      <td>Private</td>\n",
       "      <td>284582</td>\n",
       "      <td>Masters</td>\n",
       "      <td>14</td>\n",
       "      <td>Married-civ-spouse</td>\n",
       "      <td>Exec-managerial</td>\n",
       "      <td>Wife</td>\n",
       "      <td>White</td>\n",
       "      <td>Female</td>\n",
       "      <td>0</td>\n",
       "      <td>0</td>\n",
       "      <td>40</td>\n",
       "      <td>United-States</td>\n",
       "      <td>&lt;=50K</td>\n",
       "    </tr>\n",
       "  </tbody>\n",
       "</table>\n",
       "</div>"
      ],
      "text/plain": [
       "   age         workclass  fnlwgt  education  education_num  \\\n",
       "0   39         State-gov   77516  Bachelors             13   \n",
       "1   50  Self-emp-not-inc   83311  Bachelors             13   \n",
       "2   38           Private  215646    HS-grad              9   \n",
       "3   53           Private  234721       11th              7   \n",
       "4   28           Private  338409  Bachelors             13   \n",
       "5   37           Private  284582    Masters             14   \n",
       "\n",
       "       martial_status         occupation   relationship   race     sex  \\\n",
       "0       Never-married       Adm-clerical  Not-in-family  White    Male   \n",
       "1  Married-civ-spouse    Exec-managerial        Husband  White    Male   \n",
       "2            Divorced  Handlers-cleaners  Not-in-family  White    Male   \n",
       "3  Married-civ-spouse  Handlers-cleaners        Husband  Black    Male   \n",
       "4  Married-civ-spouse     Prof-specialty           Wife  Black  Female   \n",
       "5  Married-civ-spouse    Exec-managerial           Wife  White  Female   \n",
       "\n",
       "   capital_gain  capital_loss  hours_per_week native_country salary  \n",
       "0          2174             0              40  United-States  <=50K  \n",
       "1             0             0              13  United-States  <=50K  \n",
       "2             0             0              40  United-States  <=50K  \n",
       "3             0             0              40  United-States  <=50K  \n",
       "4             0             0              40           Cuba  <=50K  \n",
       "5             0             0              40  United-States  <=50K  "
      ]
     },
     "execution_count": 3,
     "metadata": {},
     "output_type": "execute_result"
    }
   ],
   "source": [
    "'''\n",
    "A sneak-peak of the first few rows on the dataset\n",
    "'''\n",
    "head = int(raw_input(\"To display first N rows, enter N: \"))\n",
    "census_data.head(head)"
   ]
  },
  {
   "cell_type": "code",
   "execution_count": 4,
   "metadata": {
    "collapsed": false
   },
   "outputs": [
    {
     "data": {
      "text/plain": [
       "<=50K    24720\n",
       ">50K      7841\n",
       "Name: salary, dtype: int64"
      ]
     },
     "execution_count": 4,
     "metadata": {},
     "output_type": "execute_result"
    }
   ],
   "source": [
    "'''\n",
    "Distribution of dependent variable (salary)\n",
    "'''\n",
    "census_data.salary.value_counts()"
   ]
  },
  {
   "cell_type": "code",
   "execution_count": 5,
   "metadata": {
    "collapsed": false
   },
   "outputs": [
    {
     "data": {
      "text/plain": [
       "age                int64\n",
       "workclass         object\n",
       "fnlwgt             int64\n",
       "education         object\n",
       "education_num      int64\n",
       "martial_status    object\n",
       "occupation        object\n",
       "relationship      object\n",
       "race              object\n",
       "sex               object\n",
       "capital_gain       int64\n",
       "capital_loss       int64\n",
       "hours_per_week     int64\n",
       "native_country    object\n",
       "salary            object\n",
       "dtype: object"
      ]
     },
     "execution_count": 5,
     "metadata": {},
     "output_type": "execute_result"
    }
   ],
   "source": [
    "'''\n",
    "Checking the data types to make sure they are correctly coded\n",
    "'''\n",
    "census_data.dtypes"
   ]
  },
  {
   "cell_type": "code",
   "execution_count": 6,
   "metadata": {
    "collapsed": false
   },
   "outputs": [
    {
     "name": "stdout",
     "output_type": "stream",
     "text": [
      "categorical features: ['workclass', 'education', 'martial_status', 'occupation', 'relationship', 'race', 'sex', 'native_country', 'salary']\n",
      "numeric features: ['age', 'fnlwgt', 'education_num', 'capital_gain', 'capital_loss', 'hours_per_week']\n"
     ]
    }
   ],
   "source": [
    "'''\n",
    "Separating features (column names) based on the data types\n",
    "''' \n",
    "obj_col_names = []\n",
    "num_col_names = []\n",
    "\n",
    "for i in census_data.columns.values:\n",
    "    d_type = census_data[i].dtypes\n",
    "    if d_type == \"object\":\n",
    "        obj_col_names.append(i)\n",
    "    else:\n",
    "        num_col_names.append(i)\n",
    "        \n",
    "print \"categorical features:\", obj_col_names\n",
    "print \"numeric features:\", num_col_names"
   ]
  },
  {
   "cell_type": "markdown",
   "metadata": {},
   "source": [
    "## Preprocessing of missing values"
   ]
  },
  {
   "cell_type": "markdown",
   "metadata": {},
   "source": [
    "### Detect NA values"
   ]
  },
  {
   "cell_type": "code",
   "execution_count": 7,
   "metadata": {
    "collapsed": false
   },
   "outputs": [
    {
     "name": "stdout",
     "output_type": "stream",
     "text": [
      "workclass has NA values\n",
      "occupation has NA values\n",
      "native_country has NA values\n"
     ]
    }
   ],
   "source": [
    "'''\n",
    "Check for NA values in categorical features\n",
    "'''\n",
    "# print features containing NA/missing values\n",
    "for i in obj_col_names:\n",
    "    arr = census_data[i].values == '?'\n",
    "    if (True in arr):\n",
    "        print i, \"has NA values\""
   ]
  },
  {
   "cell_type": "code",
   "execution_count": 8,
   "metadata": {
    "collapsed": false
   },
   "outputs": [
    {
     "data": {
      "text/plain": [
       "False"
      ]
     },
     "execution_count": 8,
     "metadata": {},
     "output_type": "execute_result"
    }
   ],
   "source": [
    "'''\n",
    "Check for NA values in numeric features\n",
    "'''\n",
    "df = census_data[num_col_names]\n",
    "df.isnull().values.any()"
   ]
  },
  {
   "cell_type": "markdown",
   "metadata": {},
   "source": [
    "NA values are present for **3 of the categorical features**. We can check the event-rate/distribution of the NA values w.r.t to the dependent variable and decide the optimal preprocessing step for dealing with the NA values."
   ]
  },
  {
   "cell_type": "markdown",
   "metadata": {},
   "source": [
    "### 1. workclass feature"
   ]
  },
  {
   "cell_type": "code",
   "execution_count": 9,
   "metadata": {
    "collapsed": false
   },
   "outputs": [
    {
     "data": {
      "text/plain": [
       "salary\n",
       "<=50K    1645\n",
       ">50K      191\n",
       "Name: ?, dtype: int64"
      ]
     },
     "execution_count": 9,
     "metadata": {},
     "output_type": "execute_result"
    }
   ],
   "source": [
    "'''\n",
    "Checking the event-rate/distribution of '?' category of the workclass feature w.r.t. salary\n",
    "'''\n",
    "pd.crosstab(census_data.salary, census_data.workclass)['?']"
   ]
  },
  {
   "cell_type": "markdown",
   "metadata": {},
   "source": [
    "Observations:\n",
    "* Total NA values for the workclass feature = 1645+191 = **1836** \n",
    "* Percentage of NA values = 1836/32561 = **5.64%**\n",
    "* Percentage of NA values for <=50K = 1645/24720 = **6.654%**\n",
    "* Percentage of NA values for >50K = 191/7841 = **2.43%**\n",
    "\n",
    "Now, lets check the distribution of each of the categories of the workclass variable"
   ]
  },
  {
   "cell_type": "code",
   "execution_count": 10,
   "metadata": {
    "collapsed": false
   },
   "outputs": [
    {
     "data": {
      "text/html": [
       "<div>\n",
       "<table border=\"1\" class=\"dataframe\">\n",
       "  <thead>\n",
       "    <tr style=\"text-align: right;\">\n",
       "      <th>workclass</th>\n",
       "      <th>?</th>\n",
       "      <th>Federal-gov</th>\n",
       "      <th>Local-gov</th>\n",
       "      <th>Never-worked</th>\n",
       "      <th>Private</th>\n",
       "      <th>Self-emp-inc</th>\n",
       "      <th>Self-emp-not-inc</th>\n",
       "      <th>State-gov</th>\n",
       "      <th>Without-pay</th>\n",
       "    </tr>\n",
       "    <tr>\n",
       "      <th>salary</th>\n",
       "      <th></th>\n",
       "      <th></th>\n",
       "      <th></th>\n",
       "      <th></th>\n",
       "      <th></th>\n",
       "      <th></th>\n",
       "      <th></th>\n",
       "      <th></th>\n",
       "      <th></th>\n",
       "    </tr>\n",
       "  </thead>\n",
       "  <tbody>\n",
       "    <tr>\n",
       "      <th>&lt;=50K</th>\n",
       "      <td>6.654531</td>\n",
       "      <td>2.382686</td>\n",
       "      <td>5.970874</td>\n",
       "      <td>0.028317</td>\n",
       "      <td>71.735437</td>\n",
       "      <td>1.998382</td>\n",
       "      <td>7.350324</td>\n",
       "      <td>3.822816</td>\n",
       "      <td>0.056634</td>\n",
       "    </tr>\n",
       "    <tr>\n",
       "      <th>&gt;50K</th>\n",
       "      <td>2.435914</td>\n",
       "      <td>4.731539</td>\n",
       "      <td>7.868894</td>\n",
       "      <td>0.000000</td>\n",
       "      <td>63.295498</td>\n",
       "      <td>7.932662</td>\n",
       "      <td>9.233516</td>\n",
       "      <td>4.501977</td>\n",
       "      <td>0.000000</td>\n",
       "    </tr>\n",
       "  </tbody>\n",
       "</table>\n",
       "</div>"
      ],
      "text/plain": [
       "workclass         ?  Federal-gov  Local-gov  Never-worked    Private  \\\n",
       "salary                                                                 \n",
       "<=50K      6.654531     2.382686   5.970874      0.028317  71.735437   \n",
       ">50K       2.435914     4.731539   7.868894      0.000000  63.295498   \n",
       "\n",
       "workclass  Self-emp-inc  Self-emp-not-inc  State-gov  Without-pay  \n",
       "salary                                                             \n",
       "<=50K          1.998382          7.350324   3.822816     0.056634  \n",
       ">50K           7.932662          9.233516   4.501977     0.000000  "
      ]
     },
     "execution_count": 10,
     "metadata": {},
     "output_type": "execute_result"
    }
   ],
   "source": [
    "'''\n",
    "Event rate of workclass w.r.t salary (%)\n",
    "'''\n",
    "pd.crosstab(census_data.salary, census_data.workclass).apply(lambda r: r/r.sum() * 100, axis=1)"
   ]
  },
  {
   "cell_type": "markdown",
   "metadata": {},
   "source": [
    "Since the **Private** category of the workclass feature has the highest distribution w.r.t the dependent variable categories, we can impute the **'?'** to this category."
   ]
  },
  {
   "cell_type": "markdown",
   "metadata": {},
   "source": [
    "### 2. occupation feature"
   ]
  },
  {
   "cell_type": "code",
   "execution_count": 11,
   "metadata": {
    "collapsed": false
   },
   "outputs": [
    {
     "data": {
      "text/plain": [
       "salary\n",
       "<=50K    1652\n",
       ">50K      191\n",
       "Name: ?, dtype: int64"
      ]
     },
     "execution_count": 11,
     "metadata": {},
     "output_type": "execute_result"
    }
   ],
   "source": [
    "'''\n",
    "Checking the event-rate/distribution of '?' category of the occupation feature w.r.t. salary\n",
    "'''\n",
    "pd.crosstab(census_data.salary, census_data.occupation)['?']"
   ]
  },
  {
   "cell_type": "markdown",
   "metadata": {},
   "source": [
    "Observations:\n",
    "* Total NA values for the workclass feature = 1645+191 = **1836** \n",
    "* Percentage of NA values = 1836/32561 = **5.64%**\n",
    "* Percentage of NA values for <=50K = 1645/24720 = **6.654%**\n",
    "* Percentage of NA values for >50K = 191/7841 = **2.43%**\n",
    "\n",
    "Now, lets check the distribution of each of the categories of the occupation variable"
   ]
  },
  {
   "cell_type": "code",
   "execution_count": 12,
   "metadata": {
    "collapsed": false
   },
   "outputs": [
    {
     "data": {
      "text/html": [
       "<div>\n",
       "<table border=\"1\" class=\"dataframe\">\n",
       "  <thead>\n",
       "    <tr style=\"text-align: right;\">\n",
       "      <th>occupation</th>\n",
       "      <th>?</th>\n",
       "      <th>Adm-clerical</th>\n",
       "      <th>Armed-Forces</th>\n",
       "      <th>Craft-repair</th>\n",
       "      <th>Exec-managerial</th>\n",
       "      <th>Farming-fishing</th>\n",
       "      <th>Handlers-cleaners</th>\n",
       "      <th>Machine-op-inspct</th>\n",
       "      <th>Other-service</th>\n",
       "      <th>Priv-house-serv</th>\n",
       "      <th>Prof-specialty</th>\n",
       "      <th>Protective-serv</th>\n",
       "      <th>Sales</th>\n",
       "      <th>Tech-support</th>\n",
       "      <th>Transport-moving</th>\n",
       "    </tr>\n",
       "    <tr>\n",
       "      <th>salary</th>\n",
       "      <th></th>\n",
       "      <th></th>\n",
       "      <th></th>\n",
       "      <th></th>\n",
       "      <th></th>\n",
       "      <th></th>\n",
       "      <th></th>\n",
       "      <th></th>\n",
       "      <th></th>\n",
       "      <th></th>\n",
       "      <th></th>\n",
       "      <th></th>\n",
       "      <th></th>\n",
       "      <th></th>\n",
       "      <th></th>\n",
       "    </tr>\n",
       "  </thead>\n",
       "  <tbody>\n",
       "    <tr>\n",
       "      <th>&lt;=50K</th>\n",
       "      <td>6.682848</td>\n",
       "      <td>13.199838</td>\n",
       "      <td>0.032362</td>\n",
       "      <td>12.823625</td>\n",
       "      <td>8.487055</td>\n",
       "      <td>3.555825</td>\n",
       "      <td>5.194175</td>\n",
       "      <td>7.087379</td>\n",
       "      <td>12.775081</td>\n",
       "      <td>0.598706</td>\n",
       "      <td>9.227346</td>\n",
       "      <td>1.771845</td>\n",
       "      <td>10.788835</td>\n",
       "      <td>2.609223</td>\n",
       "      <td>5.165858</td>\n",
       "    </tr>\n",
       "    <tr>\n",
       "      <th>&gt;50K</th>\n",
       "      <td>2.435914</td>\n",
       "      <td>6.466012</td>\n",
       "      <td>0.012753</td>\n",
       "      <td>11.847979</td>\n",
       "      <td>25.098839</td>\n",
       "      <td>1.466650</td>\n",
       "      <td>1.096799</td>\n",
       "      <td>3.188369</td>\n",
       "      <td>1.747226</td>\n",
       "      <td>0.012753</td>\n",
       "      <td>23.708711</td>\n",
       "      <td>2.690983</td>\n",
       "      <td>12.536666</td>\n",
       "      <td>3.609234</td>\n",
       "      <td>4.081112</td>\n",
       "    </tr>\n",
       "  </tbody>\n",
       "</table>\n",
       "</div>"
      ],
      "text/plain": [
       "occupation         ?  Adm-clerical  Armed-Forces  Craft-repair  \\\n",
       "salary                                                           \n",
       "<=50K       6.682848     13.199838      0.032362     12.823625   \n",
       ">50K        2.435914      6.466012      0.012753     11.847979   \n",
       "\n",
       "occupation  Exec-managerial  Farming-fishing  Handlers-cleaners  \\\n",
       "salary                                                            \n",
       "<=50K              8.487055         3.555825           5.194175   \n",
       ">50K              25.098839         1.466650           1.096799   \n",
       "\n",
       "occupation  Machine-op-inspct  Other-service  Priv-house-serv  Prof-specialty  \\\n",
       "salary                                                                          \n",
       "<=50K                7.087379      12.775081         0.598706        9.227346   \n",
       ">50K                 3.188369       1.747226         0.012753       23.708711   \n",
       "\n",
       "occupation  Protective-serv      Sales  Tech-support  Transport-moving  \n",
       "salary                                                                  \n",
       "<=50K              1.771845  10.788835      2.609223          5.165858  \n",
       ">50K               2.690983  12.536666      3.609234          4.081112  "
      ]
     },
     "execution_count": 12,
     "metadata": {},
     "output_type": "execute_result"
    }
   ],
   "source": [
    "'''\n",
    "Event rate of occupation w.r.t salary (%)\n",
    "'''\n",
    "pd.crosstab(census_data.salary, census_data.occupation).apply(lambda r: r/r.sum() * 100, axis=1)"
   ]
  },
  {
   "cell_type": "markdown",
   "metadata": {},
   "source": [
    "Since none the categories of the occupation feature have a skewed distribution as such, we can **drop** the '?' for this feature."
   ]
  },
  {
   "cell_type": "markdown",
   "metadata": {},
   "source": [
    "### 3. native_country"
   ]
  },
  {
   "cell_type": "code",
   "execution_count": 13,
   "metadata": {
    "collapsed": false
   },
   "outputs": [
    {
     "data": {
      "text/plain": [
       "salary\n",
       "<=50K    437\n",
       ">50K     146\n",
       "Name: ?, dtype: int64"
      ]
     },
     "execution_count": 13,
     "metadata": {},
     "output_type": "execute_result"
    }
   ],
   "source": [
    "'''\n",
    "Checking the event-rate/distribution of '?' category of the native_country feature w.r.t. salary\n",
    "'''\n",
    "pd.crosstab(census_data.salary, census_data.native_country)['?']"
   ]
  },
  {
   "cell_type": "markdown",
   "metadata": {},
   "source": [
    "Observations:\n",
    "* Total NA values for the workclass feature = 437+146 = **583** \n",
    "* Percentage of NA values = 583/32561 = **1.8%**\n",
    "* Percentage of NA values for <=50K = 437/24720 = **1.77%**\n",
    "* Percentage of NA values for >50K = 146/7841 = **1.86%**\n",
    "\n",
    "Now, lets check the distribution of each of the categories of the occupation variable"
   ]
  },
  {
   "cell_type": "code",
   "execution_count": 14,
   "metadata": {
    "collapsed": false
   },
   "outputs": [
    {
     "data": {
      "text/html": [
       "<div>\n",
       "<table border=\"1\" class=\"dataframe\">\n",
       "  <thead>\n",
       "    <tr style=\"text-align: right;\">\n",
       "      <th>native_country</th>\n",
       "      <th>?</th>\n",
       "      <th>Cambodia</th>\n",
       "      <th>Canada</th>\n",
       "      <th>China</th>\n",
       "      <th>Columbia</th>\n",
       "      <th>Cuba</th>\n",
       "      <th>Dominican-Republic</th>\n",
       "      <th>Ecuador</th>\n",
       "      <th>El-Salvador</th>\n",
       "      <th>England</th>\n",
       "      <th>...</th>\n",
       "      <th>Portugal</th>\n",
       "      <th>Puerto-Rico</th>\n",
       "      <th>Scotland</th>\n",
       "      <th>South</th>\n",
       "      <th>Taiwan</th>\n",
       "      <th>Thailand</th>\n",
       "      <th>Trinadad&amp;Tobago</th>\n",
       "      <th>United-States</th>\n",
       "      <th>Vietnam</th>\n",
       "      <th>Yugoslavia</th>\n",
       "    </tr>\n",
       "    <tr>\n",
       "      <th>salary</th>\n",
       "      <th></th>\n",
       "      <th></th>\n",
       "      <th></th>\n",
       "      <th></th>\n",
       "      <th></th>\n",
       "      <th></th>\n",
       "      <th></th>\n",
       "      <th></th>\n",
       "      <th></th>\n",
       "      <th></th>\n",
       "      <th></th>\n",
       "      <th></th>\n",
       "      <th></th>\n",
       "      <th></th>\n",
       "      <th></th>\n",
       "      <th></th>\n",
       "      <th></th>\n",
       "      <th></th>\n",
       "      <th></th>\n",
       "      <th></th>\n",
       "      <th></th>\n",
       "    </tr>\n",
       "  </thead>\n",
       "  <tbody>\n",
       "    <tr>\n",
       "      <th>&lt;=50K</th>\n",
       "      <td>1.767799</td>\n",
       "      <td>0.048544</td>\n",
       "      <td>0.331715</td>\n",
       "      <td>0.222492</td>\n",
       "      <td>0.230583</td>\n",
       "      <td>0.283172</td>\n",
       "      <td>0.275081</td>\n",
       "      <td>0.097087</td>\n",
       "      <td>0.392395</td>\n",
       "      <td>0.242718</td>\n",
       "      <td>...</td>\n",
       "      <td>0.133495</td>\n",
       "      <td>0.412621</td>\n",
       "      <td>0.036408</td>\n",
       "      <td>0.258900</td>\n",
       "      <td>0.125405</td>\n",
       "      <td>0.06068</td>\n",
       "      <td>0.068770</td>\n",
       "      <td>88.992718</td>\n",
       "      <td>0.250809</td>\n",
       "      <td>0.040453</td>\n",
       "    </tr>\n",
       "    <tr>\n",
       "      <th>&gt;50K</th>\n",
       "      <td>1.862007</td>\n",
       "      <td>0.089274</td>\n",
       "      <td>0.497386</td>\n",
       "      <td>0.255070</td>\n",
       "      <td>0.025507</td>\n",
       "      <td>0.318837</td>\n",
       "      <td>0.025507</td>\n",
       "      <td>0.051014</td>\n",
       "      <td>0.114781</td>\n",
       "      <td>0.382604</td>\n",
       "      <td>...</td>\n",
       "      <td>0.051014</td>\n",
       "      <td>0.153042</td>\n",
       "      <td>0.038260</td>\n",
       "      <td>0.204056</td>\n",
       "      <td>0.255070</td>\n",
       "      <td>0.03826</td>\n",
       "      <td>0.025507</td>\n",
       "      <td>91.455172</td>\n",
       "      <td>0.063767</td>\n",
       "      <td>0.076521</td>\n",
       "    </tr>\n",
       "  </tbody>\n",
       "</table>\n",
       "<p>2 rows × 42 columns</p>\n",
       "</div>"
      ],
      "text/plain": [
       "native_country         ?  Cambodia    Canada     China  Columbia      Cuba  \\\n",
       "salary                                                                       \n",
       "<=50K           1.767799  0.048544  0.331715  0.222492  0.230583  0.283172   \n",
       ">50K            1.862007  0.089274  0.497386  0.255070  0.025507  0.318837   \n",
       "\n",
       "native_country  Dominican-Republic   Ecuador  El-Salvador   England  \\\n",
       "salary                                                                \n",
       "<=50K                     0.275081  0.097087     0.392395  0.242718   \n",
       ">50K                      0.025507  0.051014     0.114781  0.382604   \n",
       "\n",
       "native_country     ...      Portugal  Puerto-Rico  Scotland     South  \\\n",
       "salary             ...                                                  \n",
       "<=50K              ...      0.133495     0.412621  0.036408  0.258900   \n",
       ">50K               ...      0.051014     0.153042  0.038260  0.204056   \n",
       "\n",
       "native_country    Taiwan  Thailand  Trinadad&Tobago  United-States   Vietnam  \\\n",
       "salary                                                                         \n",
       "<=50K           0.125405   0.06068         0.068770      88.992718  0.250809   \n",
       ">50K            0.255070   0.03826         0.025507      91.455172  0.063767   \n",
       "\n",
       "native_country  Yugoslavia  \n",
       "salary                      \n",
       "<=50K             0.040453  \n",
       ">50K              0.076521  \n",
       "\n",
       "[2 rows x 42 columns]"
      ]
     },
     "execution_count": 14,
     "metadata": {},
     "output_type": "execute_result"
    }
   ],
   "source": [
    "'''\n",
    "Event rate of native_country w.r.t salary (%)\n",
    "'''\n",
    "pd.crosstab(census_data.salary, census_data.native_country).apply(lambda r: r/r.sum() * 100, axis=1)"
   ]
  },
  {
   "cell_type": "markdown",
   "metadata": {},
   "source": [
    "Since the **United-States** category of the native_country feature has the highest distribution w.r.t the dependent variable categories, we can impute the '?' to this category. "
   ]
  },
  {
   "cell_type": "markdown",
   "metadata": {},
   "source": [
    "### Imputation"
   ]
  },
  {
   "cell_type": "markdown",
   "metadata": {},
   "source": [
    "Observations:\n",
    "* Total NA values for all features = 1836+1836+583 = **4255**\n",
    "* Percentage of NA values for the entire dataset = 4255/32561 = **13.07%**\n",
    "* Percentage of NA values for <=50K = (1645+1652+437)/24720 = **15.1%**\n",
    "* Percentage of NA values for >50K = (191+191+146)/7841 = **6.73%**"
   ]
  },
  {
   "cell_type": "code",
   "execution_count": 15,
   "metadata": {
    "collapsed": false
   },
   "outputs": [],
   "source": [
    "'''\n",
    "Imputing workclass '?' features to private\n",
    "'''\n",
    "census_data['workclass'] = census_data['workclass'].replace('?', 'Private')\n",
    "census_data['native_country'] = census_data['native_country'].replace('?','United-States')\n",
    "\n",
    "# drop the remaining rows containing '?'\n",
    "census_data = census_data.replace(\"?\", np.nan)\n",
    "census_data = census_data.dropna(axis = 0)"
   ]
  },
  {
   "cell_type": "code",
   "execution_count": 16,
   "metadata": {
    "collapsed": true
   },
   "outputs": [],
   "source": [
    "'''\n",
    "Check for NA values once again to make sure none\n",
    "'''\n",
    "# print features containing NA values\n",
    "for i in obj_col_names:\n",
    "    arr = census_data[i].values == '?'\n",
    "    if (True in arr):\n",
    "        print i, \"has NA values\""
   ]
  },
  {
   "cell_type": "code",
   "execution_count": 17,
   "metadata": {
    "collapsed": true
   },
   "outputs": [],
   "source": [
    "'''\n",
    "Fix row indexes\n",
    "'''\n",
    "census_data = census_data.reset_index(drop=True)"
   ]
  },
  {
   "cell_type": "markdown",
   "metadata": {},
   "source": [
    "## Exploratory Data Analysis"
   ]
  },
  {
   "cell_type": "code",
   "execution_count": 18,
   "metadata": {
    "collapsed": true
   },
   "outputs": [],
   "source": [
    "'''\n",
    "Encode salary variable as binary, <=50k => 0 and >50k => 1\n",
    "'''\n",
    "census_data.salary = census_data.salary.astype('category').cat.codes"
   ]
  },
  {
   "cell_type": "markdown",
   "metadata": {},
   "source": [
    "### 1. Numeric Features"
   ]
  },
  {
   "cell_type": "code",
   "execution_count": 19,
   "metadata": {
    "collapsed": false
   },
   "outputs": [
    {
     "data": {
      "text/html": [
       "<div>\n",
       "<table border=\"1\" class=\"dataframe\">\n",
       "  <thead>\n",
       "    <tr style=\"text-align: right;\">\n",
       "      <th></th>\n",
       "      <th>age</th>\n",
       "      <th>fnlwgt</th>\n",
       "      <th>education_num</th>\n",
       "      <th>capital_gain</th>\n",
       "      <th>capital_loss</th>\n",
       "      <th>hours_per_week</th>\n",
       "      <th>salary</th>\n",
       "    </tr>\n",
       "  </thead>\n",
       "  <tbody>\n",
       "    <tr>\n",
       "      <th>count</th>\n",
       "      <td>30718.000000</td>\n",
       "      <td>3.071800e+04</td>\n",
       "      <td>30718.000000</td>\n",
       "      <td>30718.000000</td>\n",
       "      <td>30718.000000</td>\n",
       "      <td>30718.000000</td>\n",
       "      <td>30718.000000</td>\n",
       "    </tr>\n",
       "    <tr>\n",
       "      <th>mean</th>\n",
       "      <td>38.443584</td>\n",
       "      <td>1.898455e+05</td>\n",
       "      <td>10.130314</td>\n",
       "      <td>1106.037079</td>\n",
       "      <td>88.910216</td>\n",
       "      <td>40.949313</td>\n",
       "      <td>0.249040</td>\n",
       "    </tr>\n",
       "    <tr>\n",
       "      <th>std</th>\n",
       "      <td>13.118227</td>\n",
       "      <td>1.054583e+05</td>\n",
       "      <td>2.562469</td>\n",
       "      <td>7497.863364</td>\n",
       "      <td>405.657203</td>\n",
       "      <td>11.985382</td>\n",
       "      <td>0.432464</td>\n",
       "    </tr>\n",
       "    <tr>\n",
       "      <th>min</th>\n",
       "      <td>17.000000</td>\n",
       "      <td>1.376900e+04</td>\n",
       "      <td>1.000000</td>\n",
       "      <td>0.000000</td>\n",
       "      <td>0.000000</td>\n",
       "      <td>1.000000</td>\n",
       "      <td>0.000000</td>\n",
       "    </tr>\n",
       "    <tr>\n",
       "      <th>50%</th>\n",
       "      <td>37.000000</td>\n",
       "      <td>1.785170e+05</td>\n",
       "      <td>10.000000</td>\n",
       "      <td>0.000000</td>\n",
       "      <td>0.000000</td>\n",
       "      <td>40.000000</td>\n",
       "      <td>0.000000</td>\n",
       "    </tr>\n",
       "    <tr>\n",
       "      <th>100%</th>\n",
       "      <td>90.000000</td>\n",
       "      <td>1.484705e+06</td>\n",
       "      <td>16.000000</td>\n",
       "      <td>99999.000000</td>\n",
       "      <td>4356.000000</td>\n",
       "      <td>99.000000</td>\n",
       "      <td>1.000000</td>\n",
       "    </tr>\n",
       "    <tr>\n",
       "      <th>max</th>\n",
       "      <td>90.000000</td>\n",
       "      <td>1.484705e+06</td>\n",
       "      <td>16.000000</td>\n",
       "      <td>99999.000000</td>\n",
       "      <td>4356.000000</td>\n",
       "      <td>99.000000</td>\n",
       "      <td>1.000000</td>\n",
       "    </tr>\n",
       "  </tbody>\n",
       "</table>\n",
       "</div>"
      ],
      "text/plain": [
       "                age        fnlwgt  education_num  capital_gain  capital_loss  \\\n",
       "count  30718.000000  3.071800e+04   30718.000000  30718.000000  30718.000000   \n",
       "mean      38.443584  1.898455e+05      10.130314   1106.037079     88.910216   \n",
       "std       13.118227  1.054583e+05       2.562469   7497.863364    405.657203   \n",
       "min       17.000000  1.376900e+04       1.000000      0.000000      0.000000   \n",
       "50%       37.000000  1.785170e+05      10.000000      0.000000      0.000000   \n",
       "100%      90.000000  1.484705e+06      16.000000  99999.000000   4356.000000   \n",
       "max       90.000000  1.484705e+06      16.000000  99999.000000   4356.000000   \n",
       "\n",
       "       hours_per_week        salary  \n",
       "count    30718.000000  30718.000000  \n",
       "mean        40.949313      0.249040  \n",
       "std         11.985382      0.432464  \n",
       "min          1.000000      0.000000  \n",
       "50%         40.000000      0.000000  \n",
       "100%        99.000000      1.000000  \n",
       "max         99.000000      1.000000  "
      ]
     },
     "execution_count": 19,
     "metadata": {},
     "output_type": "execute_result"
    }
   ],
   "source": [
    "'''\n",
    "Displaying Summary statisitcs of all the numeric variables in the dataset. \n",
    "'''\n",
    "census_data.describe(percentiles=True)"
   ]
  },
  {
   "cell_type": "code",
   "execution_count": 20,
   "metadata": {
    "collapsed": false
   },
   "outputs": [
    {
     "name": "stdout",
     "output_type": "stream",
     "text": [
      "Populating the interactive namespace from numpy and matplotlib\n"
     ]
    },
    {
     "name": "stderr",
     "output_type": "stream",
     "text": [
      "WARNING: pylab import has clobbered these variables: ['pylab']\n",
      "`%matplotlib` prevents importing * from pylab and numpy\n"
     ]
    },
    {
     "data": {
      "image/png": "[encoded data removed]",
      "text/plain": [
       "<matplotlib.figure.Figure at 0x9e56110>"
      ]
     },
     "metadata": {},
     "output_type": "display_data"
    }
   ],
   "source": [
    "'''\n",
    "Histogram is a graphical representation of the numerical data. \n",
    "\n",
    "Decide the number of classes/bins using the “2 to the k rule”, where k is the number of classes/bins. \n",
    "Select the smallest number k such that 2^k is greater than the number of observations. \n",
    "Example – For 180 observations, 8 would be the ideal numbers of bins as 2^8 = 256 \n",
    "(the smallest 2^k number greater than the number of observations; 2^7 = 128).\n",
    "''' \n",
    "\n",
    "%pylab inline\n",
    "plt.figure(figsize=(30,15))\n",
    "\n",
    "plt.subplot(2, 3, 1)\n",
    "plt.hist(census_data['age'], bins=7, color='red')\n",
    "plt.title('Age')\n",
    "plt.xlabel('Years')\n",
    "\n",
    "plt.subplot(2, 3, 2)\n",
    "plt.hist(census_data['fnlwgt'], bins=21, color='blue')\n",
    "plt.xlabel(['2k','3'])\n",
    "plt.title('Fnlwgt')\n",
    "plt.xlabel('Final Weight')\n",
    "\n",
    "plt.subplot(2, 3, 3)\n",
    "plt.hist(census_data['education_num'], bins=5, color='green')\n",
    "plt.title('Education Years')\n",
    "plt.xlabel('Years')\n",
    "\n",
    "plt.subplot(2, 3, 4)\n",
    "plt.hist(census_data['capital_gain'], bins=17, color='yellow')\n",
    "plt.title('Capital Gain')\n",
    "plt.xlabel('$')\n",
    "\n",
    "plt.subplot(2, 3, 5)\n",
    "plt.hist(census_data['capital_loss'], bins=13, color='cyan')\n",
    "plt.title('Capital Loss')\n",
    "plt.xlabel('$')\n",
    "\n",
    "plt.subplot(2, 3, 6)\n",
    "plt.hist(census_data['hours_per_week'], bins=7, color='magenta')\n",
    "plt.title('Hours Per Week')\n",
    "plt.xlabel('Hours')\n",
    "\n",
    "pylab.show()"
   ]
  },
  {
   "cell_type": "markdown",
   "metadata": {},
   "source": [
    "Observations:\n",
    "* **capital_gain** and **capital_loss** have most of the values falling only in 1 bin, but have a high variance. They are extremely right-skewed. \n",
    "* **fnlwgt** feature is right-skewed. \n",
    "\n",
    "When data is right skewed, the extreme values in the long tail can have a disproportionately large influence on whatever test you perform or models you build. Reducing skew may improve your results. Taking the square root of each data point or taking the natural logarithm of each data point are two simple transformations that can reduce skew."
   ]
  },
  {
   "cell_type": "code",
   "execution_count": 21,
   "metadata": {
    "collapsed": false
   },
   "outputs": [
    {
     "name": "stdout",
     "output_type": "stream",
     "text": [
      "Populating the interactive namespace from numpy and matplotlib\n"
     ]
    },
    {
     "data": {
      "image/png": "[encoded data removed]",
      "text/plain": [
       "<matplotlib.figure.Figure at 0x9e31970>"
      ]
     },
     "metadata": {},
     "output_type": "display_data"
    }
   ],
   "source": [
    "'''\n",
    "Box plots are useful for highlighting outliers and highlighting the mass of the data.\n",
    "The Box plots for the above numeric data to depict the 5 number summary is shown below. \n",
    "'''\n",
    "\n",
    "%pylab inline \n",
    "plt.figure(figsize=(30,15))\n",
    "\n",
    "plt.subplot(2, 3, 1)\n",
    "bp = census_data.boxplot(column = ['age'], patch_artist = True, return_type='dict')\n",
    "plt.ylim(10,100)\n",
    "plt.title('Age')\n",
    "plt.ylabel('Years')\n",
    "\n",
    "plt.subplot(2, 3, 2)\n",
    "census_data.boxplot(column = ['fnlwgt'], patch_artist = True, return_type='dict')\n",
    "plt.ylim(5000,1500000)\n",
    "plt.title('Final Weight')\n",
    "plt.ylabel('Final Weight')\n",
    "\n",
    "plt.subplot(2, 3, 3)\n",
    "census_data.boxplot(column = ['education_num'],patch_artist = True, return_type='dict')\n",
    "plt.ylim(0,18)\n",
    "plt.title('Education Years')\n",
    "plt.ylabel('Years')\n",
    "\n",
    "plt.subplot(2, 3, 4)\n",
    "census_data.boxplot(column = ['capital_gain'],patch_artist = True, return_type='dict')\n",
    "plt.ylim(-500,110000)\n",
    "plt.title('Capital Gain')\n",
    "plt.ylabel('$')\n",
    "\n",
    "plt.subplot(2, 3, 5)\n",
    "census_data.boxplot(column = ['capital_loss'],patch_artist = True, return_type='dict')\n",
    "plt.ylim(-500,4400)\n",
    "plt.title('Capital Loss')\n",
    "plt.ylabel('$')\n",
    "\n",
    "plt.subplot(2, 3, 6)\n",
    "census_data.boxplot(column = ['hours_per_week'],patch_artist = True, return_type='dict')\n",
    "plt.ylim(0,101)\n",
    "plt.title('Hours Per Week')\n",
    "plt.ylabel('Hours')\n",
    "\n",
    "pylab.show()"
   ]
  },
  {
   "cell_type": "code",
   "execution_count": 22,
   "metadata": {
    "collapsed": false
   },
   "outputs": [
    {
     "name": "stdout",
     "output_type": "stream",
     "text": [
      "Populating the interactive namespace from numpy and matplotlib\n"
     ]
    },
    {
     "data": {
      "image/png": "[encoded data removed]",
      "text/plain": [
       "<matplotlib.figure.Figure at 0x9e55790>"
      ]
     },
     "metadata": {},
     "output_type": "display_data"
    }
   ],
   "source": [
    "'''\n",
    "Plotting the distribution for each numeric variable using qq-plots against Gaussian.\n",
    "The more linear the plot (straight line, 45 degree angle), the distribution is closer to Normal Distribution.\n",
    "If the qq-plot follows a S-shape, the distribution is more skewed compared to the Normal Distribution.\n",
    "'''\n",
    "\n",
    "%pylab inline\n",
    "plt.figure(figsize=(30,15))\n",
    "\n",
    "plt.subplot(2, 3, 1)\n",
    "stats.probplot(census_data['age'], dist = \"norm\", plot=pylab)\n",
    "plt.title('QQ Plot - Age')\n",
    "\n",
    "plt.subplot(2, 3, 2)\n",
    "stats.probplot(census_data['education_num'], dist = \"norm\", plot=pylab)\n",
    "plt.title('QQ Plot - Education')\n",
    "\n",
    "plt.subplot(2, 3, 3)\n",
    "stats.probplot(census_data['fnlwgt'], dist = \"norm\", plot=pylab)\n",
    "plt.title('QQ Plot - Fnlwgt')\n",
    "\n",
    "plt.subplot(2, 3, 4)\n",
    "stats.probplot(census_data['capital_gain'], dist = \"norm\", plot=pylab)\n",
    "plt.title('QQ Plot - Capital Gain')\n",
    "\n",
    "plt.subplot(2, 3, 5)\n",
    "stats.probplot(census_data['capital_loss'], dist = \"norm\", plot=pylab)\n",
    "plt.title('QQ Plot - Capital Loss')\n",
    "\n",
    "plt.subplot(2, 3, 6)\n",
    "stats.probplot(census_data['hours_per_week'], dist = \"norm\", plot=pylab)\n",
    "plt.title('QQ Plot - Hours Per Week')\n",
    "\n",
    "pylab.show()"
   ]
  },
  {
   "cell_type": "code",
   "execution_count": 23,
   "metadata": {
    "collapsed": false
   },
   "outputs": [
    {
     "name": "stdout",
     "output_type": "stream",
     "text": [
      "Populating the interactive namespace from numpy and matplotlib\n"
     ]
    },
    {
     "data": {
      "image/png": "[encoded data removed]",
      "text/plain": [
       "<matplotlib.figure.Figure at 0x9e55810>"
      ]
     },
     "metadata": {},
     "output_type": "display_data"
    }
   ],
   "source": [
    "'''\n",
    "Plotting the distribution for each numeric variable using qq-plots against Power Law Distribution.\n",
    "The more linear the plot (straight line, 45 degree angle), the distribution is closer to Exponential. \n",
    "If the qq-plot follows a S-shape, the distribution is more skewed compared to the Exponential Distribution.\n",
    "'''\n",
    "\n",
    "%pylab inline\n",
    "plt.figure(figsize=(30,15))\n",
    "\n",
    "plt.subplot(2, 3, 1)\n",
    "stats.probplot(census_data['age'], dist = \"expon\", plot=pylab)\n",
    "plt.title('QQ Plot - Age')\n",
    "\n",
    "plt.subplot(2, 3, 2)\n",
    "stats.probplot(census_data['education_num'], dist = \"expon\", plot=pylab)\n",
    "plt.title('QQ Plot - Education')\n",
    "\n",
    "plt.subplot(2, 3, 3)\n",
    "stats.probplot(census_data['fnlwgt'], dist = \"expon\", plot=pylab)\n",
    "plt.title('QQ Plot - Fnlwgt')\n",
    "\n",
    "plt.subplot(2, 3, 4)\n",
    "stats.probplot(census_data['capital_gain'], dist = \"expon\", plot=pylab)\n",
    "plt.title('QQ Plot - Capital Gain')\n",
    "\n",
    "plt.subplot(2, 3, 5)\n",
    "stats.probplot(census_data['capital_loss'], dist = \"expon\", plot=pylab)\n",
    "plt.title('QQ Plot - Capital Loss')\n",
    "\n",
    "plt.subplot(2, 3, 6)\n",
    "stats.probplot(census_data['hours_per_week'], dist = \"expon\", plot=pylab)\n",
    "plt.title('QQ Plot - Hours Per Week')\n",
    "\n",
    "pylab.show()"
   ]
  },
  {
   "cell_type": "markdown",
   "metadata": {},
   "source": [
    "Observations:\n",
    "* The feature **fnlwgt** has a distribution closer to exponential. This information is useful for feature engineering.\n",
    "* The features **age**, **education** and **hours_per_week** have an approximate normal distribution. Thus, these features can be used directly for modeling."
   ]
  },
  {
   "cell_type": "code",
   "execution_count": 24,
   "metadata": {
    "collapsed": false
   },
   "outputs": [
    {
     "data": {
      "text/html": [
       "<div>\n",
       "<table border=\"1\" class=\"dataframe\">\n",
       "  <thead>\n",
       "    <tr style=\"text-align: right;\">\n",
       "      <th></th>\n",
       "      <th>age</th>\n",
       "      <th>fnlwgt</th>\n",
       "      <th>education_num</th>\n",
       "      <th>capital_gain</th>\n",
       "      <th>capital_loss</th>\n",
       "      <th>hours_per_week</th>\n",
       "      <th>salary</th>\n",
       "    </tr>\n",
       "  </thead>\n",
       "  <tbody>\n",
       "    <tr>\n",
       "      <th>age</th>\n",
       "      <td>1.000000</td>\n",
       "      <td>-0.076540</td>\n",
       "      <td>0.043567</td>\n",
       "      <td>0.080392</td>\n",
       "      <td>0.060409</td>\n",
       "      <td>0.101879</td>\n",
       "      <td>0.242431</td>\n",
       "    </tr>\n",
       "    <tr>\n",
       "      <th>fnlwgt</th>\n",
       "      <td>-0.076540</td>\n",
       "      <td>1.000000</td>\n",
       "      <td>-0.043509</td>\n",
       "      <td>-0.000189</td>\n",
       "      <td>-0.010011</td>\n",
       "      <td>-0.022810</td>\n",
       "      <td>-0.009446</td>\n",
       "    </tr>\n",
       "    <tr>\n",
       "      <th>education_num</th>\n",
       "      <td>0.043567</td>\n",
       "      <td>-0.043509</td>\n",
       "      <td>1.000000</td>\n",
       "      <td>0.124247</td>\n",
       "      <td>0.079321</td>\n",
       "      <td>0.151241</td>\n",
       "      <td>0.334640</td>\n",
       "    </tr>\n",
       "    <tr>\n",
       "      <th>capital_gain</th>\n",
       "      <td>0.080392</td>\n",
       "      <td>-0.000189</td>\n",
       "      <td>0.124247</td>\n",
       "      <td>1.000000</td>\n",
       "      <td>-0.032332</td>\n",
       "      <td>0.079548</td>\n",
       "      <td>0.221871</td>\n",
       "    </tr>\n",
       "    <tr>\n",
       "      <th>capital_loss</th>\n",
       "      <td>0.060409</td>\n",
       "      <td>-0.010011</td>\n",
       "      <td>0.079321</td>\n",
       "      <td>-0.032332</td>\n",
       "      <td>1.000000</td>\n",
       "      <td>0.053961</td>\n",
       "      <td>0.151461</td>\n",
       "    </tr>\n",
       "    <tr>\n",
       "      <th>hours_per_week</th>\n",
       "      <td>0.101879</td>\n",
       "      <td>-0.022810</td>\n",
       "      <td>0.151241</td>\n",
       "      <td>0.079548</td>\n",
       "      <td>0.053961</td>\n",
       "      <td>1.000000</td>\n",
       "      <td>0.228547</td>\n",
       "    </tr>\n",
       "    <tr>\n",
       "      <th>salary</th>\n",
       "      <td>0.242431</td>\n",
       "      <td>-0.009446</td>\n",
       "      <td>0.334640</td>\n",
       "      <td>0.221871</td>\n",
       "      <td>0.151461</td>\n",
       "      <td>0.228547</td>\n",
       "      <td>1.000000</td>\n",
       "    </tr>\n",
       "  </tbody>\n",
       "</table>\n",
       "</div>"
      ],
      "text/plain": [
       "                     age    fnlwgt  education_num  capital_gain  capital_loss  \\\n",
       "age             1.000000 -0.076540       0.043567      0.080392      0.060409   \n",
       "fnlwgt         -0.076540  1.000000      -0.043509     -0.000189     -0.010011   \n",
       "education_num   0.043567 -0.043509       1.000000      0.124247      0.079321   \n",
       "capital_gain    0.080392 -0.000189       0.124247      1.000000     -0.032332   \n",
       "capital_loss    0.060409 -0.010011       0.079321     -0.032332      1.000000   \n",
       "hours_per_week  0.101879 -0.022810       0.151241      0.079548      0.053961   \n",
       "salary          0.242431 -0.009446       0.334640      0.221871      0.151461   \n",
       "\n",
       "                hours_per_week    salary  \n",
       "age                   0.101879  0.242431  \n",
       "fnlwgt               -0.022810 -0.009446  \n",
       "education_num         0.151241  0.334640  \n",
       "capital_gain          0.079548  0.221871  \n",
       "capital_loss          0.053961  0.151461  \n",
       "hours_per_week        1.000000  0.228547  \n",
       "salary                0.228547  1.000000  "
      ]
     },
     "execution_count": 24,
     "metadata": {},
     "output_type": "execute_result"
    }
   ],
   "source": [
    "'''\n",
    "Pearson Correlation Matrix for numeric variables.\n",
    "'''\n",
    "census_data.corr()"
   ]
  },
  {
   "cell_type": "markdown",
   "metadata": {},
   "source": [
    "Observation:\n",
    "* **fnlwgt** is highly **uncorrelated** with the salary and thus might not be an important feature to model salary. However, a transformed fnlwgt feature might have a higher correlation."
   ]
  },
  {
   "cell_type": "markdown",
   "metadata": {},
   "source": [
    "### 2. Categorical Features"
   ]
  },
  {
   "cell_type": "markdown",
   "metadata": {},
   "source": [
    "We can look for the categories which have an even distribution (50/50) w.r.t to the dependent variable and merge these categories."
   ]
  },
  {
   "cell_type": "code",
   "execution_count": 25,
   "metadata": {
    "collapsed": false
   },
   "outputs": [
    {
     "data": {
      "text/html": [
       "<div>\n",
       "<table border=\"1\" class=\"dataframe\">\n",
       "  <thead>\n",
       "    <tr style=\"text-align: right;\">\n",
       "      <th>salary</th>\n",
       "      <th>0</th>\n",
       "      <th>1</th>\n",
       "    </tr>\n",
       "    <tr>\n",
       "      <th>workclass</th>\n",
       "      <th></th>\n",
       "      <th></th>\n",
       "    </tr>\n",
       "  </thead>\n",
       "  <tbody>\n",
       "    <tr>\n",
       "      <th>Federal-gov</th>\n",
       "      <td>61.354167</td>\n",
       "      <td>38.645833</td>\n",
       "    </tr>\n",
       "    <tr>\n",
       "      <th>Local-gov</th>\n",
       "      <td>70.520784</td>\n",
       "      <td>29.479216</td>\n",
       "    </tr>\n",
       "    <tr>\n",
       "      <th>Private</th>\n",
       "      <td>78.132711</td>\n",
       "      <td>21.867289</td>\n",
       "    </tr>\n",
       "    <tr>\n",
       "      <th>Self-emp-inc</th>\n",
       "      <td>44.265233</td>\n",
       "      <td>55.734767</td>\n",
       "    </tr>\n",
       "    <tr>\n",
       "      <th>Self-emp-not-inc</th>\n",
       "      <td>71.507281</td>\n",
       "      <td>28.492719</td>\n",
       "    </tr>\n",
       "    <tr>\n",
       "      <th>State-gov</th>\n",
       "      <td>72.804314</td>\n",
       "      <td>27.195686</td>\n",
       "    </tr>\n",
       "    <tr>\n",
       "      <th>Without-pay</th>\n",
       "      <td>100.000000</td>\n",
       "      <td>0.000000</td>\n",
       "    </tr>\n",
       "  </tbody>\n",
       "</table>\n",
       "</div>"
      ],
      "text/plain": [
       "salary                     0          1\n",
       "workclass                              \n",
       "Federal-gov        61.354167  38.645833\n",
       "Local-gov          70.520784  29.479216\n",
       "Private            78.132711  21.867289\n",
       "Self-emp-inc       44.265233  55.734767\n",
       "Self-emp-not-inc   71.507281  28.492719\n",
       "State-gov          72.804314  27.195686\n",
       "Without-pay       100.000000   0.000000"
      ]
     },
     "execution_count": 25,
     "metadata": {},
     "output_type": "execute_result"
    }
   ],
   "source": [
    "pd.crosstab(census_data['workclass'], census_data['salary']).apply(lambda r: r/r.sum() * 100, axis=1)"
   ]
  },
  {
   "cell_type": "code",
   "execution_count": 26,
   "metadata": {
    "collapsed": false
   },
   "outputs": [
    {
     "data": {
      "text/html": [
       "<div>\n",
       "<table border=\"1\" class=\"dataframe\">\n",
       "  <thead>\n",
       "    <tr style=\"text-align: right;\">\n",
       "      <th>salary</th>\n",
       "      <th>0</th>\n",
       "      <th>1</th>\n",
       "    </tr>\n",
       "    <tr>\n",
       "      <th>education</th>\n",
       "      <th></th>\n",
       "      <th></th>\n",
       "    </tr>\n",
       "  </thead>\n",
       "  <tbody>\n",
       "    <tr>\n",
       "      <th>10th</th>\n",
       "      <td>92.779783</td>\n",
       "      <td>7.220217</td>\n",
       "    </tr>\n",
       "    <tr>\n",
       "      <th>11th</th>\n",
       "      <td>94.318182</td>\n",
       "      <td>5.681818</td>\n",
       "    </tr>\n",
       "    <tr>\n",
       "      <th>12th</th>\n",
       "      <td>92.111959</td>\n",
       "      <td>7.888041</td>\n",
       "    </tr>\n",
       "    <tr>\n",
       "      <th>1st-4th</th>\n",
       "      <td>96.153846</td>\n",
       "      <td>3.846154</td>\n",
       "    </tr>\n",
       "    <tr>\n",
       "      <th>5th-6th</th>\n",
       "      <td>95.379538</td>\n",
       "      <td>4.620462</td>\n",
       "    </tr>\n",
       "    <tr>\n",
       "      <th>7th-8th</th>\n",
       "      <td>93.368237</td>\n",
       "      <td>6.631763</td>\n",
       "    </tr>\n",
       "    <tr>\n",
       "      <th>9th</th>\n",
       "      <td>94.384449</td>\n",
       "      <td>5.615551</td>\n",
       "    </tr>\n",
       "    <tr>\n",
       "      <th>Assoc-acdm</th>\n",
       "      <td>74.607843</td>\n",
       "      <td>25.392157</td>\n",
       "    </tr>\n",
       "    <tr>\n",
       "      <th>Assoc-voc</th>\n",
       "      <td>73.656321</td>\n",
       "      <td>26.343679</td>\n",
       "    </tr>\n",
       "    <tr>\n",
       "      <th>Bachelors</th>\n",
       "      <td>58.008491</td>\n",
       "      <td>41.991509</td>\n",
       "    </tr>\n",
       "    <tr>\n",
       "      <th>Doctorate</th>\n",
       "      <td>25.879397</td>\n",
       "      <td>74.120603</td>\n",
       "    </tr>\n",
       "    <tr>\n",
       "      <th>HS-grad</th>\n",
       "      <td>83.657705</td>\n",
       "      <td>16.342295</td>\n",
       "    </tr>\n",
       "    <tr>\n",
       "      <th>Masters</th>\n",
       "      <td>43.820896</td>\n",
       "      <td>56.179104</td>\n",
       "    </tr>\n",
       "    <tr>\n",
       "      <th>Preschool</th>\n",
       "      <td>100.000000</td>\n",
       "      <td>0.000000</td>\n",
       "    </tr>\n",
       "    <tr>\n",
       "      <th>Prof-school</th>\n",
       "      <td>25.627240</td>\n",
       "      <td>74.372760</td>\n",
       "    </tr>\n",
       "    <tr>\n",
       "      <th>Some-college</th>\n",
       "      <td>80.044280</td>\n",
       "      <td>19.955720</td>\n",
       "    </tr>\n",
       "  </tbody>\n",
       "</table>\n",
       "</div>"
      ],
      "text/plain": [
       "salary                 0          1\n",
       "education                          \n",
       "10th           92.779783   7.220217\n",
       "11th           94.318182   5.681818\n",
       "12th           92.111959   7.888041\n",
       "1st-4th        96.153846   3.846154\n",
       "5th-6th        95.379538   4.620462\n",
       "7th-8th        93.368237   6.631763\n",
       "9th            94.384449   5.615551\n",
       "Assoc-acdm     74.607843  25.392157\n",
       "Assoc-voc      73.656321  26.343679\n",
       "Bachelors      58.008491  41.991509\n",
       "Doctorate      25.879397  74.120603\n",
       "HS-grad        83.657705  16.342295\n",
       "Masters        43.820896  56.179104\n",
       "Preschool     100.000000   0.000000\n",
       "Prof-school    25.627240  74.372760\n",
       "Some-college   80.044280  19.955720"
      ]
     },
     "execution_count": 26,
     "metadata": {},
     "output_type": "execute_result"
    }
   ],
   "source": [
    "pd.crosstab(census_data['education'], census_data['salary']).apply(lambda r: r/r.sum() * 100, axis=1)"
   ]
  },
  {
   "cell_type": "code",
   "execution_count": 27,
   "metadata": {
    "collapsed": false
   },
   "outputs": [
    {
     "data": {
      "text/html": [
       "<div>\n",
       "<table border=\"1\" class=\"dataframe\">\n",
       "  <thead>\n",
       "    <tr style=\"text-align: right;\">\n",
       "      <th>salary</th>\n",
       "      <th>0</th>\n",
       "      <th>1</th>\n",
       "    </tr>\n",
       "    <tr>\n",
       "      <th>martial_status</th>\n",
       "      <th></th>\n",
       "      <th></th>\n",
       "    </tr>\n",
       "  </thead>\n",
       "  <tbody>\n",
       "    <tr>\n",
       "      <th>Divorced</th>\n",
       "      <td>89.267262</td>\n",
       "      <td>10.732738</td>\n",
       "    </tr>\n",
       "    <tr>\n",
       "      <th>Married-AF-spouse</th>\n",
       "      <td>52.380952</td>\n",
       "      <td>47.619048</td>\n",
       "    </tr>\n",
       "    <tr>\n",
       "      <th>Married-civ-spouse</th>\n",
       "      <td>54.522631</td>\n",
       "      <td>45.477369</td>\n",
       "    </tr>\n",
       "    <tr>\n",
       "      <th>Married-spouse-absent</th>\n",
       "      <td>91.516710</td>\n",
       "      <td>8.483290</td>\n",
       "    </tr>\n",
       "    <tr>\n",
       "      <th>Never-married</th>\n",
       "      <td>95.137207</td>\n",
       "      <td>4.862793</td>\n",
       "    </tr>\n",
       "    <tr>\n",
       "      <th>Separated</th>\n",
       "      <td>93.117831</td>\n",
       "      <td>6.882169</td>\n",
       "    </tr>\n",
       "    <tr>\n",
       "      <th>Widowed</th>\n",
       "      <td>90.357143</td>\n",
       "      <td>9.642857</td>\n",
       "    </tr>\n",
       "  </tbody>\n",
       "</table>\n",
       "</div>"
      ],
      "text/plain": [
       "salary                         0          1\n",
       "martial_status                             \n",
       "Divorced               89.267262  10.732738\n",
       "Married-AF-spouse      52.380952  47.619048\n",
       "Married-civ-spouse     54.522631  45.477369\n",
       "Married-spouse-absent  91.516710   8.483290\n",
       "Never-married          95.137207   4.862793\n",
       "Separated              93.117831   6.882169\n",
       "Widowed                90.357143   9.642857"
      ]
     },
     "execution_count": 27,
     "metadata": {},
     "output_type": "execute_result"
    }
   ],
   "source": [
    "pd.crosstab(census_data['martial_status'], census_data['salary']).apply(lambda r: r/r.sum() * 100, axis=1)"
   ]
  },
  {
   "cell_type": "markdown",
   "metadata": {},
   "source": [
    "Observations:\n",
    "* No categories are to be merged for the workclass and education features.\n",
    "* We can **merge** the **Married-AF-spouse and Married-civ-spouse** categories for the martial_status feature"
   ]
  },
  {
   "cell_type": "code",
   "execution_count": 28,
   "metadata": {
    "collapsed": false
   },
   "outputs": [
    {
     "data": {
      "text/html": [
       "<div>\n",
       "<table border=\"1\" class=\"dataframe\">\n",
       "  <thead>\n",
       "    <tr style=\"text-align: right;\">\n",
       "      <th>salary</th>\n",
       "      <th>0</th>\n",
       "      <th>1</th>\n",
       "    </tr>\n",
       "    <tr>\n",
       "      <th>occupation</th>\n",
       "      <th></th>\n",
       "      <th></th>\n",
       "    </tr>\n",
       "  </thead>\n",
       "  <tbody>\n",
       "    <tr>\n",
       "      <th>Adm-clerical</th>\n",
       "      <td>86.551724</td>\n",
       "      <td>13.448276</td>\n",
       "    </tr>\n",
       "    <tr>\n",
       "      <th>Armed-Forces</th>\n",
       "      <td>88.888889</td>\n",
       "      <td>11.111111</td>\n",
       "    </tr>\n",
       "    <tr>\n",
       "      <th>Craft-repair</th>\n",
       "      <td>77.335936</td>\n",
       "      <td>22.664064</td>\n",
       "    </tr>\n",
       "    <tr>\n",
       "      <th>Exec-managerial</th>\n",
       "      <td>51.598623</td>\n",
       "      <td>48.401377</td>\n",
       "    </tr>\n",
       "    <tr>\n",
       "      <th>Farming-fishing</th>\n",
       "      <td>88.430584</td>\n",
       "      <td>11.569416</td>\n",
       "    </tr>\n",
       "    <tr>\n",
       "      <th>Handlers-cleaners</th>\n",
       "      <td>93.722628</td>\n",
       "      <td>6.277372</td>\n",
       "    </tr>\n",
       "    <tr>\n",
       "      <th>Machine-op-inspct</th>\n",
       "      <td>87.512488</td>\n",
       "      <td>12.487512</td>\n",
       "    </tr>\n",
       "    <tr>\n",
       "      <th>Other-service</th>\n",
       "      <td>95.842185</td>\n",
       "      <td>4.157815</td>\n",
       "    </tr>\n",
       "    <tr>\n",
       "      <th>Priv-house-serv</th>\n",
       "      <td>99.328859</td>\n",
       "      <td>0.671141</td>\n",
       "    </tr>\n",
       "    <tr>\n",
       "      <th>Prof-specialty</th>\n",
       "      <td>55.096618</td>\n",
       "      <td>44.903382</td>\n",
       "    </tr>\n",
       "    <tr>\n",
       "      <th>Protective-serv</th>\n",
       "      <td>67.488444</td>\n",
       "      <td>32.511556</td>\n",
       "    </tr>\n",
       "    <tr>\n",
       "      <th>Sales</th>\n",
       "      <td>73.068493</td>\n",
       "      <td>26.931507</td>\n",
       "    </tr>\n",
       "    <tr>\n",
       "      <th>Tech-support</th>\n",
       "      <td>69.504310</td>\n",
       "      <td>30.495690</td>\n",
       "    </tr>\n",
       "    <tr>\n",
       "      <th>Transport-moving</th>\n",
       "      <td>79.962430</td>\n",
       "      <td>20.037570</td>\n",
       "    </tr>\n",
       "  </tbody>\n",
       "</table>\n",
       "</div>"
      ],
      "text/plain": [
       "salary                     0          1\n",
       "occupation                             \n",
       "Adm-clerical       86.551724  13.448276\n",
       "Armed-Forces       88.888889  11.111111\n",
       "Craft-repair       77.335936  22.664064\n",
       "Exec-managerial    51.598623  48.401377\n",
       "Farming-fishing    88.430584  11.569416\n",
       "Handlers-cleaners  93.722628   6.277372\n",
       "Machine-op-inspct  87.512488  12.487512\n",
       "Other-service      95.842185   4.157815\n",
       "Priv-house-serv    99.328859   0.671141\n",
       "Prof-specialty     55.096618  44.903382\n",
       "Protective-serv    67.488444  32.511556\n",
       "Sales              73.068493  26.931507\n",
       "Tech-support       69.504310  30.495690\n",
       "Transport-moving   79.962430  20.037570"
      ]
     },
     "execution_count": 28,
     "metadata": {},
     "output_type": "execute_result"
    }
   ],
   "source": [
    "pd.crosstab(census_data['occupation'], census_data['salary']).apply(lambda r: r/r.sum() * 100, axis=1)"
   ]
  },
  {
   "cell_type": "code",
   "execution_count": 29,
   "metadata": {
    "collapsed": false
   },
   "outputs": [
    {
     "data": {
      "text/html": [
       "<div>\n",
       "<table border=\"1\" class=\"dataframe\">\n",
       "  <thead>\n",
       "    <tr style=\"text-align: right;\">\n",
       "      <th>salary</th>\n",
       "      <th>0</th>\n",
       "      <th>1</th>\n",
       "    </tr>\n",
       "    <tr>\n",
       "      <th>relationship</th>\n",
       "      <th></th>\n",
       "      <th></th>\n",
       "    </tr>\n",
       "  </thead>\n",
       "  <tbody>\n",
       "    <tr>\n",
       "      <th>Husband</th>\n",
       "      <td>54.431675</td>\n",
       "      <td>45.568325</td>\n",
       "    </tr>\n",
       "    <tr>\n",
       "      <th>Not-in-family</th>\n",
       "      <td>89.345200</td>\n",
       "      <td>10.654800</td>\n",
       "    </tr>\n",
       "    <tr>\n",
       "      <th>Other-relative</th>\n",
       "      <td>96.078431</td>\n",
       "      <td>3.921569</td>\n",
       "    </tr>\n",
       "    <tr>\n",
       "      <th>Own-child</th>\n",
       "      <td>98.541436</td>\n",
       "      <td>1.458564</td>\n",
       "    </tr>\n",
       "    <tr>\n",
       "      <th>Unmarried</th>\n",
       "      <td>93.396515</td>\n",
       "      <td>6.603485</td>\n",
       "    </tr>\n",
       "    <tr>\n",
       "      <th>Wife</th>\n",
       "      <td>50.871080</td>\n",
       "      <td>49.128920</td>\n",
       "    </tr>\n",
       "  </tbody>\n",
       "</table>\n",
       "</div>"
      ],
      "text/plain": [
       "salary                  0          1\n",
       "relationship                        \n",
       "Husband         54.431675  45.568325\n",
       "Not-in-family   89.345200  10.654800\n",
       "Other-relative  96.078431   3.921569\n",
       "Own-child       98.541436   1.458564\n",
       "Unmarried       93.396515   6.603485\n",
       "Wife            50.871080  49.128920"
      ]
     },
     "execution_count": 29,
     "metadata": {},
     "output_type": "execute_result"
    }
   ],
   "source": [
    "pd.crosstab(census_data['relationship'], census_data['salary']).apply(lambda r: r/r.sum() * 100, axis=1)"
   ]
  },
  {
   "cell_type": "markdown",
   "metadata": {},
   "source": [
    "Observations:\n",
    "* No categories are to be merged for the salary feature\n",
    "* We can **merge** the **Husband and Wife** categories for the relationship feature"
   ]
  },
  {
   "cell_type": "code",
   "execution_count": 30,
   "metadata": {
    "collapsed": false
   },
   "outputs": [
    {
     "data": {
      "text/html": [
       "<div>\n",
       "<table border=\"1\" class=\"dataframe\">\n",
       "  <thead>\n",
       "    <tr style=\"text-align: right;\">\n",
       "      <th>salary</th>\n",
       "      <th>0</th>\n",
       "      <th>1</th>\n",
       "    </tr>\n",
       "    <tr>\n",
       "      <th>race</th>\n",
       "      <th></th>\n",
       "      <th></th>\n",
       "    </tr>\n",
       "  </thead>\n",
       "  <tbody>\n",
       "    <tr>\n",
       "      <th>Amer-Indian-Eskimo</th>\n",
       "      <td>88.111888</td>\n",
       "      <td>11.888112</td>\n",
       "    </tr>\n",
       "    <tr>\n",
       "      <th>Asian-Pac-Islander</th>\n",
       "      <td>72.176591</td>\n",
       "      <td>27.823409</td>\n",
       "    </tr>\n",
       "    <tr>\n",
       "      <th>Black</th>\n",
       "      <td>87.005844</td>\n",
       "      <td>12.994156</td>\n",
       "    </tr>\n",
       "    <tr>\n",
       "      <th>Other</th>\n",
       "      <td>90.725806</td>\n",
       "      <td>9.274194</td>\n",
       "    </tr>\n",
       "    <tr>\n",
       "      <th>White</th>\n",
       "      <td>73.597962</td>\n",
       "      <td>26.402038</td>\n",
       "    </tr>\n",
       "  </tbody>\n",
       "</table>\n",
       "</div>"
      ],
      "text/plain": [
       "salary                      0          1\n",
       "race                                    \n",
       "Amer-Indian-Eskimo  88.111888  11.888112\n",
       "Asian-Pac-Islander  72.176591  27.823409\n",
       "Black               87.005844  12.994156\n",
       "Other               90.725806   9.274194\n",
       "White               73.597962  26.402038"
      ]
     },
     "execution_count": 30,
     "metadata": {},
     "output_type": "execute_result"
    }
   ],
   "source": [
    "pd.crosstab(census_data['race'], census_data['salary']).apply(lambda r: r/r.sum() * 100, axis=1)"
   ]
  },
  {
   "cell_type": "code",
   "execution_count": 31,
   "metadata": {
    "collapsed": false
   },
   "outputs": [
    {
     "data": {
      "text/html": [
       "<div>\n",
       "<table border=\"1\" class=\"dataframe\">\n",
       "  <thead>\n",
       "    <tr style=\"text-align: right;\">\n",
       "      <th>salary</th>\n",
       "      <th>0</th>\n",
       "      <th>1</th>\n",
       "    </tr>\n",
       "    <tr>\n",
       "      <th>sex</th>\n",
       "      <th></th>\n",
       "      <th></th>\n",
       "    </tr>\n",
       "  </thead>\n",
       "  <tbody>\n",
       "    <tr>\n",
       "      <th>Female</th>\n",
       "      <td>88.650554</td>\n",
       "      <td>11.349446</td>\n",
       "    </tr>\n",
       "    <tr>\n",
       "      <th>Male</th>\n",
       "      <td>68.621320</td>\n",
       "      <td>31.378680</td>\n",
       "    </tr>\n",
       "  </tbody>\n",
       "</table>\n",
       "</div>"
      ],
      "text/plain": [
       "salary          0          1\n",
       "sex                         \n",
       "Female  88.650554  11.349446\n",
       "Male    68.621320  31.378680"
      ]
     },
     "execution_count": 31,
     "metadata": {},
     "output_type": "execute_result"
    }
   ],
   "source": [
    "pd.crosstab(census_data['sex'], census_data['salary']).apply(lambda r: r/r.sum() * 100, axis=1)"
   ]
  },
  {
   "cell_type": "code",
   "execution_count": 32,
   "metadata": {
    "collapsed": false
   },
   "outputs": [
    {
     "data": {
      "text/html": [
       "<div>\n",
       "<table border=\"1\" class=\"dataframe\">\n",
       "  <thead>\n",
       "    <tr style=\"text-align: right;\">\n",
       "      <th>salary</th>\n",
       "      <th>0</th>\n",
       "      <th>1</th>\n",
       "    </tr>\n",
       "    <tr>\n",
       "      <th>native_country</th>\n",
       "      <th></th>\n",
       "      <th></th>\n",
       "    </tr>\n",
       "  </thead>\n",
       "  <tbody>\n",
       "    <tr>\n",
       "      <th>Cambodia</th>\n",
       "      <td>61.111111</td>\n",
       "      <td>38.888889</td>\n",
       "    </tr>\n",
       "    <tr>\n",
       "      <th>Canada</th>\n",
       "      <td>66.355140</td>\n",
       "      <td>33.644860</td>\n",
       "    </tr>\n",
       "    <tr>\n",
       "      <th>China</th>\n",
       "      <td>70.588235</td>\n",
       "      <td>29.411765</td>\n",
       "    </tr>\n",
       "    <tr>\n",
       "      <th>Columbia</th>\n",
       "      <td>96.428571</td>\n",
       "      <td>3.571429</td>\n",
       "    </tr>\n",
       "    <tr>\n",
       "      <th>Cuba</th>\n",
       "      <td>72.826087</td>\n",
       "      <td>27.173913</td>\n",
       "    </tr>\n",
       "    <tr>\n",
       "      <th>Dominican-Republic</th>\n",
       "      <td>97.014925</td>\n",
       "      <td>2.985075</td>\n",
       "    </tr>\n",
       "    <tr>\n",
       "      <th>Ecuador</th>\n",
       "      <td>85.185185</td>\n",
       "      <td>14.814815</td>\n",
       "    </tr>\n",
       "    <tr>\n",
       "      <th>El-Salvador</th>\n",
       "      <td>91.000000</td>\n",
       "      <td>9.000000</td>\n",
       "    </tr>\n",
       "    <tr>\n",
       "      <th>England</th>\n",
       "      <td>65.116279</td>\n",
       "      <td>34.883721</td>\n",
       "    </tr>\n",
       "    <tr>\n",
       "      <th>France</th>\n",
       "      <td>55.555556</td>\n",
       "      <td>44.444444</td>\n",
       "    </tr>\n",
       "    <tr>\n",
       "      <th>Germany</th>\n",
       "      <td>65.625000</td>\n",
       "      <td>34.375000</td>\n",
       "    </tr>\n",
       "    <tr>\n",
       "      <th>Greece</th>\n",
       "      <td>72.413793</td>\n",
       "      <td>27.586207</td>\n",
       "    </tr>\n",
       "    <tr>\n",
       "      <th>Guatemala</th>\n",
       "      <td>95.238095</td>\n",
       "      <td>4.761905</td>\n",
       "    </tr>\n",
       "    <tr>\n",
       "      <th>Haiti</th>\n",
       "      <td>90.476190</td>\n",
       "      <td>9.523810</td>\n",
       "    </tr>\n",
       "    <tr>\n",
       "      <th>Holand-Netherlands</th>\n",
       "      <td>100.000000</td>\n",
       "      <td>0.000000</td>\n",
       "    </tr>\n",
       "    <tr>\n",
       "      <th>Honduras</th>\n",
       "      <td>91.666667</td>\n",
       "      <td>8.333333</td>\n",
       "    </tr>\n",
       "    <tr>\n",
       "      <th>Hong</th>\n",
       "      <td>68.421053</td>\n",
       "      <td>31.578947</td>\n",
       "    </tr>\n",
       "    <tr>\n",
       "      <th>Hungary</th>\n",
       "      <td>76.923077</td>\n",
       "      <td>23.076923</td>\n",
       "    </tr>\n",
       "    <tr>\n",
       "      <th>India</th>\n",
       "      <td>60.000000</td>\n",
       "      <td>40.000000</td>\n",
       "    </tr>\n",
       "    <tr>\n",
       "      <th>Iran</th>\n",
       "      <td>57.142857</td>\n",
       "      <td>42.857143</td>\n",
       "    </tr>\n",
       "    <tr>\n",
       "      <th>Ireland</th>\n",
       "      <td>79.166667</td>\n",
       "      <td>20.833333</td>\n",
       "    </tr>\n",
       "    <tr>\n",
       "      <th>Italy</th>\n",
       "      <td>64.705882</td>\n",
       "      <td>35.294118</td>\n",
       "    </tr>\n",
       "    <tr>\n",
       "      <th>Jamaica</th>\n",
       "      <td>87.500000</td>\n",
       "      <td>12.500000</td>\n",
       "    </tr>\n",
       "    <tr>\n",
       "      <th>Japan</th>\n",
       "      <td>61.016949</td>\n",
       "      <td>38.983051</td>\n",
       "    </tr>\n",
       "    <tr>\n",
       "      <th>Laos</th>\n",
       "      <td>88.235294</td>\n",
       "      <td>11.764706</td>\n",
       "    </tr>\n",
       "    <tr>\n",
       "      <th>Mexico</th>\n",
       "      <td>94.590164</td>\n",
       "      <td>5.409836</td>\n",
       "    </tr>\n",
       "    <tr>\n",
       "      <th>Nicaragua</th>\n",
       "      <td>93.939394</td>\n",
       "      <td>6.060606</td>\n",
       "    </tr>\n",
       "    <tr>\n",
       "      <th>Outlying-US(Guam-USVI-etc)</th>\n",
       "      <td>100.000000</td>\n",
       "      <td>0.000000</td>\n",
       "    </tr>\n",
       "    <tr>\n",
       "      <th>Peru</th>\n",
       "      <td>93.333333</td>\n",
       "      <td>6.666667</td>\n",
       "    </tr>\n",
       "    <tr>\n",
       "      <th>Philippines</th>\n",
       "      <td>68.085106</td>\n",
       "      <td>31.914894</td>\n",
       "    </tr>\n",
       "    <tr>\n",
       "      <th>Poland</th>\n",
       "      <td>80.357143</td>\n",
       "      <td>19.642857</td>\n",
       "    </tr>\n",
       "    <tr>\n",
       "      <th>Portugal</th>\n",
       "      <td>88.235294</td>\n",
       "      <td>11.764706</td>\n",
       "    </tr>\n",
       "    <tr>\n",
       "      <th>Puerto-Rico</th>\n",
       "      <td>88.990826</td>\n",
       "      <td>11.009174</td>\n",
       "    </tr>\n",
       "    <tr>\n",
       "      <th>Scotland</th>\n",
       "      <td>81.818182</td>\n",
       "      <td>18.181818</td>\n",
       "    </tr>\n",
       "    <tr>\n",
       "      <th>South</th>\n",
       "      <td>80.281690</td>\n",
       "      <td>19.718310</td>\n",
       "    </tr>\n",
       "    <tr>\n",
       "      <th>Taiwan</th>\n",
       "      <td>54.761905</td>\n",
       "      <td>45.238095</td>\n",
       "    </tr>\n",
       "    <tr>\n",
       "      <th>Thailand</th>\n",
       "      <td>82.352941</td>\n",
       "      <td>17.647059</td>\n",
       "    </tr>\n",
       "    <tr>\n",
       "      <th>Trinadad&amp;Tobago</th>\n",
       "      <td>88.888889</td>\n",
       "      <td>11.111111</td>\n",
       "    </tr>\n",
       "    <tr>\n",
       "      <th>United-States</th>\n",
       "      <td>74.565217</td>\n",
       "      <td>25.434783</td>\n",
       "    </tr>\n",
       "    <tr>\n",
       "      <th>Vietnam</th>\n",
       "      <td>92.187500</td>\n",
       "      <td>7.812500</td>\n",
       "    </tr>\n",
       "    <tr>\n",
       "      <th>Yugoslavia</th>\n",
       "      <td>62.500000</td>\n",
       "      <td>37.500000</td>\n",
       "    </tr>\n",
       "  </tbody>\n",
       "</table>\n",
       "</div>"
      ],
      "text/plain": [
       "salary                               0          1\n",
       "native_country                                   \n",
       "Cambodia                     61.111111  38.888889\n",
       "Canada                       66.355140  33.644860\n",
       "China                        70.588235  29.411765\n",
       "Columbia                     96.428571   3.571429\n",
       "Cuba                         72.826087  27.173913\n",
       "Dominican-Republic           97.014925   2.985075\n",
       "Ecuador                      85.185185  14.814815\n",
       "El-Salvador                  91.000000   9.000000\n",
       "England                      65.116279  34.883721\n",
       "France                       55.555556  44.444444\n",
       "Germany                      65.625000  34.375000\n",
       "Greece                       72.413793  27.586207\n",
       "Guatemala                    95.238095   4.761905\n",
       "Haiti                        90.476190   9.523810\n",
       "Holand-Netherlands          100.000000   0.000000\n",
       "Honduras                     91.666667   8.333333\n",
       "Hong                         68.421053  31.578947\n",
       "Hungary                      76.923077  23.076923\n",
       "India                        60.000000  40.000000\n",
       "Iran                         57.142857  42.857143\n",
       "Ireland                      79.166667  20.833333\n",
       "Italy                        64.705882  35.294118\n",
       "Jamaica                      87.500000  12.500000\n",
       "Japan                        61.016949  38.983051\n",
       "Laos                         88.235294  11.764706\n",
       "Mexico                       94.590164   5.409836\n",
       "Nicaragua                    93.939394   6.060606\n",
       "Outlying-US(Guam-USVI-etc)  100.000000   0.000000\n",
       "Peru                         93.333333   6.666667\n",
       "Philippines                  68.085106  31.914894\n",
       "Poland                       80.357143  19.642857\n",
       "Portugal                     88.235294  11.764706\n",
       "Puerto-Rico                  88.990826  11.009174\n",
       "Scotland                     81.818182  18.181818\n",
       "South                        80.281690  19.718310\n",
       "Taiwan                       54.761905  45.238095\n",
       "Thailand                     82.352941  17.647059\n",
       "Trinadad&Tobago              88.888889  11.111111\n",
       "United-States                74.565217  25.434783\n",
       "Vietnam                      92.187500   7.812500\n",
       "Yugoslavia                   62.500000  37.500000"
      ]
     },
     "execution_count": 32,
     "metadata": {},
     "output_type": "execute_result"
    }
   ],
   "source": [
    "pd.crosstab(census_data['native_country'], census_data['salary']).apply(lambda r: r/r.sum() * 100, axis=1)"
   ]
  },
  {
   "cell_type": "markdown",
   "metadata": {},
   "source": [
    "Observations:\n",
    "* No categories are to be merged for the native_country, sex and race features\n",
    "* Other categories of the features can be merged later of the feature is found important"
   ]
  },
  {
   "cell_type": "code",
   "execution_count": 33,
   "metadata": {
    "collapsed": false
   },
   "outputs": [
    {
     "name": "stdout",
     "output_type": "stream",
     "text": [
      "Populating the interactive namespace from numpy and matplotlib\n",
      "\n",
      "Enter the name of the category to display.\n",
      "Choose from workclass, education, martial_status, occupation, relationship, race, sex, native_country and salary:\n",
      "workclass\n"
     ]
    },
    {
     "data": {
      "text/plain": [
       "<matplotlib.figure.Figure at 0x10e7fe30>"
      ]
     },
     "metadata": {},
     "output_type": "display_data"
    },
    {
     "data": {
      "image/png": "[encoded data removed]",
      "text/plain": [
       "<matplotlib.figure.Figure at 0x9e56cf0>"
      ]
     },
     "metadata": {},
     "output_type": "display_data"
    }
   ],
   "source": [
    "'''\n",
    "The bar plot shows the frequency of the categorical variable. \n",
    "Enter the name of the categorical variable to look at the bar plot. \n",
    "This plot is dynamic in nature. On entering a different category, and pressing cntrl + Enter, the plot will change.\n",
    "'''\n",
    "\n",
    "%pylab inline\n",
    "plt.figure(figsize=(30,15))\n",
    "\n",
    "print \"\\nEnter the name of the category to display.\"\n",
    "print \"Choose from workclass, education, martial_status, occupation, relationship, race, sex, native_country and salary:\"\n",
    "category = raw_input()\n",
    "\n",
    "dictionary = {\n",
    "    \"workclass\" : 1,\n",
    "    \"education\" : 3,\n",
    "    \"martial_status\": 5,\n",
    "    \"occupation\": 6,\n",
    "    \"relationship\": 7,\n",
    "    \"race\": 8,\n",
    "    \"sex\": 9,\n",
    "    \"native_country\": 13,\n",
    "    \"salary\": 14\n",
    "}\n",
    "\n",
    "index = dictionary[category]\n",
    "\n",
    "series = census_data.ix[:,index]\n",
    "counts = series.value_counts()\n",
    "\n",
    "cat = []\n",
    "y_height = []\n",
    "\n",
    "for i in counts.keys():\n",
    "    cat.append(i)\n",
    "    y_height.append(counts[i])\n",
    "\n",
    "y_pos = np.arange(len(cat))\n",
    "\n",
    "fig = plt.figure(figsize=(20,5))\n",
    "ax = fig.add_subplot(111)\n",
    "ax.bar(y_pos,y_height, align = 'center')\n",
    "plt.xticks(y_pos, cat)\n",
    "plt.show()"
   ]
  },
  {
   "cell_type": "code",
   "execution_count": 34,
   "metadata": {
    "collapsed": false
   },
   "outputs": [
    {
     "name": "stdout",
     "output_type": "stream",
     "text": [
      "Populating the interactive namespace from numpy and matplotlib\n",
      "\n",
      "Enter the name of the category to display.\n",
      "Choose from workclass, education, martial_status, occupation, relationship, race, sex, native country and salary:\n",
      "education\n"
     ]
    },
    {
     "data": {
      "text/plain": [
       "<matplotlib.figure.Figure at 0x10c8de90>"
      ]
     },
     "metadata": {},
     "output_type": "display_data"
    },
    {
     "data": {
      "image/png": "[encoded data removed]",
      "text/plain": [
       "<matplotlib.figure.Figure at 0x9e56f50>"
      ]
     },
     "metadata": {},
     "output_type": "display_data"
    },
    {
     "data": {
      "image/png": "[encoded data removed]",
      "text/plain": [
       "<matplotlib.figure.Figure at 0x9fa2a10>"
      ]
     },
     "metadata": {},
     "output_type": "display_data"
    }
   ],
   "source": [
    "'''\n",
    "The bar charts below shows the count of each indipendent variable with respect to the dependent variable.\n",
    "For each variable, the bar plot shows the count for <= 50K (blue) and > 50k (red).\n",
    "The plot is dynamic and thus the variable of interest is to be enetered by the user.\n",
    "'''\n",
    "\n",
    "%pylab inline\n",
    "plt.figure(figsize=(30,15))\n",
    "\n",
    "print \"\\nEnter the name of the category to display.\"\n",
    "print \"Choose from workclass, education, martial_status, occupation, relationship, race, sex, native country and salary:\"\n",
    "category = raw_input()\n",
    "\n",
    "group = census_data.groupby([category,'salary']).size()\n",
    "less_than_50k = group.ix[:,0]\n",
    "greater_than_50k = group.ix[:,1]\n",
    "\n",
    "labels_0 = []\n",
    "values_0 = []\n",
    "count_0 = 0\n",
    "\n",
    "labels_1 = []\n",
    "values_1 = []\n",
    "count_1 = 0\n",
    "\n",
    "for elem in less_than_50k.keys():\n",
    "    labels_0.append(elem)\n",
    "    values_0.append(less_than_50k[count_0])\n",
    "    count_0 += 1\n",
    "    \n",
    "for elem in greater_than_50k.keys():\n",
    "    labels_1.append(elem)\n",
    "    values_1.append(greater_than_50k[count_1])\n",
    "    count_1 += 1\n",
    "    \n",
    "\n",
    "y_pos1 = np.arange(len(labels_0))\n",
    "y_pos2 = np.arange(len(labels_1))\n",
    "\n",
    "fig = plt.figure(figsize=(20,5))\n",
    "ax = fig.add_subplot(111)\n",
    "ax.bar(y_pos1,values_0, align = 'center')\n",
    "plt.xticks(y_pos1, labels_0)\n",
    "plt.title('Salary <= 50k')\n",
    "plt.xlabel(category)\n",
    "plt.ylabel('Frequency')\n",
    "\n",
    "fig = plt.figure(figsize=(20,5))\n",
    "ax = fig.add_subplot(111)\n",
    "ax.bar(y_pos2,values_1, align = 'center', color = 'red')\n",
    "plt.xticks(y_pos2, labels_1)\n",
    "plt.title('Salary > 50k')\n",
    "plt.xlabel(category)\n",
    "plt.ylabel('Frequency')\n",
    "plt.show()"
   ]
  },
  {
   "cell_type": "markdown",
   "metadata": {},
   "source": [
    "## Feature Engineering"
   ]
  },
  {
   "cell_type": "markdown",
   "metadata": {},
   "source": [
    "### 1. fnlwgt"
   ]
  },
  {
   "cell_type": "code",
   "execution_count": 35,
   "metadata": {
    "collapsed": false
   },
   "outputs": [
    {
     "name": "stdout",
     "output_type": "stream",
     "text": [
      "Populating the interactive namespace from numpy and matplotlib\n"
     ]
    },
    {
     "data": {
      "text/plain": [
       "<matplotlib.axes._subplots.AxesSubplot at 0x11188330>"
      ]
     },
     "execution_count": 35,
     "metadata": {},
     "output_type": "execute_result"
    },
    {
     "data": {
      "image/png": "[encoded data removed]",
      "text/plain": [
       "<matplotlib.figure.Figure at 0x11188b90>"
      ]
     },
     "metadata": {},
     "output_type": "display_data"
    }
   ],
   "source": [
    "'''\n",
    "Check the distribtion of fnlwgt after applying a square-root transformation\n",
    "'''\n",
    "%pylab inline\n",
    "plt.figure(figsize=(30,15))\n",
    "\n",
    "plt.title('fnlwgt Sqrt Transformation')\n",
    "sqrt_transformed = census_data.fnlwgt.apply(np.sqrt) # Get the square root of data points*\n",
    "sqrt_transformed.hist(bins=21)"
   ]
  },
  {
   "cell_type": "code",
   "execution_count": 36,
   "metadata": {
    "collapsed": false
   },
   "outputs": [
    {
     "name": "stdout",
     "output_type": "stream",
     "text": [
      "Populating the interactive namespace from numpy and matplotlib\n"
     ]
    },
    {
     "data": {
      "text/plain": [
       "<matplotlib.axes._subplots.AxesSubplot at 0xa11f6d0>"
      ]
     },
     "execution_count": 36,
     "metadata": {},
     "output_type": "execute_result"
    },
    {
     "data": {
      "image/png": "[encoded data removed]",
      "text/plain": [
       "<matplotlib.figure.Figure at 0xa11fd30>"
      ]
     },
     "metadata": {},
     "output_type": "display_data"
    }
   ],
   "source": [
    "'''\n",
    "Check the distribtion of fnlwgt after applying a log transformation\n",
    "'''\n",
    "%pylab inline\n",
    "plt.figure(figsize=(30,15))\n",
    "plt.title('fnlwgt Log Transformation')\n",
    "\n",
    "log_transformed = (census_data.fnlwgt+1).apply(np.log)   # Get the log of the data\n",
    "log_transformed.hist(bins=21)"
   ]
  },
  {
   "cell_type": "markdown",
   "metadata": {},
   "source": [
    "Observations:\n",
    "* The feature **fnlwgt** has an approximate normal distribution after square-root transformation. This feature will hence be transformed (square-root transformation) before modeling."
   ]
  },
  {
   "cell_type": "code",
   "execution_count": 37,
   "metadata": {
    "collapsed": true
   },
   "outputs": [],
   "source": [
    "'''\n",
    "Add sq-root transformed fnlwgt as a new feature\n",
    "'''\n",
    "census_data['fnlwgt_transformed'] = sqrt_transformed"
   ]
  },
  {
   "cell_type": "markdown",
   "metadata": {},
   "source": [
    "### 2. capital_gain & capital_loss"
   ]
  },
  {
   "cell_type": "code",
   "execution_count": 38,
   "metadata": {
    "collapsed": false
   },
   "outputs": [
    {
     "name": "stdout",
     "output_type": "stream",
     "text": [
      "Populating the interactive namespace from numpy and matplotlib\n"
     ]
    },
    {
     "data": {
      "text/plain": [
       "<matplotlib.axes._subplots.AxesSubplot at 0x1116ebf0>"
      ]
     },
     "execution_count": 38,
     "metadata": {},
     "output_type": "execute_result"
    },
    {
     "data": {
      "image/png": "[encoded data removed]",
      "text/plain": [
       "<matplotlib.figure.Figure at 0x1116ef50>"
      ]
     },
     "metadata": {},
     "output_type": "display_data"
    }
   ],
   "source": [
    "'''\n",
    "Check the distribtion of capital_gain after applying a square-root transformation\n",
    "'''\n",
    "%pylab inline\n",
    "plt.figure(figsize=(30,15))\n",
    "\n",
    "plt.title('capital_gain Sqrt Transformation')\n",
    "sqrt_transformed = census_data.capital_gain.apply(np.sqrt) # Get the square root of data points*\n",
    "sqrt_transformed.hist(bins=17)"
   ]
  },
  {
   "cell_type": "code",
   "execution_count": 39,
   "metadata": {
    "collapsed": false
   },
   "outputs": [
    {
     "name": "stdout",
     "output_type": "stream",
     "text": [
      "Populating the interactive namespace from numpy and matplotlib\n"
     ]
    },
    {
     "data": {
      "text/plain": [
       "<matplotlib.axes._subplots.AxesSubplot at 0x9fbfdf0>"
      ]
     },
     "execution_count": 39,
     "metadata": {},
     "output_type": "execute_result"
    },
    {
     "data": {
      "image/png": "[encoded data removed]",
      "text/plain": [
       "<matplotlib.figure.Figure at 0xb0ceed0>"
      ]
     },
     "metadata": {},
     "output_type": "display_data"
    }
   ],
   "source": [
    "'''\n",
    "Check the distribtion of capital_gain after applying a square-root transformation\n",
    "'''\n",
    "%pylab inline\n",
    "plt.figure(figsize=(30,15))\n",
    "plt.title('capital_gain Log Transformation')\n",
    "\n",
    "log_transformed = (census_data.capital_gain+1).apply(np.log)   # Get the log of the data\n",
    "log_transformed.hist(bins=17)"
   ]
  },
  {
   "cell_type": "markdown",
   "metadata": {},
   "source": [
    "Since the transformations above have not helped to normalize the data, we can block the data into **3 separate bins: None (representing 0), Low and High**. We can do this for both the feautures. We can first **subset all the values that are !=0** and then represent the **values lower than the median of the non-zero values as a Low category and the rest as High**. "
   ]
  },
  {
   "cell_type": "code",
   "execution_count": 40,
   "metadata": {
    "collapsed": false
   },
   "outputs": [
    {
     "data": {
      "text/plain": [
       "count     2589.000000\n",
       "mean     13122.922750\n",
       "std      22571.972006\n",
       "min        114.000000\n",
       "25%       3464.000000\n",
       "50%       7298.000000\n",
       "75%      14084.000000\n",
       "max      99999.000000\n",
       "Name: capital_gain, dtype: float64"
      ]
     },
     "execution_count": 40,
     "metadata": {},
     "output_type": "execute_result"
    }
   ],
   "source": [
    "'''\n",
    "Subset the non-zero observations to get the median\n",
    "'''\n",
    "census_data[census_data.capital_gain != 0]['capital_gain'].describe()"
   ]
  },
  {
   "cell_type": "code",
   "execution_count": 41,
   "metadata": {
    "collapsed": true
   },
   "outputs": [],
   "source": [
    "'''\n",
    "Create bins based on the above information and append the bins as a new feature\n",
    "'''\n",
    "bins = [-1, 113, 7297, 100000]\n",
    "group_names = ['low','medium','high']\n",
    "\n",
    "census_data['capital_gain_cat'] = pd.cut(census_data.capital_gain, bins=bins, labels=group_names)"
   ]
  },
  {
   "cell_type": "code",
   "execution_count": 42,
   "metadata": {
    "collapsed": false
   },
   "outputs": [
    {
     "data": {
      "text/plain": [
       "count    1461.000000\n",
       "mean     1869.366188\n",
       "std       362.675806\n",
       "min       155.000000\n",
       "25%      1672.000000\n",
       "50%      1887.000000\n",
       "75%      1977.000000\n",
       "max      4356.000000\n",
       "Name: capital_loss, dtype: float64"
      ]
     },
     "execution_count": 42,
     "metadata": {},
     "output_type": "execute_result"
    }
   ],
   "source": [
    "'''\n",
    "Subset the non-zero observations to get the median\n",
    "'''\n",
    "census_data[census_data.capital_loss != 0]['capital_loss'].describe()"
   ]
  },
  {
   "cell_type": "code",
   "execution_count": 43,
   "metadata": {
    "collapsed": true
   },
   "outputs": [],
   "source": [
    "'''\n",
    "Create bins based on the above information and append the bins as a new feature\n",
    "'''\n",
    "bins = [-1, 154, 1886, 4357]\n",
    "group_names = ['low','medium','high']\n",
    "\n",
    "census_data['capital_loss_cat'] = pd.cut(census_data.capital_loss, bins=bins, labels=group_names)"
   ]
  },
  {
   "cell_type": "markdown",
   "metadata": {},
   "source": [
    "### 3. martial_status"
   ]
  },
  {
   "cell_type": "code",
   "execution_count": 44,
   "metadata": {
    "collapsed": false
   },
   "outputs": [],
   "source": [
    "'''\n",
    "Merge Married-AF-spouse and Married-civ-spouse categories for the martial_status feature to 'Married-AF-civ'\n",
    "'''\n",
    "census_data['martial_status_merged'] = census_data['martial_status']\n",
    "\n",
    "census_data.loc[census_data['martial_status'] == 'Married-AF-spouse', 'martial_status_merged'] = 'Married-AF-civ'\n",
    "census_data.loc[census_data['martial_status'] == 'Married-civ-spouse', 'martial_status_merged'] = 'Married-AF-civ'"
   ]
  },
  {
   "cell_type": "code",
   "execution_count": 45,
   "metadata": {
    "collapsed": false
   },
   "outputs": [
    {
     "data": {
      "text/plain": [
       "Married-AF-civ           14360\n",
       "Never-married             9912\n",
       "Divorced                  4258\n",
       "Separated                  959\n",
       "Widowed                    840\n",
       "Married-spouse-absent      389\n",
       "Name: martial_status_merged, dtype: int64"
      ]
     },
     "execution_count": 45,
     "metadata": {},
     "output_type": "execute_result"
    }
   ],
   "source": [
    "census_data.martial_status_merged.value_counts()"
   ]
  },
  {
   "cell_type": "markdown",
   "metadata": {},
   "source": [
    "### 4. relationship"
   ]
  },
  {
   "cell_type": "code",
   "execution_count": 46,
   "metadata": {
    "collapsed": true
   },
   "outputs": [],
   "source": [
    "'''\n",
    "Merge Husband and Wife categories for the relationship feature to 'husb_wife'\n",
    "'''\n",
    "census_data['relationship_merged'] = census_data['relationship']\n",
    "\n",
    "census_data.loc[census_data['relationship'] == 'Husband', 'relationship_merged'] = 'husb_wife'\n",
    "census_data.loc[census_data['relationship'] == 'Wife', 'relationship_merged'] = 'husb_wife'"
   ]
  },
  {
   "cell_type": "code",
   "execution_count": 47,
   "metadata": {
    "collapsed": false
   },
   "outputs": [
    {
     "data": {
      "text/plain": [
       "husb_wife         14139\n",
       "Not-in-family      7865\n",
       "Own-child          4525\n",
       "Unmarried          3271\n",
       "Other-relative      918\n",
       "Name: relationship_merged, dtype: int64"
      ]
     },
     "execution_count": 47,
     "metadata": {},
     "output_type": "execute_result"
    }
   ],
   "source": [
    "census_data.relationship_merged.value_counts()"
   ]
  },
  {
   "cell_type": "markdown",
   "metadata": {},
   "source": [
    "### Dummy variable creation"
   ]
  },
  {
   "cell_type": "code",
   "execution_count": 48,
   "metadata": {
    "collapsed": false
   },
   "outputs": [
    {
     "name": "stdout",
     "output_type": "stream",
     "text": [
      "age\n",
      "workclass\n",
      "fnlwgt\n",
      "education\n",
      "education_num\n",
      "martial_status\n",
      "occupation\n",
      "relationship\n",
      "race\n",
      "sex\n",
      "capital_gain\n",
      "capital_loss\n",
      "hours_per_week\n",
      "native_country\n",
      "salary\n",
      "fnlwgt_transformed\n",
      "capital_gain_cat\n",
      "capital_loss_cat\n",
      "martial_status_merged\n",
      "relationship_merged\n"
     ]
    }
   ],
   "source": [
    "'''\n",
    "Print all column names\n",
    "'''\n",
    "for i in census_data.columns:\n",
    "    print i"
   ]
  },
  {
   "cell_type": "code",
   "execution_count": 49,
   "metadata": {
    "collapsed": false
   },
   "outputs": [
    {
     "data": {
      "text/plain": [
       "age                         int64\n",
       "workclass                  object\n",
       "education                  object\n",
       "education_num               int64\n",
       "occupation                 object\n",
       "race                       object\n",
       "sex                        object\n",
       "hours_per_week              int64\n",
       "native_country             object\n",
       "salary                       int8\n",
       "fnlwgt_transformed        float64\n",
       "capital_gain_cat         category\n",
       "capital_loss_cat         category\n",
       "martial_status_merged      object\n",
       "relationship_merged        object\n",
       "dtype: object"
      ]
     },
     "execution_count": 49,
     "metadata": {},
     "output_type": "execute_result"
    }
   ],
   "source": [
    "'''\n",
    "Drop redundant columns, prepare data for modeling\n",
    "'''\n",
    "training_data = census_data.drop(['fnlwgt', 'martial_status', 'relationship',\n",
    "                                  'capital_gain', 'capital_loss'], axis = 1)\n",
    "\n",
    "training_data.dtypes"
   ]
  },
  {
   "cell_type": "code",
   "execution_count": 50,
   "metadata": {
    "collapsed": false
   },
   "outputs": [
    {
     "name": "stdout",
     "output_type": "stream",
     "text": [
      "age\n",
      "education_num\n",
      "hours_per_week\n",
      "salary\n",
      "fnlwgt_transformed\n",
      "workclass_Federal-gov\n",
      "workclass_Local-gov\n",
      "workclass_Private\n",
      "workclass_Self-emp-inc\n",
      "workclass_Self-emp-not-inc\n",
      "workclass_State-gov\n",
      "workclass_Without-pay\n",
      "education_10th\n",
      "education_11th\n",
      "education_12th\n",
      "education_1st-4th\n",
      "education_5th-6th\n",
      "education_7th-8th\n",
      "education_9th\n",
      "education_Assoc-acdm\n",
      "education_Assoc-voc\n",
      "education_Bachelors\n",
      "education_Doctorate\n",
      "education_HS-grad\n",
      "education_Masters\n",
      "education_Preschool\n",
      "education_Prof-school\n",
      "education_Some-college\n",
      "occupation_Adm-clerical\n",
      "occupation_Armed-Forces\n",
      "occupation_Craft-repair\n",
      "occupation_Exec-managerial\n",
      "occupation_Farming-fishing\n",
      "occupation_Handlers-cleaners\n",
      "occupation_Machine-op-inspct\n",
      "occupation_Other-service\n",
      "occupation_Priv-house-serv\n",
      "occupation_Prof-specialty\n",
      "occupation_Protective-serv\n",
      "occupation_Sales\n",
      "occupation_Tech-support\n",
      "occupation_Transport-moving\n",
      "race_Amer-Indian-Eskimo\n",
      "race_Asian-Pac-Islander\n",
      "race_Black\n",
      "race_Other\n",
      "race_White\n",
      "sex_Female\n",
      "sex_Male\n",
      "native_country_Cambodia\n",
      "native_country_Canada\n",
      "native_country_China\n",
      "native_country_Columbia\n",
      "native_country_Cuba\n",
      "native_country_Dominican-Republic\n",
      "native_country_Ecuador\n",
      "native_country_El-Salvador\n",
      "native_country_England\n",
      "native_country_France\n",
      "native_country_Germany\n",
      "native_country_Greece\n",
      "native_country_Guatemala\n",
      "native_country_Haiti\n",
      "native_country_Holand-Netherlands\n",
      "native_country_Honduras\n",
      "native_country_Hong\n",
      "native_country_Hungary\n",
      "native_country_India\n",
      "native_country_Iran\n",
      "native_country_Ireland\n",
      "native_country_Italy\n",
      "native_country_Jamaica\n",
      "native_country_Japan\n",
      "native_country_Laos\n",
      "native_country_Mexico\n",
      "native_country_Nicaragua\n",
      "native_country_Outlying-US(Guam-USVI-etc)\n",
      "native_country_Peru\n",
      "native_country_Philippines\n",
      "native_country_Poland\n",
      "native_country_Portugal\n",
      "native_country_Puerto-Rico\n",
      "native_country_Scotland\n",
      "native_country_South\n",
      "native_country_Taiwan\n",
      "native_country_Thailand\n",
      "native_country_Trinadad&Tobago\n",
      "native_country_United-States\n",
      "native_country_Vietnam\n",
      "native_country_Yugoslavia\n",
      "capital_gain_cat_low\n",
      "capital_gain_cat_medium\n",
      "capital_gain_cat_high\n",
      "capital_loss_cat_low\n",
      "capital_loss_cat_medium\n",
      "capital_loss_cat_high\n",
      "martial_status_merged_Divorced\n",
      "martial_status_merged_Married-AF-civ\n",
      "martial_status_merged_Married-spouse-absent\n",
      "martial_status_merged_Never-married\n",
      "martial_status_merged_Separated\n",
      "martial_status_merged_Widowed\n",
      "relationship_merged_Not-in-family\n",
      "relationship_merged_Other-relative\n",
      "relationship_merged_Own-child\n",
      "relationship_merged_Unmarried\n",
      "relationship_merged_husb_wife\n"
     ]
    }
   ],
   "source": [
    "'''\n",
    "Create dummies and view dummy columns\n",
    "'''\n",
    "training_data = pd.get_dummies(training_data)\n",
    "\n",
    "for colnames in training_data.columns:\n",
    "    print colnames"
   ]
  },
  {
   "cell_type": "code",
   "execution_count": 51,
   "metadata": {
    "collapsed": false
   },
   "outputs": [
    {
     "name": "stdout",
     "output_type": "stream",
     "text": [
      "To display first N rows, enter N: 6\n"
     ]
    },
    {
     "data": {
      "text/html": [
       "<div>\n",
       "<table border=\"1\" class=\"dataframe\">\n",
       "  <thead>\n",
       "    <tr style=\"text-align: right;\">\n",
       "      <th></th>\n",
       "      <th>age</th>\n",
       "      <th>education_num</th>\n",
       "      <th>hours_per_week</th>\n",
       "      <th>salary</th>\n",
       "      <th>fnlwgt_transformed</th>\n",
       "      <th>workclass_Federal-gov</th>\n",
       "      <th>workclass_Local-gov</th>\n",
       "      <th>workclass_Private</th>\n",
       "      <th>workclass_Self-emp-inc</th>\n",
       "      <th>workclass_Self-emp-not-inc</th>\n",
       "      <th>...</th>\n",
       "      <th>martial_status_merged_Married-AF-civ</th>\n",
       "      <th>martial_status_merged_Married-spouse-absent</th>\n",
       "      <th>martial_status_merged_Never-married</th>\n",
       "      <th>martial_status_merged_Separated</th>\n",
       "      <th>martial_status_merged_Widowed</th>\n",
       "      <th>relationship_merged_Not-in-family</th>\n",
       "      <th>relationship_merged_Other-relative</th>\n",
       "      <th>relationship_merged_Own-child</th>\n",
       "      <th>relationship_merged_Unmarried</th>\n",
       "      <th>relationship_merged_husb_wife</th>\n",
       "    </tr>\n",
       "  </thead>\n",
       "  <tbody>\n",
       "    <tr>\n",
       "      <th>0</th>\n",
       "      <td>39</td>\n",
       "      <td>13</td>\n",
       "      <td>40</td>\n",
       "      <td>0</td>\n",
       "      <td>278.416954</td>\n",
       "      <td>0.0</td>\n",
       "      <td>0.0</td>\n",
       "      <td>0.0</td>\n",
       "      <td>0.0</td>\n",
       "      <td>0.0</td>\n",
       "      <td>...</td>\n",
       "      <td>0.0</td>\n",
       "      <td>0.0</td>\n",
       "      <td>1.0</td>\n",
       "      <td>0.0</td>\n",
       "      <td>0.0</td>\n",
       "      <td>1.0</td>\n",
       "      <td>0.0</td>\n",
       "      <td>0.0</td>\n",
       "      <td>0.0</td>\n",
       "      <td>0.0</td>\n",
       "    </tr>\n",
       "    <tr>\n",
       "      <th>1</th>\n",
       "      <td>50</td>\n",
       "      <td>13</td>\n",
       "      <td>13</td>\n",
       "      <td>0</td>\n",
       "      <td>288.636450</td>\n",
       "      <td>0.0</td>\n",
       "      <td>0.0</td>\n",
       "      <td>0.0</td>\n",
       "      <td>0.0</td>\n",
       "      <td>1.0</td>\n",
       "      <td>...</td>\n",
       "      <td>1.0</td>\n",
       "      <td>0.0</td>\n",
       "      <td>0.0</td>\n",
       "      <td>0.0</td>\n",
       "      <td>0.0</td>\n",
       "      <td>0.0</td>\n",
       "      <td>0.0</td>\n",
       "      <td>0.0</td>\n",
       "      <td>0.0</td>\n",
       "      <td>1.0</td>\n",
       "    </tr>\n",
       "    <tr>\n",
       "      <th>2</th>\n",
       "      <td>38</td>\n",
       "      <td>9</td>\n",
       "      <td>40</td>\n",
       "      <td>0</td>\n",
       "      <td>464.377002</td>\n",
       "      <td>0.0</td>\n",
       "      <td>0.0</td>\n",
       "      <td>1.0</td>\n",
       "      <td>0.0</td>\n",
       "      <td>0.0</td>\n",
       "      <td>...</td>\n",
       "      <td>0.0</td>\n",
       "      <td>0.0</td>\n",
       "      <td>0.0</td>\n",
       "      <td>0.0</td>\n",
       "      <td>0.0</td>\n",
       "      <td>1.0</td>\n",
       "      <td>0.0</td>\n",
       "      <td>0.0</td>\n",
       "      <td>0.0</td>\n",
       "      <td>0.0</td>\n",
       "    </tr>\n",
       "    <tr>\n",
       "      <th>3</th>\n",
       "      <td>53</td>\n",
       "      <td>7</td>\n",
       "      <td>40</td>\n",
       "      <td>0</td>\n",
       "      <td>484.480134</td>\n",
       "      <td>0.0</td>\n",
       "      <td>0.0</td>\n",
       "      <td>1.0</td>\n",
       "      <td>0.0</td>\n",
       "      <td>0.0</td>\n",
       "      <td>...</td>\n",
       "      <td>1.0</td>\n",
       "      <td>0.0</td>\n",
       "      <td>0.0</td>\n",
       "      <td>0.0</td>\n",
       "      <td>0.0</td>\n",
       "      <td>0.0</td>\n",
       "      <td>0.0</td>\n",
       "      <td>0.0</td>\n",
       "      <td>0.0</td>\n",
       "      <td>1.0</td>\n",
       "    </tr>\n",
       "    <tr>\n",
       "      <th>4</th>\n",
       "      <td>28</td>\n",
       "      <td>13</td>\n",
       "      <td>40</td>\n",
       "      <td>0</td>\n",
       "      <td>581.729318</td>\n",
       "      <td>0.0</td>\n",
       "      <td>0.0</td>\n",
       "      <td>1.0</td>\n",
       "      <td>0.0</td>\n",
       "      <td>0.0</td>\n",
       "      <td>...</td>\n",
       "      <td>1.0</td>\n",
       "      <td>0.0</td>\n",
       "      <td>0.0</td>\n",
       "      <td>0.0</td>\n",
       "      <td>0.0</td>\n",
       "      <td>0.0</td>\n",
       "      <td>0.0</td>\n",
       "      <td>0.0</td>\n",
       "      <td>0.0</td>\n",
       "      <td>1.0</td>\n",
       "    </tr>\n",
       "    <tr>\n",
       "      <th>5</th>\n",
       "      <td>37</td>\n",
       "      <td>14</td>\n",
       "      <td>40</td>\n",
       "      <td>0</td>\n",
       "      <td>533.462276</td>\n",
       "      <td>0.0</td>\n",
       "      <td>0.0</td>\n",
       "      <td>1.0</td>\n",
       "      <td>0.0</td>\n",
       "      <td>0.0</td>\n",
       "      <td>...</td>\n",
       "      <td>1.0</td>\n",
       "      <td>0.0</td>\n",
       "      <td>0.0</td>\n",
       "      <td>0.0</td>\n",
       "      <td>0.0</td>\n",
       "      <td>0.0</td>\n",
       "      <td>0.0</td>\n",
       "      <td>0.0</td>\n",
       "      <td>0.0</td>\n",
       "      <td>1.0</td>\n",
       "    </tr>\n",
       "  </tbody>\n",
       "</table>\n",
       "<p>6 rows × 107 columns</p>\n",
       "</div>"
      ],
      "text/plain": [
       "   age  education_num  hours_per_week  salary  fnlwgt_transformed  \\\n",
       "0   39             13              40       0          278.416954   \n",
       "1   50             13              13       0          288.636450   \n",
       "2   38              9              40       0          464.377002   \n",
       "3   53              7              40       0          484.480134   \n",
       "4   28             13              40       0          581.729318   \n",
       "5   37             14              40       0          533.462276   \n",
       "\n",
       "   workclass_Federal-gov  workclass_Local-gov  workclass_Private  \\\n",
       "0                    0.0                  0.0                0.0   \n",
       "1                    0.0                  0.0                0.0   \n",
       "2                    0.0                  0.0                1.0   \n",
       "3                    0.0                  0.0                1.0   \n",
       "4                    0.0                  0.0                1.0   \n",
       "5                    0.0                  0.0                1.0   \n",
       "\n",
       "   workclass_Self-emp-inc  workclass_Self-emp-not-inc  \\\n",
       "0                     0.0                         0.0   \n",
       "1                     0.0                         1.0   \n",
       "2                     0.0                         0.0   \n",
       "3                     0.0                         0.0   \n",
       "4                     0.0                         0.0   \n",
       "5                     0.0                         0.0   \n",
       "\n",
       "               ...                martial_status_merged_Married-AF-civ  \\\n",
       "0              ...                                                 0.0   \n",
       "1              ...                                                 1.0   \n",
       "2              ...                                                 0.0   \n",
       "3              ...                                                 1.0   \n",
       "4              ...                                                 1.0   \n",
       "5              ...                                                 1.0   \n",
       "\n",
       "   martial_status_merged_Married-spouse-absent  \\\n",
       "0                                          0.0   \n",
       "1                                          0.0   \n",
       "2                                          0.0   \n",
       "3                                          0.0   \n",
       "4                                          0.0   \n",
       "5                                          0.0   \n",
       "\n",
       "   martial_status_merged_Never-married  martial_status_merged_Separated  \\\n",
       "0                                  1.0                              0.0   \n",
       "1                                  0.0                              0.0   \n",
       "2                                  0.0                              0.0   \n",
       "3                                  0.0                              0.0   \n",
       "4                                  0.0                              0.0   \n",
       "5                                  0.0                              0.0   \n",
       "\n",
       "   martial_status_merged_Widowed  relationship_merged_Not-in-family  \\\n",
       "0                            0.0                                1.0   \n",
       "1                            0.0                                0.0   \n",
       "2                            0.0                                1.0   \n",
       "3                            0.0                                0.0   \n",
       "4                            0.0                                0.0   \n",
       "5                            0.0                                0.0   \n",
       "\n",
       "   relationship_merged_Other-relative  relationship_merged_Own-child  \\\n",
       "0                                 0.0                            0.0   \n",
       "1                                 0.0                            0.0   \n",
       "2                                 0.0                            0.0   \n",
       "3                                 0.0                            0.0   \n",
       "4                                 0.0                            0.0   \n",
       "5                                 0.0                            0.0   \n",
       "\n",
       "   relationship_merged_Unmarried  relationship_merged_husb_wife  \n",
       "0                            0.0                            0.0  \n",
       "1                            0.0                            1.0  \n",
       "2                            0.0                            0.0  \n",
       "3                            0.0                            1.0  \n",
       "4                            0.0                            1.0  \n",
       "5                            0.0                            1.0  \n",
       "\n",
       "[6 rows x 107 columns]"
      ]
     },
     "execution_count": 51,
     "metadata": {},
     "output_type": "execute_result"
    }
   ],
   "source": [
    "head = int(raw_input(\"To display first N rows, enter N: \"))\n",
    "training_data.head(head)"
   ]
  },
  {
   "cell_type": "markdown",
   "metadata": {},
   "source": [
    "## Preprocessing Testing data"
   ]
  },
  {
   "cell_type": "code",
   "execution_count": 52,
   "metadata": {
    "collapsed": false
   },
   "outputs": [
    {
     "name": "stdout",
     "output_type": "stream",
     "text": [
      "Dimensions of the dataset (rows, columns):  (16282, 15)\n"
     ]
    }
   ],
   "source": [
    "'''\n",
    "Import testing data\n",
    "'''\n",
    "test = pd.read_csv(\"./Data/adult.test\",\n",
    "                       sep = \",\\s\",\n",
    "                       names = [\"age\", \"workclass\", \"fnlwgt\", \"education\",\"education_num\", \n",
    "                                \"martial_status\", \"occupation\",\"relationship\",\"race\",\"sex\",\n",
    "                                \"capital_gain\",\"capital_loss\", \"hours_per_week\",\"native_country\", \"salary\"], \n",
    "                       engine = 'python') \n",
    "\n",
    "print \"Dimensions of the dataset (rows, columns): \" , test.shape"
   ]
  },
  {
   "cell_type": "code",
   "execution_count": 53,
   "metadata": {
    "collapsed": false
   },
   "outputs": [
    {
     "name": "stdout",
     "output_type": "stream",
     "text": [
      "To display first N rows, enter N: 6\n"
     ]
    },
    {
     "data": {
      "text/html": [
       "<div>\n",
       "<table border=\"1\" class=\"dataframe\">\n",
       "  <thead>\n",
       "    <tr style=\"text-align: right;\">\n",
       "      <th></th>\n",
       "      <th>age</th>\n",
       "      <th>workclass</th>\n",
       "      <th>fnlwgt</th>\n",
       "      <th>education</th>\n",
       "      <th>education_num</th>\n",
       "      <th>martial_status</th>\n",
       "      <th>occupation</th>\n",
       "      <th>relationship</th>\n",
       "      <th>race</th>\n",
       "      <th>sex</th>\n",
       "      <th>capital_gain</th>\n",
       "      <th>capital_loss</th>\n",
       "      <th>hours_per_week</th>\n",
       "      <th>native_country</th>\n",
       "      <th>salary</th>\n",
       "    </tr>\n",
       "  </thead>\n",
       "  <tbody>\n",
       "    <tr>\n",
       "      <th>0</th>\n",
       "      <td>|1x3 Cross validator</td>\n",
       "      <td>None</td>\n",
       "      <td>NaN</td>\n",
       "      <td>None</td>\n",
       "      <td>NaN</td>\n",
       "      <td>None</td>\n",
       "      <td>None</td>\n",
       "      <td>None</td>\n",
       "      <td>None</td>\n",
       "      <td>None</td>\n",
       "      <td>NaN</td>\n",
       "      <td>NaN</td>\n",
       "      <td>NaN</td>\n",
       "      <td>None</td>\n",
       "      <td>None</td>\n",
       "    </tr>\n",
       "    <tr>\n",
       "      <th>1</th>\n",
       "      <td>25</td>\n",
       "      <td>Private</td>\n",
       "      <td>226802.0</td>\n",
       "      <td>11th</td>\n",
       "      <td>7.0</td>\n",
       "      <td>Never-married</td>\n",
       "      <td>Machine-op-inspct</td>\n",
       "      <td>Own-child</td>\n",
       "      <td>Black</td>\n",
       "      <td>Male</td>\n",
       "      <td>0.0</td>\n",
       "      <td>0.0</td>\n",
       "      <td>40.0</td>\n",
       "      <td>United-States</td>\n",
       "      <td>&lt;=50K.</td>\n",
       "    </tr>\n",
       "    <tr>\n",
       "      <th>2</th>\n",
       "      <td>38</td>\n",
       "      <td>Private</td>\n",
       "      <td>89814.0</td>\n",
       "      <td>HS-grad</td>\n",
       "      <td>9.0</td>\n",
       "      <td>Married-civ-spouse</td>\n",
       "      <td>Farming-fishing</td>\n",
       "      <td>Husband</td>\n",
       "      <td>White</td>\n",
       "      <td>Male</td>\n",
       "      <td>0.0</td>\n",
       "      <td>0.0</td>\n",
       "      <td>50.0</td>\n",
       "      <td>United-States</td>\n",
       "      <td>&lt;=50K.</td>\n",
       "    </tr>\n",
       "    <tr>\n",
       "      <th>3</th>\n",
       "      <td>28</td>\n",
       "      <td>Local-gov</td>\n",
       "      <td>336951.0</td>\n",
       "      <td>Assoc-acdm</td>\n",
       "      <td>12.0</td>\n",
       "      <td>Married-civ-spouse</td>\n",
       "      <td>Protective-serv</td>\n",
       "      <td>Husband</td>\n",
       "      <td>White</td>\n",
       "      <td>Male</td>\n",
       "      <td>0.0</td>\n",
       "      <td>0.0</td>\n",
       "      <td>40.0</td>\n",
       "      <td>United-States</td>\n",
       "      <td>&gt;50K.</td>\n",
       "    </tr>\n",
       "    <tr>\n",
       "      <th>4</th>\n",
       "      <td>44</td>\n",
       "      <td>Private</td>\n",
       "      <td>160323.0</td>\n",
       "      <td>Some-college</td>\n",
       "      <td>10.0</td>\n",
       "      <td>Married-civ-spouse</td>\n",
       "      <td>Machine-op-inspct</td>\n",
       "      <td>Husband</td>\n",
       "      <td>Black</td>\n",
       "      <td>Male</td>\n",
       "      <td>7688.0</td>\n",
       "      <td>0.0</td>\n",
       "      <td>40.0</td>\n",
       "      <td>United-States</td>\n",
       "      <td>&gt;50K.</td>\n",
       "    </tr>\n",
       "    <tr>\n",
       "      <th>5</th>\n",
       "      <td>18</td>\n",
       "      <td>?</td>\n",
       "      <td>103497.0</td>\n",
       "      <td>Some-college</td>\n",
       "      <td>10.0</td>\n",
       "      <td>Never-married</td>\n",
       "      <td>?</td>\n",
       "      <td>Own-child</td>\n",
       "      <td>White</td>\n",
       "      <td>Female</td>\n",
       "      <td>0.0</td>\n",
       "      <td>0.0</td>\n",
       "      <td>30.0</td>\n",
       "      <td>United-States</td>\n",
       "      <td>&lt;=50K.</td>\n",
       "    </tr>\n",
       "  </tbody>\n",
       "</table>\n",
       "</div>"
      ],
      "text/plain": [
       "                    age  workclass    fnlwgt     education  education_num  \\\n",
       "0  |1x3 Cross validator       None       NaN          None            NaN   \n",
       "1                    25    Private  226802.0          11th            7.0   \n",
       "2                    38    Private   89814.0       HS-grad            9.0   \n",
       "3                    28  Local-gov  336951.0    Assoc-acdm           12.0   \n",
       "4                    44    Private  160323.0  Some-college           10.0   \n",
       "5                    18          ?  103497.0  Some-college           10.0   \n",
       "\n",
       "       martial_status         occupation relationship   race     sex  \\\n",
       "0                None               None         None   None    None   \n",
       "1       Never-married  Machine-op-inspct    Own-child  Black    Male   \n",
       "2  Married-civ-spouse    Farming-fishing      Husband  White    Male   \n",
       "3  Married-civ-spouse    Protective-serv      Husband  White    Male   \n",
       "4  Married-civ-spouse  Machine-op-inspct      Husband  Black    Male   \n",
       "5       Never-married                  ?    Own-child  White  Female   \n",
       "\n",
       "   capital_gain  capital_loss  hours_per_week native_country  salary  \n",
       "0           NaN           NaN             NaN           None    None  \n",
       "1           0.0           0.0            40.0  United-States  <=50K.  \n",
       "2           0.0           0.0            50.0  United-States  <=50K.  \n",
       "3           0.0           0.0            40.0  United-States   >50K.  \n",
       "4        7688.0           0.0            40.0  United-States   >50K.  \n",
       "5           0.0           0.0            30.0  United-States  <=50K.  "
      ]
     },
     "execution_count": 53,
     "metadata": {},
     "output_type": "execute_result"
    }
   ],
   "source": [
    "head = int(raw_input(\"To display first N rows, enter N: \"))\n",
    "test.head(head)"
   ]
  },
  {
   "cell_type": "code",
   "execution_count": 54,
   "metadata": {
    "collapsed": false
   },
   "outputs": [],
   "source": [
    "'''\n",
    "Remove first row\n",
    "'''\n",
    "test = test.ix[1:]\n",
    "\n",
    "#head = int(raw_input(\"To display first N rows, enter N: \"))\n",
    "#test.head(head)"
   ]
  },
  {
   "cell_type": "code",
   "execution_count": 55,
   "metadata": {
    "collapsed": false
   },
   "outputs": [
    {
     "data": {
      "text/plain": [
       "age                object\n",
       "workclass          object\n",
       "fnlwgt            float64\n",
       "education          object\n",
       "education_num     float64\n",
       "martial_status     object\n",
       "occupation         object\n",
       "relationship       object\n",
       "race               object\n",
       "sex                object\n",
       "capital_gain      float64\n",
       "capital_loss      float64\n",
       "hours_per_week    float64\n",
       "native_country     object\n",
       "salary             object\n",
       "dtype: object"
      ]
     },
     "execution_count": 55,
     "metadata": {},
     "output_type": "execute_result"
    }
   ],
   "source": [
    "'''\n",
    "Check data types\n",
    "'''\n",
    "test.dtypes"
   ]
  },
  {
   "cell_type": "code",
   "execution_count": 56,
   "metadata": {
    "collapsed": true
   },
   "outputs": [],
   "source": [
    "'''\n",
    "Coerce age to numeric\n",
    "'''\n",
    "test.age = pd.to_numeric(test.age, errors='coerce')"
   ]
  },
  {
   "cell_type": "code",
   "execution_count": 57,
   "metadata": {
    "collapsed": false
   },
   "outputs": [
    {
     "name": "stdout",
     "output_type": "stream",
     "text": [
      "categorical features: ['workclass', 'education', 'martial_status', 'occupation', 'relationship', 'race', 'sex', 'native_country', 'salary']\n",
      "numeric features: ['age', 'fnlwgt', 'education_num', 'capital_gain', 'capital_loss', 'hours_per_week']\n"
     ]
    }
   ],
   "source": [
    "'''\n",
    "Separating features (column names) based on the data types\n",
    "''' \n",
    "obj_col_names = []\n",
    "num_col_names = []\n",
    "\n",
    "for i in test.columns.values:\n",
    "    d_type = test[i].dtypes\n",
    "    if d_type == \"object\":\n",
    "        obj_col_names.append(i)\n",
    "    else:\n",
    "        num_col_names.append(i)\n",
    "        \n",
    "print \"categorical features:\", obj_col_names\n",
    "print \"numeric features:\", num_col_names"
   ]
  },
  {
   "cell_type": "code",
   "execution_count": 58,
   "metadata": {
    "collapsed": false
   },
   "outputs": [
    {
     "name": "stdout",
     "output_type": "stream",
     "text": [
      "workclass has NA values\n",
      "occupation has NA values\n",
      "native_country has NA values\n"
     ]
    }
   ],
   "source": [
    "'''\n",
    "Check for NA values in categorical features\n",
    "'''\n",
    "# print features containing NA/missing values\n",
    "for i in obj_col_names:\n",
    "    arr = test[i].values == '?'\n",
    "    if (True in arr):\n",
    "        print i, \"has NA values\""
   ]
  },
  {
   "cell_type": "code",
   "execution_count": 59,
   "metadata": {
    "collapsed": false
   },
   "outputs": [
    {
     "data": {
      "text/plain": [
       "False"
      ]
     },
     "execution_count": 59,
     "metadata": {},
     "output_type": "execute_result"
    }
   ],
   "source": [
    "'''\n",
    "Check for NA values in numeric features\n",
    "'''\n",
    "df = test[num_col_names]\n",
    "df.isnull().values.any()"
   ]
  },
  {
   "cell_type": "code",
   "execution_count": 60,
   "metadata": {
    "collapsed": true
   },
   "outputs": [],
   "source": [
    "'''\n",
    "Impute missing values\n",
    "'''\n",
    "test['workclass'] = test['workclass'].replace('?', 'Private')\n",
    "test['native_country'] = test['native_country'].replace('?','United-States')\n",
    "\n",
    "# drop the remaining rows containing '?'\n",
    "test = test.replace(\"?\", np.nan)\n",
    "test = test.dropna(axis = 0)"
   ]
  },
  {
   "cell_type": "code",
   "execution_count": 61,
   "metadata": {
    "collapsed": true
   },
   "outputs": [],
   "source": [
    "'''\n",
    "Check for NA values once again to make sure none\n",
    "'''\n",
    "# print features containing NA values\n",
    "for i in obj_col_names:\n",
    "    arr = test[i].values == '?'\n",
    "    if (True in arr):\n",
    "        print i, \"has NA values\""
   ]
  },
  {
   "cell_type": "code",
   "execution_count": 62,
   "metadata": {
    "collapsed": true
   },
   "outputs": [],
   "source": [
    "'''\n",
    "Fix row indexes\n",
    "'''\n",
    "test = test.reset_index(drop=True)"
   ]
  },
  {
   "cell_type": "code",
   "execution_count": 63,
   "metadata": {
    "collapsed": true
   },
   "outputs": [],
   "source": [
    "'''\n",
    "Encode salary variable as binary, <=50k -> 0 and >50k -> 1\n",
    "'''\n",
    "test.salary = census_data.salary.astype('category').cat.codes"
   ]
  },
  {
   "cell_type": "code",
   "execution_count": 64,
   "metadata": {
    "collapsed": true
   },
   "outputs": [],
   "source": [
    "'''\n",
    "Add sq-root transformed fnlwgt as a new feature\n",
    "'''\n",
    "sqrt_transformed = test.fnlwgt.apply(np.sqrt)\n",
    "test['fnlwgt_transformed'] = sqrt_transformed"
   ]
  },
  {
   "cell_type": "code",
   "execution_count": 65,
   "metadata": {
    "collapsed": true
   },
   "outputs": [],
   "source": [
    "'''\n",
    "Create bins based on the above information and append the bins as a new feature\n",
    "'''\n",
    "bins = [-1, 113, 7297, 100000]\n",
    "group_names = ['low','medium','high']\n",
    "\n",
    "test['capital_gain_cat'] = pd.cut(test.capital_gain, bins=bins, labels=group_names)"
   ]
  },
  {
   "cell_type": "code",
   "execution_count": 66,
   "metadata": {
    "collapsed": true
   },
   "outputs": [],
   "source": [
    "'''\n",
    "Create bins based on the above information and append the bins as a new feature\n",
    "'''\n",
    "bins = [-1, 154, 1886, 4357]\n",
    "group_names = ['low','medium','high']\n",
    "\n",
    "test['capital_loss_cat'] = pd.cut(test.capital_loss, bins=bins, labels=group_names)"
   ]
  },
  {
   "cell_type": "code",
   "execution_count": 67,
   "metadata": {
    "collapsed": true
   },
   "outputs": [],
   "source": [
    "'''\n",
    "Merge Married-AF-spouse and Married-civ-spouse categories for the martial_status feature to 'Married-AF-civ'\n",
    "'''\n",
    "test['martial_status_merged'] = test['martial_status']\n",
    "\n",
    "test.loc[test['martial_status'] == 'Married-AF-spouse', 'martial_status_merged'] = 'Married-AF-civ'\n",
    "test.loc[test['martial_status'] == 'Married-civ-spouse', 'martial_status_merged'] = 'Married-AF-civ'"
   ]
  },
  {
   "cell_type": "code",
   "execution_count": 68,
   "metadata": {
    "collapsed": true
   },
   "outputs": [],
   "source": [
    "'''\n",
    "Merge Husband and Wife categories for the relationship feature to 'husb_wife'\n",
    "'''\n",
    "test['relationship_merged'] = test['relationship']\n",
    "\n",
    "test.loc[test['relationship'] == 'Husband', 'relationship_merged'] = 'husb_wife'\n",
    "test.loc[test['relationship'] == 'Wife', 'relationship_merged'] = 'husb_wife'"
   ]
  },
  {
   "cell_type": "code",
   "execution_count": 69,
   "metadata": {
    "collapsed": false
   },
   "outputs": [
    {
     "name": "stdout",
     "output_type": "stream",
     "text": [
      "age\n",
      "workclass\n",
      "fnlwgt\n",
      "education\n",
      "education_num\n",
      "martial_status\n",
      "occupation\n",
      "relationship\n",
      "race\n",
      "sex\n",
      "capital_gain\n",
      "capital_loss\n",
      "hours_per_week\n",
      "native_country\n",
      "salary\n",
      "fnlwgt_transformed\n",
      "capital_gain_cat\n",
      "capital_loss_cat\n",
      "martial_status_merged\n",
      "relationship_merged\n"
     ]
    }
   ],
   "source": [
    "'''\n",
    "Print all column names\n",
    "'''\n",
    "for i in test.columns:\n",
    "    print i"
   ]
  },
  {
   "cell_type": "code",
   "execution_count": 70,
   "metadata": {
    "collapsed": false
   },
   "outputs": [
    {
     "data": {
      "text/plain": [
       "age                         int64\n",
       "workclass                  object\n",
       "education                  object\n",
       "education_num             float64\n",
       "occupation                 object\n",
       "race                       object\n",
       "sex                        object\n",
       "hours_per_week            float64\n",
       "native_country             object\n",
       "fnlwgt_transformed        float64\n",
       "capital_gain_cat         category\n",
       "capital_loss_cat         category\n",
       "martial_status_merged      object\n",
       "relationship_merged        object\n",
       "dtype: object"
      ]
     },
     "execution_count": 70,
     "metadata": {},
     "output_type": "execute_result"
    }
   ],
   "source": [
    "'''\n",
    "Drop redundant columns, prepare data for modeling\n",
    "'''\n",
    "testing_data = test.drop(['fnlwgt', 'martial_status', 'relationship',\n",
    "                          'capital_gain', 'capital_loss', 'salary'], axis = 1)\n",
    "\n",
    "testing_data.dtypes"
   ]
  },
  {
   "cell_type": "code",
   "execution_count": 71,
   "metadata": {
    "collapsed": false
   },
   "outputs": [
    {
     "name": "stdout",
     "output_type": "stream",
     "text": [
      "age\n",
      "education_num\n",
      "hours_per_week\n",
      "fnlwgt_transformed\n",
      "workclass_Federal-gov\n",
      "workclass_Local-gov\n",
      "workclass_Private\n",
      "workclass_Self-emp-inc\n",
      "workclass_Self-emp-not-inc\n",
      "workclass_State-gov\n",
      "workclass_Without-pay\n",
      "education_10th\n",
      "education_11th\n",
      "education_12th\n",
      "education_1st-4th\n",
      "education_5th-6th\n",
      "education_7th-8th\n",
      "education_9th\n",
      "education_Assoc-acdm\n",
      "education_Assoc-voc\n",
      "education_Bachelors\n",
      "education_Doctorate\n",
      "education_HS-grad\n",
      "education_Masters\n",
      "education_Preschool\n",
      "education_Prof-school\n",
      "education_Some-college\n",
      "occupation_Adm-clerical\n",
      "occupation_Armed-Forces\n",
      "occupation_Craft-repair\n",
      "occupation_Exec-managerial\n",
      "occupation_Farming-fishing\n",
      "occupation_Handlers-cleaners\n",
      "occupation_Machine-op-inspct\n",
      "occupation_Other-service\n",
      "occupation_Priv-house-serv\n",
      "occupation_Prof-specialty\n",
      "occupation_Protective-serv\n",
      "occupation_Sales\n",
      "occupation_Tech-support\n",
      "occupation_Transport-moving\n",
      "race_Amer-Indian-Eskimo\n",
      "race_Asian-Pac-Islander\n",
      "race_Black\n",
      "race_Other\n",
      "race_White\n",
      "sex_Female\n",
      "sex_Male\n",
      "native_country_Cambodia\n",
      "native_country_Canada\n",
      "native_country_China\n",
      "native_country_Columbia\n",
      "native_country_Cuba\n",
      "native_country_Dominican-Republic\n",
      "native_country_Ecuador\n",
      "native_country_El-Salvador\n",
      "native_country_England\n",
      "native_country_France\n",
      "native_country_Germany\n",
      "native_country_Greece\n",
      "native_country_Guatemala\n",
      "native_country_Haiti\n",
      "native_country_Honduras\n",
      "native_country_Hong\n",
      "native_country_Hungary\n",
      "native_country_India\n",
      "native_country_Iran\n",
      "native_country_Ireland\n",
      "native_country_Italy\n",
      "native_country_Jamaica\n",
      "native_country_Japan\n",
      "native_country_Laos\n",
      "native_country_Mexico\n",
      "native_country_Nicaragua\n",
      "native_country_Outlying-US(Guam-USVI-etc)\n",
      "native_country_Peru\n",
      "native_country_Philippines\n",
      "native_country_Poland\n",
      "native_country_Portugal\n",
      "native_country_Puerto-Rico\n",
      "native_country_Scotland\n",
      "native_country_South\n",
      "native_country_Taiwan\n",
      "native_country_Thailand\n",
      "native_country_Trinadad&Tobago\n",
      "native_country_United-States\n",
      "native_country_Vietnam\n",
      "native_country_Yugoslavia\n",
      "capital_gain_cat_low\n",
      "capital_gain_cat_medium\n",
      "capital_gain_cat_high\n",
      "capital_loss_cat_low\n",
      "capital_loss_cat_medium\n",
      "capital_loss_cat_high\n",
      "martial_status_merged_Divorced\n",
      "martial_status_merged_Married-AF-civ\n",
      "martial_status_merged_Married-spouse-absent\n",
      "martial_status_merged_Never-married\n",
      "martial_status_merged_Separated\n",
      "martial_status_merged_Widowed\n",
      "relationship_merged_Not-in-family\n",
      "relationship_merged_Other-relative\n",
      "relationship_merged_Own-child\n",
      "relationship_merged_Unmarried\n",
      "relationship_merged_husb_wife\n"
     ]
    }
   ],
   "source": [
    "'''\n",
    "Create dummies and view dummy columns\n",
    "'''\n",
    "testing_data = pd.get_dummies(testing_data)\n",
    "\n",
    "for colnames in testing_data.columns:\n",
    "    print colnames"
   ]
  },
  {
   "cell_type": "code",
   "execution_count": 72,
   "metadata": {
    "collapsed": false
   },
   "outputs": [
    {
     "name": "stdout",
     "output_type": "stream",
     "text": [
      "To display first N rows, enter N: 6\n"
     ]
    },
    {
     "data": {
      "text/html": [
       "<div>\n",
       "<table border=\"1\" class=\"dataframe\">\n",
       "  <thead>\n",
       "    <tr style=\"text-align: right;\">\n",
       "      <th></th>\n",
       "      <th>age</th>\n",
       "      <th>education_num</th>\n",
       "      <th>hours_per_week</th>\n",
       "      <th>fnlwgt_transformed</th>\n",
       "      <th>workclass_Federal-gov</th>\n",
       "      <th>workclass_Local-gov</th>\n",
       "      <th>workclass_Private</th>\n",
       "      <th>workclass_Self-emp-inc</th>\n",
       "      <th>workclass_Self-emp-not-inc</th>\n",
       "      <th>workclass_State-gov</th>\n",
       "      <th>...</th>\n",
       "      <th>martial_status_merged_Married-AF-civ</th>\n",
       "      <th>martial_status_merged_Married-spouse-absent</th>\n",
       "      <th>martial_status_merged_Never-married</th>\n",
       "      <th>martial_status_merged_Separated</th>\n",
       "      <th>martial_status_merged_Widowed</th>\n",
       "      <th>relationship_merged_Not-in-family</th>\n",
       "      <th>relationship_merged_Other-relative</th>\n",
       "      <th>relationship_merged_Own-child</th>\n",
       "      <th>relationship_merged_Unmarried</th>\n",
       "      <th>relationship_merged_husb_wife</th>\n",
       "    </tr>\n",
       "  </thead>\n",
       "  <tbody>\n",
       "    <tr>\n",
       "      <th>0</th>\n",
       "      <td>25</td>\n",
       "      <td>7.0</td>\n",
       "      <td>40.0</td>\n",
       "      <td>476.237336</td>\n",
       "      <td>0.0</td>\n",
       "      <td>0.0</td>\n",
       "      <td>1.0</td>\n",
       "      <td>0.0</td>\n",
       "      <td>0.0</td>\n",
       "      <td>0.0</td>\n",
       "      <td>...</td>\n",
       "      <td>0.0</td>\n",
       "      <td>0.0</td>\n",
       "      <td>1.0</td>\n",
       "      <td>0.0</td>\n",
       "      <td>0.0</td>\n",
       "      <td>0.0</td>\n",
       "      <td>0.0</td>\n",
       "      <td>1.0</td>\n",
       "      <td>0.0</td>\n",
       "      <td>0.0</td>\n",
       "    </tr>\n",
       "    <tr>\n",
       "      <th>1</th>\n",
       "      <td>38</td>\n",
       "      <td>9.0</td>\n",
       "      <td>50.0</td>\n",
       "      <td>299.689840</td>\n",
       "      <td>0.0</td>\n",
       "      <td>0.0</td>\n",
       "      <td>1.0</td>\n",
       "      <td>0.0</td>\n",
       "      <td>0.0</td>\n",
       "      <td>0.0</td>\n",
       "      <td>...</td>\n",
       "      <td>1.0</td>\n",
       "      <td>0.0</td>\n",
       "      <td>0.0</td>\n",
       "      <td>0.0</td>\n",
       "      <td>0.0</td>\n",
       "      <td>0.0</td>\n",
       "      <td>0.0</td>\n",
       "      <td>0.0</td>\n",
       "      <td>0.0</td>\n",
       "      <td>1.0</td>\n",
       "    </tr>\n",
       "    <tr>\n",
       "      <th>2</th>\n",
       "      <td>28</td>\n",
       "      <td>12.0</td>\n",
       "      <td>40.0</td>\n",
       "      <td>580.474806</td>\n",
       "      <td>0.0</td>\n",
       "      <td>1.0</td>\n",
       "      <td>0.0</td>\n",
       "      <td>0.0</td>\n",
       "      <td>0.0</td>\n",
       "      <td>0.0</td>\n",
       "      <td>...</td>\n",
       "      <td>1.0</td>\n",
       "      <td>0.0</td>\n",
       "      <td>0.0</td>\n",
       "      <td>0.0</td>\n",
       "      <td>0.0</td>\n",
       "      <td>0.0</td>\n",
       "      <td>0.0</td>\n",
       "      <td>0.0</td>\n",
       "      <td>0.0</td>\n",
       "      <td>1.0</td>\n",
       "    </tr>\n",
       "    <tr>\n",
       "      <th>3</th>\n",
       "      <td>44</td>\n",
       "      <td>10.0</td>\n",
       "      <td>40.0</td>\n",
       "      <td>400.403546</td>\n",
       "      <td>0.0</td>\n",
       "      <td>0.0</td>\n",
       "      <td>1.0</td>\n",
       "      <td>0.0</td>\n",
       "      <td>0.0</td>\n",
       "      <td>0.0</td>\n",
       "      <td>...</td>\n",
       "      <td>1.0</td>\n",
       "      <td>0.0</td>\n",
       "      <td>0.0</td>\n",
       "      <td>0.0</td>\n",
       "      <td>0.0</td>\n",
       "      <td>0.0</td>\n",
       "      <td>0.0</td>\n",
       "      <td>0.0</td>\n",
       "      <td>0.0</td>\n",
       "      <td>1.0</td>\n",
       "    </tr>\n",
       "    <tr>\n",
       "      <th>4</th>\n",
       "      <td>34</td>\n",
       "      <td>6.0</td>\n",
       "      <td>30.0</td>\n",
       "      <td>445.749930</td>\n",
       "      <td>0.0</td>\n",
       "      <td>0.0</td>\n",
       "      <td>1.0</td>\n",
       "      <td>0.0</td>\n",
       "      <td>0.0</td>\n",
       "      <td>0.0</td>\n",
       "      <td>...</td>\n",
       "      <td>0.0</td>\n",
       "      <td>0.0</td>\n",
       "      <td>1.0</td>\n",
       "      <td>0.0</td>\n",
       "      <td>0.0</td>\n",
       "      <td>1.0</td>\n",
       "      <td>0.0</td>\n",
       "      <td>0.0</td>\n",
       "      <td>0.0</td>\n",
       "      <td>0.0</td>\n",
       "    </tr>\n",
       "    <tr>\n",
       "      <th>5</th>\n",
       "      <td>63</td>\n",
       "      <td>15.0</td>\n",
       "      <td>32.0</td>\n",
       "      <td>323.459426</td>\n",
       "      <td>0.0</td>\n",
       "      <td>0.0</td>\n",
       "      <td>0.0</td>\n",
       "      <td>0.0</td>\n",
       "      <td>1.0</td>\n",
       "      <td>0.0</td>\n",
       "      <td>...</td>\n",
       "      <td>1.0</td>\n",
       "      <td>0.0</td>\n",
       "      <td>0.0</td>\n",
       "      <td>0.0</td>\n",
       "      <td>0.0</td>\n",
       "      <td>0.0</td>\n",
       "      <td>0.0</td>\n",
       "      <td>0.0</td>\n",
       "      <td>0.0</td>\n",
       "      <td>1.0</td>\n",
       "    </tr>\n",
       "  </tbody>\n",
       "</table>\n",
       "<p>6 rows × 105 columns</p>\n",
       "</div>"
      ],
      "text/plain": [
       "   age  education_num  hours_per_week  fnlwgt_transformed  \\\n",
       "0   25            7.0            40.0          476.237336   \n",
       "1   38            9.0            50.0          299.689840   \n",
       "2   28           12.0            40.0          580.474806   \n",
       "3   44           10.0            40.0          400.403546   \n",
       "4   34            6.0            30.0          445.749930   \n",
       "5   63           15.0            32.0          323.459426   \n",
       "\n",
       "   workclass_Federal-gov  workclass_Local-gov  workclass_Private  \\\n",
       "0                    0.0                  0.0                1.0   \n",
       "1                    0.0                  0.0                1.0   \n",
       "2                    0.0                  1.0                0.0   \n",
       "3                    0.0                  0.0                1.0   \n",
       "4                    0.0                  0.0                1.0   \n",
       "5                    0.0                  0.0                0.0   \n",
       "\n",
       "   workclass_Self-emp-inc  workclass_Self-emp-not-inc  workclass_State-gov  \\\n",
       "0                     0.0                         0.0                  0.0   \n",
       "1                     0.0                         0.0                  0.0   \n",
       "2                     0.0                         0.0                  0.0   \n",
       "3                     0.0                         0.0                  0.0   \n",
       "4                     0.0                         0.0                  0.0   \n",
       "5                     0.0                         1.0                  0.0   \n",
       "\n",
       "               ...                martial_status_merged_Married-AF-civ  \\\n",
       "0              ...                                                 0.0   \n",
       "1              ...                                                 1.0   \n",
       "2              ...                                                 1.0   \n",
       "3              ...                                                 1.0   \n",
       "4              ...                                                 0.0   \n",
       "5              ...                                                 1.0   \n",
       "\n",
       "   martial_status_merged_Married-spouse-absent  \\\n",
       "0                                          0.0   \n",
       "1                                          0.0   \n",
       "2                                          0.0   \n",
       "3                                          0.0   \n",
       "4                                          0.0   \n",
       "5                                          0.0   \n",
       "\n",
       "   martial_status_merged_Never-married  martial_status_merged_Separated  \\\n",
       "0                                  1.0                              0.0   \n",
       "1                                  0.0                              0.0   \n",
       "2                                  0.0                              0.0   \n",
       "3                                  0.0                              0.0   \n",
       "4                                  1.0                              0.0   \n",
       "5                                  0.0                              0.0   \n",
       "\n",
       "   martial_status_merged_Widowed  relationship_merged_Not-in-family  \\\n",
       "0                            0.0                                0.0   \n",
       "1                            0.0                                0.0   \n",
       "2                            0.0                                0.0   \n",
       "3                            0.0                                0.0   \n",
       "4                            0.0                                1.0   \n",
       "5                            0.0                                0.0   \n",
       "\n",
       "   relationship_merged_Other-relative  relationship_merged_Own-child  \\\n",
       "0                                 0.0                            1.0   \n",
       "1                                 0.0                            0.0   \n",
       "2                                 0.0                            0.0   \n",
       "3                                 0.0                            0.0   \n",
       "4                                 0.0                            0.0   \n",
       "5                                 0.0                            0.0   \n",
       "\n",
       "   relationship_merged_Unmarried  relationship_merged_husb_wife  \n",
       "0                            0.0                            0.0  \n",
       "1                            0.0                            1.0  \n",
       "2                            0.0                            1.0  \n",
       "3                            0.0                            1.0  \n",
       "4                            0.0                            0.0  \n",
       "5                            0.0                            1.0  \n",
       "\n",
       "[6 rows x 105 columns]"
      ]
     },
     "execution_count": 72,
     "metadata": {},
     "output_type": "execute_result"
    }
   ],
   "source": [
    "head = int(raw_input(\"To display first N rows, enter N: \"))\n",
    "testing_data.head(head)"
   ]
  },
  {
   "cell_type": "code",
   "execution_count": 73,
   "metadata": {
    "collapsed": true
   },
   "outputs": [],
   "source": [
    "'''\n",
    "Dropping extra feature 'native_country_Holand-Netherlands' from training set since this feature is not present in the testing set\n",
    "'''\n",
    "training_data = training_data.drop(['native_country_Holand-Netherlands'], axis = 1)"
   ]
  },
  {
   "cell_type": "markdown",
   "metadata": {},
   "source": [
    "## Data Preparation"
   ]
  },
  {
   "cell_type": "code",
   "execution_count": 74,
   "metadata": {
    "collapsed": false
   },
   "outputs": [],
   "source": [
    "'''\n",
    "Shuffle training data\n",
    "'''\n",
    "training_data = training_data.iloc[np.random.permutation(len(training_data))]"
   ]
  },
  {
   "cell_type": "code",
   "execution_count": 75,
   "metadata": {
    "collapsed": true
   },
   "outputs": [],
   "source": [
    "'''\n",
    "Storing dependent variable for training and testing\n",
    "'''\n",
    "train_y = training_data['salary']\n",
    "test_y = test['salary']\n",
    "\n",
    "# drop salary for training data\n",
    "training_data = training_data.drop(['salary'], axis = 1)"
   ]
  },
  {
   "cell_type": "markdown",
   "metadata": {},
   "source": [
    "## Model Training"
   ]
  },
  {
   "cell_type": "markdown",
   "metadata": {},
   "source": [
    "The following machine learning algorithms are fit to the dataset and their performance is compared:\n",
    "- Logistic Regression\n",
    "- Support Vector Machines\n",
    "- Random Forests\n",
    "- Gradient Boosting Machines"
   ]
  },
  {
   "cell_type": "code",
   "execution_count": 76,
   "metadata": {
    "collapsed": true
   },
   "outputs": [],
   "source": [
    "lr = LogisticRegression().fit(training_data,train_y)"
   ]
  },
  {
   "cell_type": "code",
   "execution_count": 77,
   "metadata": {
    "collapsed": true
   },
   "outputs": [],
   "source": [
    "svm = svm.LinearSVC().fit(training_data,train_y)"
   ]
  },
  {
   "cell_type": "code",
   "execution_count": 78,
   "metadata": {
    "collapsed": true
   },
   "outputs": [],
   "source": [
    "rf = RandomForestClassifier().fit(training_data,train_y)"
   ]
  },
  {
   "cell_type": "code",
   "execution_count": 79,
   "metadata": {
    "collapsed": true
   },
   "outputs": [],
   "source": [
    "gb = GradientBoostingClassifier().fit(training_data,train_y)"
   ]
  },
  {
   "cell_type": "code",
   "execution_count": 80,
   "metadata": {
    "collapsed": false
   },
   "outputs": [
    {
     "name": "stdout",
     "output_type": "stream",
     "text": [
      "The accuracy on the training set for logistic regression is 85.32 %\n",
      "The accuracy on the training set for svm is 80.81 %\n",
      "The accuracy on the training set for random forest is 98.63 %\n",
      "The accuracy on the training set for gbm is 85.85 %\n"
     ]
    }
   ],
   "source": [
    "'''\n",
    "Check fitting accuracy of each\n",
    "'''\n",
    "training_accuracy = lr.score(training_data,train_y)\n",
    "print \"The accuracy on the training set for logistic regression is %.2f\" % (training_accuracy*100),'%'\n",
    "\n",
    "training_accuracy = svm.score(training_data,train_y)\n",
    "print \"The accuracy on the training set for svm is %.2f\" % (training_accuracy*100), '%'\n",
    "\n",
    "training_accuracy = rf.score(training_data,train_y)\n",
    "print \"The accuracy on the training set for random forest is %.2f\" % (training_accuracy*100),'%'\n",
    "\n",
    "training_accuracy = gb.score(training_data,train_y)\n",
    "print \"The accuracy on the training set for gbm is %.2f\" % (training_accuracy*100),'%'"
   ]
  },
  {
   "cell_type": "markdown",
   "metadata": {
    "collapsed": true
   },
   "source": [
    "#### Feature Importance - Random Forest"
   ]
  },
  {
   "cell_type": "code",
   "execution_count": 81,
   "metadata": {
    "collapsed": false
   },
   "outputs": [
    {
     "name": "stdout",
     "output_type": "stream",
     "text": [
      "Feature ranking:\n",
      "1. feature 3 (0.170929)\n",
      "2. feature 0 (0.151234)\n",
      "3. feature 2 (0.082857)\n",
      "4. feature 104 (0.073168)\n",
      "5. feature 90 (0.062500)\n",
      "6. feature 1 (0.055539)\n",
      "7. feature 95 (0.047904)\n",
      "8. feature 97 (0.041961)\n",
      "9. feature 88 (0.023839)\n",
      "10. feature 36 (0.019875)\n",
      "11. feature 46 (0.015003)\n",
      "12. feature 30 (0.014233)\n",
      "13. feature 20 (0.012964)\n",
      "14. feature 93 (0.012939)\n",
      "15. feature 6 (0.010813)\n",
      "16. feature 8 (0.009335)\n",
      "17. feature 34 (0.008992)\n",
      "18. feature 23 (0.007441)\n",
      "19. feature 29 (0.007227)\n",
      "20. feature 38 (0.007220)\n",
      "21. feature 91 (0.007056)\n",
      "22. feature 89 (0.007000)\n",
      "23. feature 47 (0.006889)\n",
      "24. feature 45 (0.006500)\n",
      "25. feature 100 (0.006157)\n",
      "26. feature 27 (0.005849)\n",
      "27. feature 22 (0.005816)\n",
      "28. feature 5 (0.005535)\n",
      "29. feature 85 (0.005388)\n",
      "30. feature 7 (0.005287)\n",
      "31. feature 40 (0.005010)\n",
      "32. feature 43 (0.004977)\n",
      "33. feature 26 (0.004966)\n",
      "34. feature 39 (0.004591)\n",
      "35. feature 4 (0.004460)\n",
      "36. feature 9 (0.004295)\n",
      "37. feature 33 (0.004279)\n",
      "38. feature 25 (0.004220)\n",
      "39. feature 31 (0.004110)\n",
      "40. feature 21 (0.003935)\n",
      "41. feature 32 (0.003893)\n",
      "42. feature 94 (0.003677)\n",
      "43. feature 103 (0.003456)\n",
      "44. feature 42 (0.003448)\n",
      "45. feature 102 (0.003447)\n",
      "46. feature 92 (0.003202)\n",
      "47. feature 37 (0.003053)\n",
      "48. feature 19 (0.002598)\n",
      "49. feature 18 (0.002371)\n",
      "50. feature 101 (0.001947)\n",
      "51. feature 12 (0.001573)\n",
      "52. feature 16 (0.001456)\n",
      "53. feature 41 (0.001320)\n",
      "54. feature 72 (0.001310)\n",
      "55. feature 98 (0.001277)\n",
      "56. feature 99 (0.001272)\n",
      "57. feature 58 (0.001035)\n",
      "58. feature 11 (0.001017)\n",
      "59. feature 76 (0.001001)\n",
      "60. feature 17 (0.000924)\n",
      "61. feature 49 (0.000903)\n",
      "62. feature 15 (0.000893)\n",
      "63. feature 44 (0.000843)\n",
      "64. feature 13 (0.000757)\n",
      "65. feature 56 (0.000755)\n",
      "66. feature 52 (0.000734)\n",
      "67. feature 96 (0.000733)\n",
      "68. feature 68 (0.000713)\n",
      "69. feature 70 (0.000668)\n",
      "70. feature 65 (0.000657)\n",
      "71. feature 81 (0.000553)\n",
      "72. feature 77 (0.000461)\n",
      "73. feature 50 (0.000457)\n",
      "74. feature 79 (0.000429)\n",
      "75. feature 66 (0.000397)\n",
      "76. feature 55 (0.000345)\n",
      "77. feature 69 (0.000335)\n",
      "78. feature 57 (0.000290)\n",
      "79. feature 48 (0.000281)\n",
      "80. feature 87 (0.000277)\n",
      "81. feature 61 (0.000252)\n",
      "82. feature 59 (0.000224)\n",
      "83. feature 63 (0.000216)\n",
      "84. feature 86 (0.000214)\n",
      "85. feature 14 (0.000209)\n",
      "86. feature 82 (0.000202)\n",
      "87. feature 78 (0.000194)\n",
      "88. feature 67 (0.000177)\n",
      "89. feature 35 (0.000148)\n",
      "90. feature 51 (0.000147)\n",
      "91. feature 75 (0.000111)\n",
      "92. feature 73 (0.000106)\n",
      "93. feature 64 (0.000102)\n",
      "94. feature 53 (0.000091)\n",
      "95. feature 54 (0.000090)\n",
      "96. feature 84 (0.000074)\n",
      "97. feature 71 (0.000072)\n",
      "98. feature 24 (0.000069)\n",
      "99. feature 60 (0.000062)\n",
      "100. feature 80 (0.000060)\n",
      "101. feature 10 (0.000055)\n",
      "102. feature 83 (0.000047)\n",
      "103. feature 74 (0.000016)\n",
      "104. feature 28 (0.000006)\n",
      "105. feature 62 (0.000002)\n"
     ]
    }
   ],
   "source": [
    "'''\n",
    "Show important features\n",
    "'''\n",
    "importances = rf.feature_importances_\n",
    "\n",
    "std = np.std([tree.feature_importances_ for tree in rf.estimators_], axis=0)\n",
    "indices = np.argsort(importances)[::-1]\n",
    "\n",
    "# Print the feature ranking\n",
    "print(\"Feature ranking:\")\n",
    "\n",
    "for f in range(training_data.shape[1]):\n",
    "    print(\"%d. feature %d (%f)\" % (f + 1, indices[f], importances[indices[f]]))"
   ]
  },
  {
   "cell_type": "code",
   "execution_count": 82,
   "metadata": {
    "collapsed": false
   },
   "outputs": [
    {
     "name": "stdout",
     "output_type": "stream",
     "text": [
      "feature index:  [0, 1, 2, 3, 6, 20, 30, 36, 46, 88, 90, 93, 95, 97, 104]\n",
      "column names:  Index([u'age', u'education_num', u'hours_per_week', u'fnlwgt_transformed',\n",
      "       u'workclass_Private', u'education_Bachelors',\n",
      "       u'occupation_Exec-managerial', u'occupation_Prof-specialty',\n",
      "       u'sex_Female', u'capital_gain_cat_low', u'capital_gain_cat_high',\n",
      "       u'capital_loss_cat_high', u'martial_status_merged_Married-AF-civ',\n",
      "       u'martial_status_merged_Never-married',\n",
      "       u'relationship_merged_husb_wife'],\n",
      "      dtype='object')\n"
     ]
    }
   ],
   "source": [
    "'''\n",
    "Get important features column index (importance > 1%)\n",
    "'''\n",
    "important_feature_index = [i for i,x in enumerate(importances) if x >= 0.01]\n",
    "print \"feature index: \", important_feature_index\n",
    "\n",
    "important_features_to_model = training_data.iloc[:,important_feature_index]\n",
    "names = important_features_to_model.columns\n",
    "print \"column names: \", names"
   ]
  },
  {
   "cell_type": "code",
   "execution_count": 84,
   "metadata": {
    "collapsed": false
   },
   "outputs": [
    {
     "name": "stdout",
     "output_type": "stream",
     "text": [
      "Populating the interactive namespace from numpy and matplotlib\n"
     ]
    },
    {
     "data": {
      "image/png": "[encoded data removed]",
      "text/plain": [
       "<matplotlib.figure.Figure at 0x9fe6650>"
      ]
     },
     "metadata": {},
     "output_type": "display_data"
    }
   ],
   "source": [
    "'''\n",
    "Variable importance plot\n",
    "'''\n",
    "%pylab inline \n",
    "plt.figure(figsize=(30,15))\n",
    "\n",
    "lists = importances[important_feature_index]\n",
    "plt.title(\"Feature importances\")\n",
    "plt.barh(range(0,15), lists, color=\"b\", align=\"center\")\n",
    "plt.yticks(range(0,15), names[0:15])\n",
    "plt.show()"
   ]
  },
  {
   "cell_type": "markdown",
   "metadata": {},
   "source": [
    "## Model Evaluation"
   ]
  },
  {
   "cell_type": "markdown",
   "metadata": {},
   "source": [
    "* Logistic Regression"
   ]
  },
  {
   "cell_type": "code",
   "execution_count": 85,
   "metadata": {
    "collapsed": false
   },
   "outputs": [
    {
     "name": "stdout",
     "output_type": "stream",
     "text": [
      "\n",
      "Snapshot of the predictions from the Logistic Model:\n",
      "[0 0 0 ..., 1 0 1]\n",
      "\n",
      "\n",
      "The Classifier predicts 1 any time the probability in the second column is greater than 0.5:\n",
      "[[ 0.99771095  0.00228905]\n",
      " [ 0.86553006  0.13446994]\n",
      " [ 0.58753263  0.41246737]\n",
      " ..., \n",
      " [ 0.28798052  0.71201948]\n",
      " [ 0.95286962  0.04713038]\n",
      " [ 0.19552846  0.80447154]]\n",
      "\n",
      "\n",
      "Evaluation metrics: \n",
      "Accuracy of the model: 64.94 %\n",
      "ROC accuracy score: 49.48 %\n",
      "Mean Squared error: 35.06 %\n",
      "\n",
      "\n",
      "Confusion Matrix: \n",
      "[[9260 2263]\n",
      " [3106  686]]\n",
      "\n",
      "\n",
      "Classification Report: \n",
      "             precision    recall  f1-score   support\n",
      "\n",
      "          0       0.75      0.80      0.78     11523\n",
      "          1       0.23      0.18      0.20      3792\n",
      "\n",
      "avg / total       0.62      0.65      0.63     15315\n",
      "\n"
     ]
    }
   ],
   "source": [
    "'''\n",
    "Logistic Regression Model Evaluation using training data.\n",
    "'''\n",
    "\n",
    "print \"\\nSnapshot of the predictions from the Logistic Model:\"\n",
    "predictions_logistic = lr.predict(testing_data) #generate predictions\n",
    "print predictions_logistic\n",
    "\n",
    "\n",
    "print \"\\n\\nThe Classifier predicts 1 any time the probability in the second column is greater than 0.5:\"\n",
    "probabilities = lr.predict_proba(testing_data) #generate class probabilities\n",
    "print probabilities\n",
    "\n",
    "\n",
    "print \"\\n\\nEvaluation metrics: \"\n",
    "print \"Accuracy of the model: %.2f\" % (metrics.accuracy_score(test_y, predictions_logistic)*100),\"%\"\n",
    "print \"ROC accuracy score: %.2f\"% (metrics.roc_auc_score(test_y, probabilities[:, 1])*100),\"%\"\n",
    "print \"Mean Squared error: %.2f\" % (metrics.mean_squared_error(test_y,predictions_logistic)*100),'%'\n",
    "\n",
    "\n",
    "print \"\\n\\nConfusion Matrix: \"\n",
    "print metrics.confusion_matrix(test_y, predictions_logistic)\n",
    "\n",
    "\n",
    "print \"\\n\\nClassification Report: \"\n",
    "print metrics.classification_report(test_y, predictions_logistic)"
   ]
  },
  {
   "cell_type": "markdown",
   "metadata": {},
   "source": [
    "* Support Vector Machines"
   ]
  },
  {
   "cell_type": "code",
   "execution_count": 86,
   "metadata": {
    "collapsed": false
   },
   "outputs": [
    {
     "name": "stdout",
     "output_type": "stream",
     "text": [
      "\n",
      "Snapshot of the predictions from the SVM Model:\n",
      "[0 0 0 ..., 0 0 0]\n",
      "\n",
      "\n",
      "Evaluation metrics:\n",
      "Accuracy of the model: 71.96 %\n",
      "Mean Squared error: 28.04 %\n",
      "\n",
      "\n",
      "Confusion Matrix:\n",
      "[[10823   700]\n",
      " [ 3594   198]]\n",
      "\n",
      "\n",
      "Classification Report:\n",
      "             precision    recall  f1-score   support\n",
      "\n",
      "          0       0.75      0.94      0.83     11523\n",
      "          1       0.22      0.05      0.08      3792\n",
      "\n",
      "avg / total       0.62      0.72      0.65     15315\n",
      "\n"
     ]
    }
   ],
   "source": [
    "'''\n",
    "SVM Model Evaluation using training data.\n",
    "'''\n",
    "\n",
    "print \"\\nSnapshot of the predictions from the SVM Model:\"\n",
    "predictions_svm = svm.predict(testing_data) #generate predictions\n",
    "print predictions_svm\n",
    "\n",
    "print \"\\n\\nEvaluation metrics:\"\n",
    "print \"Accuracy of the model: %.2f\" % (metrics.accuracy_score(test_y, predictions_svm)*100),\"%\"\n",
    "print \"Mean Squared error: %.2f\" % (metrics.mean_squared_error(test_y,predictions_svm)*100),'%'\n",
    "\n",
    "\n",
    "print \"\\n\\nConfusion Matrix:\"\n",
    "print metrics.confusion_matrix(test_y, predictions_svm)\n",
    "\n",
    "print \"\\n\\nClassification Report:\"\n",
    "print metrics.classification_report(test_y, predictions_svm)"
   ]
  },
  {
   "cell_type": "markdown",
   "metadata": {},
   "source": [
    "* Random Forest"
   ]
  },
  {
   "cell_type": "code",
   "execution_count": 87,
   "metadata": {
    "collapsed": false
   },
   "outputs": [
    {
     "name": "stdout",
     "output_type": "stream",
     "text": [
      "\n",
      "Snapshot of the predictions from the RF Model:\n",
      "[0 0 0 ..., 1 0 1]\n",
      "\n",
      "\n",
      "The probabilities predicted by the Classifier:\n",
      "[[ 1.   0. ]\n",
      " [ 1.   0. ]\n",
      " [ 0.7  0.3]\n",
      " ..., \n",
      " [ 0.2  0.8]\n",
      " [ 1.   0. ]\n",
      " [ 0.2  0.8]]\n",
      "\n",
      "\n",
      "Evaluation metrics: \n",
      "Accuracy of the model: 64.86 %\n",
      "ROC accuracy score: 49.44 %\n",
      "Mean Squared error: 35.14 %\n",
      "\n",
      "\n",
      "Confusion Matrix: \n",
      "[[9236 2287]\n",
      " [3094  698]]\n",
      "\n",
      "\n",
      "Classification Report: \n",
      "             precision    recall  f1-score   support\n",
      "\n",
      "          0       0.75      0.80      0.77     11523\n",
      "          1       0.23      0.18      0.21      3792\n",
      "\n",
      "avg / total       0.62      0.65      0.63     15315\n",
      "\n"
     ]
    }
   ],
   "source": [
    "'''\n",
    "Random Forest Model Evaluation using training data.\n",
    "'''\n",
    "\n",
    "print \"\\nSnapshot of the predictions from the RF Model:\"\n",
    "predictions_rf = rf.predict(testing_data) #generate predictions\n",
    "print predictions_rf\n",
    "\n",
    "\n",
    "print \"\\n\\nThe probabilities predicted by the Classifier:\"\n",
    "probabilities = rf.predict_proba(testing_data) #generate class probabilities\n",
    "print probabilities\n",
    "\n",
    "\n",
    "print \"\\n\\nEvaluation metrics: \"\n",
    "print \"Accuracy of the model: %.2f\" % (metrics.accuracy_score(test_y, predictions_rf)*100),\"%\"\n",
    "print \"ROC accuracy score: %.2f\"% (metrics.roc_auc_score(test_y, probabilities[:, 1])*100),\"%\"\n",
    "print \"Mean Squared error: %.2f\" % (metrics.mean_squared_error(test_y,predictions_rf)*100),'%'\n",
    "\n",
    "\n",
    "print \"\\n\\nConfusion Matrix: \"\n",
    "print metrics.confusion_matrix(test_y, predictions_rf)\n",
    "\n",
    "\n",
    "print \"\\n\\nClassification Report: \"\n",
    "print metrics.classification_report(test_y, predictions_rf)"
   ]
  },
  {
   "cell_type": "markdown",
   "metadata": {},
   "source": [
    "* Gradient Boosting Machines"
   ]
  },
  {
   "cell_type": "code",
   "execution_count": 88,
   "metadata": {
    "collapsed": false
   },
   "outputs": [
    {
     "name": "stdout",
     "output_type": "stream",
     "text": [
      "\n",
      "Snapshot of the predictions from the RF Model:\n",
      "[0 0 0 ..., 1 0 1]\n",
      "\n",
      "\n",
      "The probabilities predicted by the Classifier:\n",
      "[[ 0.98903998  0.01096002]\n",
      " [ 0.80234317  0.19765683]\n",
      " [ 0.64168005  0.35831995]\n",
      " ..., \n",
      " [ 0.23628102  0.76371898]\n",
      " [ 0.90082379  0.09917621]\n",
      " [ 0.19792586  0.80207414]]\n",
      "\n",
      "\n",
      "Evaluation metrics: \n",
      "Accuracy of the model: 64.88 %\n",
      "ROC accuracy score: 49.52 %\n",
      "Mean Squared error: 35.12 %\n",
      "\n",
      "\n",
      "Confusion Matrix: \n",
      "[[9269 2254]\n",
      " [3124  668]]\n",
      "\n",
      "\n",
      "Classification Report: \n",
      "             precision    recall  f1-score   support\n",
      "\n",
      "          0       0.75      0.80      0.78     11523\n",
      "          1       0.23      0.18      0.20      3792\n",
      "\n",
      "avg / total       0.62      0.65      0.63     15315\n",
      "\n"
     ]
    }
   ],
   "source": [
    "'''\n",
    "GBM Model Evaluation using training data.\n",
    "'''\n",
    "\n",
    "print \"\\nSnapshot of the predictions from the RF Model:\"\n",
    "predictions_gb = gb.predict(testing_data) #generate predictions\n",
    "print predictions_gb\n",
    "\n",
    "\n",
    "print \"\\n\\nThe probabilities predicted by the Classifier:\"\n",
    "probabilities = gb.predict_proba(testing_data) #generate class probabilities\n",
    "print probabilities\n",
    "\n",
    "\n",
    "print \"\\n\\nEvaluation metrics: \"\n",
    "print \"Accuracy of the model: %.2f\" % (metrics.accuracy_score(test_y, predictions_gb)*100),\"%\"\n",
    "print \"ROC accuracy score: %.2f\" % (metrics.roc_auc_score(test_y, probabilities[:, 1])*100),\"%\"\n",
    "print \"Mean Squared error: %.2f\" % (metrics.mean_squared_error(test_y,predictions_gb)*100),'%'\n",
    "\n",
    "\n",
    "print \"\\n\\nConfusion Matrix: \"\n",
    "print metrics.confusion_matrix(test_y, predictions_gb)\n",
    "\n",
    "\n",
    "print \"\\n\\nClassification Report: \"\n",
    "print metrics.classification_report(test_y, predictions_gb)"
   ]
  },
  {
   "cell_type": "markdown",
   "metadata": {},
   "source": [
    "## Parameter Tuning - SVM"
   ]
  },
  {
   "cell_type": "code",
   "execution_count": 89,
   "metadata": {
    "collapsed": true
   },
   "outputs": [],
   "source": [
    "from sklearn.grid_search import GridSearchCV, RandomizedSearchCV\n",
    "from scipy.stats import randint as sp_randint\n",
    "from operator import itemgetter\n",
    "from time import time"
   ]
  },
  {
   "cell_type": "code",
   "execution_count": 90,
   "metadata": {
    "collapsed": true
   },
   "outputs": [],
   "source": [
    "'''\n",
    "Utility function to report best scores\n",
    "'''\n",
    "def report(grid_scores, n_top=3):\n",
    "    top_scores = sorted(grid_scores, key=itemgetter(1), reverse=True)[:n_top]\n",
    "    for i, score in enumerate(top_scores):\n",
    "        print(\"Model with rank: {0}\".format(i + 1))\n",
    "        print(\"Mean validation score: {0:.3f} (std: {1:.3f})\".format(\n",
    "              score.mean_validation_score,\n",
    "              np.std(score.cv_validation_scores)))\n",
    "        print(\"Parameters: {0}\".format(score.parameters))\n",
    "        print(\"\")"
   ]
  },
  {
   "cell_type": "code",
   "execution_count": null,
   "metadata": {
    "collapsed": false
   },
   "outputs": [],
   "source": [
    "'''\n",
    "Use a full grid over all parameters\n",
    "'''\n",
    "param_grid = {\"C\": [0.5, 1, 1.5], \n",
    "              \"fit_intercept\": [True, False],\n",
    "              \"multi_class\": ['ovr','crammer_singer']}\n",
    "\n",
    "# run grid search\n",
    "grid_search = GridSearchCV(svm, param_grid=param_grid)\n",
    "start = time()\n",
    "grid_search.fit(training_data, train_y)\n",
    "\n",
    "print(\"GridSearchCV took %.2f seconds for %d candidate parameter settings.\"\n",
    "      % (time() - start, len(grid_search.grid_scores_)))\n",
    "report(grid_search.grid_scores_)\n",
    "print(\"\\n\")"
   ]
  },
  {
   "cell_type": "code",
   "execution_count": null,
   "metadata": {
    "collapsed": true
   },
   "outputs": [],
   "source": [
    "# include hyper-plot"
   ]
  },
  {
   "cell_type": "markdown",
   "metadata": {},
   "source": [
    "The above hyper-parameters can be used to fit the model to the dataset to improve accuracy/fit"
   ]
  },
  {
   "cell_type": "markdown",
   "metadata": {},
   "source": [
    "## Prediction Summary:\n",
    "\n",
    "* Logistic Regression model:\n",
    "    * Prediction Accuracy: **64.94%** \n",
    "    * F1-Score: **0.63**    \n",
    "    \n",
    "* Support Vector Machines model:\n",
    "    * Prediction Accuracy: **71.96%** \n",
    "    * F1-Score: **0.65**   \n",
    "    \n",
    "* Random Forest model:\n",
    "    * Prediction Accuracy: **64.86%** \n",
    "    * F1-Score: **0.63**    \n",
    "    \n",
    "* Gradient Boosting Machines model:\n",
    "    * Prediction Accuracy: **64.88%** \n",
    "    * F1-Score: **0.63**"
   ]
  }
 ],
 "metadata": {
  "kernelspec": {
   "display_name": "Python 2",
   "language": "python",
   "name": "python2"
  },
  "language_info": {
   "codemirror_mode": {
    "name": "ipython",
    "version": 2
   },
   "file_extension": ".py",
   "mimetype": "text/x-python",
   "name": "python",
   "nbconvert_exporter": "python",
   "pygments_lexer": "ipython2",
   "version": "2.7.11"
  }
 },
 "nbformat": 4,
 "nbformat_minor": 0
}
