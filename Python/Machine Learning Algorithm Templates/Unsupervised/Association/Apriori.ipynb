{
 "cells": [
  {
   "cell_type": "markdown",
   "metadata": {},
   "source": [
    "# Apriori Algorithm\n",
    "\n",
    "* The code below demonstrates the use of the Apriori algorithm.\n",
    "* Apriori is a part of unsupervised machine learning and thus there is no training and testing data.\n",
    "* Apriori helps forming association rules and discovering interesting relationships between variables."
   ]
  },
  {
   "cell_type": "markdown",
   "metadata": {},
   "source": [
    "### Implementation in Python"
   ]
  },
  {
   "cell_type": "markdown",
   "metadata": {},
   "source": [
    "The list of python packages used for data analysis"
   ]
  },
  {
   "cell_type": "code",
   "execution_count": 1,
   "metadata": {
    "collapsed": true
   },
   "outputs": [],
   "source": [
    "import numpy as np\n",
    "import pandas as pd\n",
    "from itertools import combinations"
   ]
  },
  {
   "cell_type": "markdown",
   "metadata": {},
   "source": [
    "The music.csv dataset is present in the data folder."
   ]
  },
  {
   "cell_type": "code",
   "execution_count": 2,
   "metadata": {
    "collapsed": true
   },
   "outputs": [],
   "source": [
    "music = pd.read_csv('./data/music.csv')"
   ]
  },
  {
   "cell_type": "markdown",
   "metadata": {},
   "source": [
    "A preview of the imported dataset:"
   ]
  },
  {
   "cell_type": "code",
   "execution_count": 3,
   "metadata": {
    "collapsed": false
   },
   "outputs": [
    {
     "name": "stdout",
     "output_type": "stream",
     "text": [
      "To display first N rows, enter N: 4\n"
     ]
    },
    {
     "data": {
      "text/html": [
       "<div>\n",
       "<table border=\"1\" class=\"dataframe\">\n",
       "  <thead>\n",
       "    <tr style=\"text-align: right;\">\n",
       "      <th></th>\n",
       "      <th>user</th>\n",
       "      <th>artist</th>\n",
       "      <th>sex</th>\n",
       "      <th>country</th>\n",
       "    </tr>\n",
       "  </thead>\n",
       "  <tbody>\n",
       "    <tr>\n",
       "      <th>0</th>\n",
       "      <td>1</td>\n",
       "      <td>red hot chili peppers</td>\n",
       "      <td>f</td>\n",
       "      <td>Germany</td>\n",
       "    </tr>\n",
       "    <tr>\n",
       "      <th>1</th>\n",
       "      <td>1</td>\n",
       "      <td>the black dahlia murder</td>\n",
       "      <td>f</td>\n",
       "      <td>Germany</td>\n",
       "    </tr>\n",
       "    <tr>\n",
       "      <th>2</th>\n",
       "      <td>3</td>\n",
       "      <td>broken social scene</td>\n",
       "      <td>m</td>\n",
       "      <td>United States</td>\n",
       "    </tr>\n",
       "    <tr>\n",
       "      <th>3</th>\n",
       "      <td>3</td>\n",
       "      <td>arcade fire</td>\n",
       "      <td>m</td>\n",
       "      <td>United States</td>\n",
       "    </tr>\n",
       "  </tbody>\n",
       "</table>\n",
       "</div>"
      ],
      "text/plain": [
       "   user                   artist sex        country\n",
       "0     1    red hot chili peppers   f        Germany\n",
       "1     1  the black dahlia murder   f        Germany\n",
       "2     3      broken social scene   m  United States\n",
       "3     3              arcade fire   m  United States"
      ]
     },
     "execution_count": 3,
     "metadata": {},
     "output_type": "execute_result"
    }
   ],
   "source": [
    "head = int(raw_input(\"To display first N rows, enter N: \"))\n",
    "music.head(head)"
   ]
  },
  {
   "cell_type": "markdown",
   "metadata": {},
   "source": [
    "Printing the support count for each of the items in the dataset."
   ]
  },
  {
   "cell_type": "code",
   "execution_count": 4,
   "metadata": {
    "collapsed": false
   },
   "outputs": [
    {
     "name": "stdout",
     "output_type": "stream",
     "text": [
      "                                                 Pattern         Support\n",
      "0                                                   (1,)  0.333333333333\n",
      "1                                                   (3,)  0.333333333333\n",
      "2                                                  (19,)  0.166666666667\n",
      "3                                               (10684,)  0.166666666667\n",
      "4                                             (Germany,)  0.333333333333\n",
      "5                                              (Sweden,)  0.166666666667\n",
      "6                                       (United States,)             0.5\n",
      "7                                         (arcade fire,)  0.166666666667\n",
      "8                                 (broken social scene,)  0.166666666667\n",
      "9                                                   (f,)             0.5\n",
      "10                                              (jay-z,)  0.166666666667\n",
      "11                                            (klaxons,)  0.166666666667\n",
      "12                                                  (m,)             0.5\n",
      "13                              (red hot chili peppers,)  0.166666666667\n",
      "14                            (the black dahlia murder,)  0.166666666667\n",
      "15                                                (1, 3)             0.0\n",
      "16                                               (1, 19)             0.0\n",
      "17                                            (1, 10684)             0.0\n",
      "18                                          (1, Germany)  0.333333333333\n",
      "19                                           (1, Sweden)             0.0\n",
      "20                                    (1, United States)             0.0\n",
      "21                                      (1, arcade fire)             0.0\n",
      "22                              (1, broken social scene)             0.0\n",
      "23                                                (1, f)  0.333333333333\n",
      "24                                            (1, jay-z)             0.0\n",
      "25                                          (1, klaxons)             0.0\n",
      "26                                                (1, m)             0.0\n",
      "27                            (1, red hot chili peppers)  0.166666666667\n",
      "28                          (1, the black dahlia murder)  0.166666666667\n",
      "29                                               (3, 19)             0.0\n",
      "...                                                  ...             ...\n",
      "32737  (3, 19, 10684, Germany, Sweden, United States,...             0.0\n",
      "32738  (3, 19, 10684, Germany, Sweden, United States,...             0.0\n",
      "32739  (3, 19, 10684, Germany, Sweden, United States,...             0.0\n",
      "32740  (3, 19, 10684, Germany, Sweden, United States,...             0.0\n",
      "32741  (3, 19, 10684, Germany, Sweden, United States,...             0.0\n",
      "32742  (3, 19, 10684, Germany, Sweden, United States,...             0.0\n",
      "32743  (3, 19, 10684, Germany, Sweden, United States,...             0.0\n",
      "32744  (3, 19, 10684, Germany, Sweden, United States,...             0.0\n",
      "32745  (3, 19, 10684, Germany, Sweden, arcade fire, b...             0.0\n",
      "32746  (3, 19, 10684, Germany, United States, arcade ...             0.0\n",
      "32747  (3, 19, 10684, Sweden, United States, arcade f...             0.0\n",
      "32748  (3, 19, Germany, Sweden, United States, arcade...             0.0\n",
      "32749  (3, 10684, Germany, Sweden, United States, arc...             0.0\n",
      "32750  (19, 10684, Germany, Sweden, United States, ar...             0.0\n",
      "32751  (1, 3, 19, 10684, Germany, Sweden, United Stat...             0.0\n",
      "32752  (1, 3, 19, 10684, Germany, Sweden, United Stat...             0.0\n",
      "32753  (1, 3, 19, 10684, Germany, Sweden, United Stat...             0.0\n",
      "32754  (1, 3, 19, 10684, Germany, Sweden, United Stat...             0.0\n",
      "32755  (1, 3, 19, 10684, Germany, Sweden, United Stat...             0.0\n",
      "32756  (1, 3, 19, 10684, Germany, Sweden, United Stat...             0.0\n",
      "32757  (1, 3, 19, 10684, Germany, Sweden, United Stat...             0.0\n",
      "32758  (1, 3, 19, 10684, Germany, Sweden, United Stat...             0.0\n",
      "32759  (1, 3, 19, 10684, Germany, Sweden, arcade fire...             0.0\n",
      "32760  (1, 3, 19, 10684, Germany, United States, arca...             0.0\n",
      "32761  (1, 3, 19, 10684, Sweden, United States, arcad...             0.0\n",
      "32762  (1, 3, 19, Germany, Sweden, United States, arc...             0.0\n",
      "32763  (1, 3, 10684, Germany, Sweden, United States, ...             0.0\n",
      "32764  (1, 19, 10684, Germany, Sweden, United States,...             0.0\n",
      "32765  (3, 19, 10684, Germany, Sweden, United States,...             0.0\n",
      "32766  (1, 3, 19, 10684, Germany, Sweden, United Stat...             0.0\n",
      "\n",
      "[32767 rows x 2 columns]\n"
     ]
    }
   ],
   "source": [
    "ts = pd.get_dummies(music.unstack().dropna()).groupby(level=1).sum()\n",
    "collen, rowlen = ts.shape\n",
    "\n",
    "pattern = []\n",
    "\n",
    "for cnum in range(1, rowlen+1):\n",
    "    for cols in combinations(ts, cnum):\n",
    "        patsup = ts[list(cols)].all(axis=1).sum()\n",
    "        patsup = str(float(patsup)/collen)\n",
    "        pattern.append([cols, patsup])\n",
    "\n",
    "support_df = pd.DataFrame(pattern, columns=[\"Pattern\", \"Support\"])\n",
    "\n",
    "print support_df"
   ]
  }
 ],
 "metadata": {
  "kernelspec": {
   "display_name": "Python 2",
   "language": "python",
   "name": "python2"
  },
  "language_info": {
   "codemirror_mode": {
    "name": "ipython",
    "version": 2
   },
   "file_extension": ".py",
   "mimetype": "text/x-python",
   "name": "python",
   "nbconvert_exporter": "python",
   "pygments_lexer": "ipython2",
   "version": "2.7.11"
  }
 },
 "nbformat": 4,
 "nbformat_minor": 0
}
