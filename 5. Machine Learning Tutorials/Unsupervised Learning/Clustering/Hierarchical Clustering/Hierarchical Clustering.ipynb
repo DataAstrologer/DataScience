{
 "cells": [
  {
   "cell_type": "markdown",
   "metadata": {},
   "source": [
    "# Hierarchical Clustering\n",
    "\n",
    "* The code below demonstrates the use of the Hierarchical Clustering.\n",
    "* Hierarchical Clustering is a part of unsupervised machine learning and thus there is no training and testing data.\n",
    "* Hierarchical Clustering helps forming clusters of the dataset and getting useful insights."
   ]
  },
  {
   "cell_type": "markdown",
   "metadata": {},
   "source": [
    "### Implementation in Python"
   ]
  },
  {
   "cell_type": "markdown",
   "metadata": {},
   "source": [
    "The lits of python packages used for data analysis:"
   ]
  },
  {
   "cell_type": "code",
   "execution_count": 1,
   "metadata": {
    "collapsed": true
   },
   "outputs": [],
   "source": [
    "import numpy as np\n",
    "import pandas as pd\n",
    "from matplotlib import pyplot as plt\n",
    "from scipy.cluster.hierarchy import dendrogram, linkage\n",
    "from scipy.cluster.hierarchy import cophenet\n",
    "from scipy.spatial.distance import pdist\n",
    "from sklearn.metrics.pairwise import euclidean_distances"
   ]
  },
  {
   "cell_type": "markdown",
   "metadata": {},
   "source": [
    "The protien.csv dataset is present in the data folder."
   ]
  },
  {
   "cell_type": "code",
   "execution_count": 2,
   "metadata": {
    "collapsed": true
   },
   "outputs": [],
   "source": [
    "food = pd.read_csv('./data/protein.csv')"
   ]
  },
  {
   "cell_type": "markdown",
   "metadata": {},
   "source": [
    "A preview of the imported dataset: "
   ]
  },
  {
   "cell_type": "code",
   "execution_count": 3,
   "metadata": {
    "collapsed": false
   },
   "outputs": [
    {
     "name": "stdout",
     "output_type": "stream",
     "text": [
      "To display first N rows, enter N: 6\n"
     ]
    },
    {
     "data": {
      "text/html": [
       "<div>\n",
       "<table border=\"1\" class=\"dataframe\">\n",
       "  <thead>\n",
       "    <tr style=\"text-align: right;\">\n",
       "      <th></th>\n",
       "      <th>Country</th>\n",
       "      <th>RedMeat</th>\n",
       "      <th>WhiteMeat</th>\n",
       "      <th>Eggs</th>\n",
       "      <th>Milk</th>\n",
       "      <th>Fish</th>\n",
       "      <th>Cereals</th>\n",
       "      <th>Starch</th>\n",
       "      <th>Nuts</th>\n",
       "      <th>Fr&amp;Veg</th>\n",
       "    </tr>\n",
       "  </thead>\n",
       "  <tbody>\n",
       "    <tr>\n",
       "      <th>0</th>\n",
       "      <td>Albania</td>\n",
       "      <td>10.1</td>\n",
       "      <td>1.4</td>\n",
       "      <td>0.5</td>\n",
       "      <td>8.9</td>\n",
       "      <td>0.2</td>\n",
       "      <td>42.3</td>\n",
       "      <td>0.6</td>\n",
       "      <td>5.5</td>\n",
       "      <td>1.7</td>\n",
       "    </tr>\n",
       "    <tr>\n",
       "      <th>1</th>\n",
       "      <td>Austria</td>\n",
       "      <td>8.9</td>\n",
       "      <td>14.0</td>\n",
       "      <td>4.3</td>\n",
       "      <td>19.9</td>\n",
       "      <td>2.1</td>\n",
       "      <td>28.0</td>\n",
       "      <td>3.6</td>\n",
       "      <td>1.3</td>\n",
       "      <td>4.3</td>\n",
       "    </tr>\n",
       "    <tr>\n",
       "      <th>2</th>\n",
       "      <td>Belgium</td>\n",
       "      <td>13.5</td>\n",
       "      <td>9.3</td>\n",
       "      <td>4.1</td>\n",
       "      <td>17.5</td>\n",
       "      <td>4.5</td>\n",
       "      <td>26.6</td>\n",
       "      <td>5.7</td>\n",
       "      <td>2.1</td>\n",
       "      <td>4.0</td>\n",
       "    </tr>\n",
       "    <tr>\n",
       "      <th>3</th>\n",
       "      <td>Bulgaria</td>\n",
       "      <td>7.8</td>\n",
       "      <td>6.0</td>\n",
       "      <td>1.6</td>\n",
       "      <td>8.3</td>\n",
       "      <td>1.2</td>\n",
       "      <td>56.7</td>\n",
       "      <td>1.1</td>\n",
       "      <td>3.7</td>\n",
       "      <td>4.2</td>\n",
       "    </tr>\n",
       "    <tr>\n",
       "      <th>4</th>\n",
       "      <td>Czechoslovakia</td>\n",
       "      <td>9.7</td>\n",
       "      <td>11.4</td>\n",
       "      <td>2.8</td>\n",
       "      <td>12.5</td>\n",
       "      <td>2.0</td>\n",
       "      <td>34.3</td>\n",
       "      <td>5.0</td>\n",
       "      <td>1.1</td>\n",
       "      <td>4.0</td>\n",
       "    </tr>\n",
       "    <tr>\n",
       "      <th>5</th>\n",
       "      <td>Denmark</td>\n",
       "      <td>10.6</td>\n",
       "      <td>10.8</td>\n",
       "      <td>3.7</td>\n",
       "      <td>25.0</td>\n",
       "      <td>9.9</td>\n",
       "      <td>21.9</td>\n",
       "      <td>4.8</td>\n",
       "      <td>0.7</td>\n",
       "      <td>2.4</td>\n",
       "    </tr>\n",
       "  </tbody>\n",
       "</table>\n",
       "</div>"
      ],
      "text/plain": [
       "          Country   RedMeat   WhiteMeat   Eggs   Milk   Fish   Cereals  \\\n",
       "0         Albania      10.1         1.4    0.5    8.9    0.2      42.3   \n",
       "1         Austria       8.9        14.0    4.3   19.9    2.1      28.0   \n",
       "2         Belgium      13.5         9.3    4.1   17.5    4.5      26.6   \n",
       "3        Bulgaria       7.8         6.0    1.6    8.3    1.2      56.7   \n",
       "4  Czechoslovakia       9.7        11.4    2.8   12.5    2.0      34.3   \n",
       "5         Denmark      10.6        10.8    3.7   25.0    9.9      21.9   \n",
       "\n",
       "    Starch   Nuts   Fr&Veg  \n",
       "0      0.6    5.5      1.7  \n",
       "1      3.6    1.3      4.3  \n",
       "2      5.7    2.1      4.0  \n",
       "3      1.1    3.7      4.2  \n",
       "4      5.0    1.1      4.0  \n",
       "5      4.8    0.7      2.4  "
      ]
     },
     "execution_count": 3,
     "metadata": {},
     "output_type": "execute_result"
    }
   ],
   "source": [
    "head = int(raw_input(\"To display first N rows, enter N: \"))\n",
    "food.head(head)"
   ]
  },
  {
   "cell_type": "markdown",
   "metadata": {},
   "source": [
    "Displaying Summary statisitcs of all the numeric variables in the dataset. Nulls values are handled automatically."
   ]
  },
  {
   "cell_type": "code",
   "execution_count": 4,
   "metadata": {
    "collapsed": false
   },
   "outputs": [
    {
     "data": {
      "text/html": [
       "<div>\n",
       "<table border=\"1\" class=\"dataframe\">\n",
       "  <thead>\n",
       "    <tr style=\"text-align: right;\">\n",
       "      <th></th>\n",
       "      <th>RedMeat</th>\n",
       "      <th>WhiteMeat</th>\n",
       "      <th>Eggs</th>\n",
       "      <th>Milk</th>\n",
       "      <th>Fish</th>\n",
       "      <th>Cereals</th>\n",
       "      <th>Starch</th>\n",
       "      <th>Nuts</th>\n",
       "      <th>Fr&amp;Veg</th>\n",
       "    </tr>\n",
       "  </thead>\n",
       "  <tbody>\n",
       "    <tr>\n",
       "      <th>count</th>\n",
       "      <td>25.000000</td>\n",
       "      <td>25.000000</td>\n",
       "      <td>25.000000</td>\n",
       "      <td>25.000000</td>\n",
       "      <td>25.000000</td>\n",
       "      <td>25.000000</td>\n",
       "      <td>25.000000</td>\n",
       "      <td>25.000000</td>\n",
       "      <td>25.000000</td>\n",
       "    </tr>\n",
       "    <tr>\n",
       "      <th>mean</th>\n",
       "      <td>9.828000</td>\n",
       "      <td>7.896000</td>\n",
       "      <td>2.936000</td>\n",
       "      <td>17.112000</td>\n",
       "      <td>4.284000</td>\n",
       "      <td>32.248000</td>\n",
       "      <td>4.276000</td>\n",
       "      <td>3.072000</td>\n",
       "      <td>4.136000</td>\n",
       "    </tr>\n",
       "    <tr>\n",
       "      <th>std</th>\n",
       "      <td>3.347078</td>\n",
       "      <td>3.694081</td>\n",
       "      <td>1.117617</td>\n",
       "      <td>7.105416</td>\n",
       "      <td>3.402533</td>\n",
       "      <td>10.974786</td>\n",
       "      <td>1.634085</td>\n",
       "      <td>1.985682</td>\n",
       "      <td>1.803903</td>\n",
       "    </tr>\n",
       "    <tr>\n",
       "      <th>min</th>\n",
       "      <td>4.400000</td>\n",
       "      <td>1.400000</td>\n",
       "      <td>0.500000</td>\n",
       "      <td>4.900000</td>\n",
       "      <td>0.200000</td>\n",
       "      <td>18.600000</td>\n",
       "      <td>0.600000</td>\n",
       "      <td>0.700000</td>\n",
       "      <td>1.400000</td>\n",
       "    </tr>\n",
       "    <tr>\n",
       "      <th>50%</th>\n",
       "      <td>9.500000</td>\n",
       "      <td>7.800000</td>\n",
       "      <td>2.900000</td>\n",
       "      <td>17.600000</td>\n",
       "      <td>3.400000</td>\n",
       "      <td>28.000000</td>\n",
       "      <td>4.700000</td>\n",
       "      <td>2.400000</td>\n",
       "      <td>3.800000</td>\n",
       "    </tr>\n",
       "    <tr>\n",
       "      <th>100%</th>\n",
       "      <td>18.000000</td>\n",
       "      <td>14.000000</td>\n",
       "      <td>4.700000</td>\n",
       "      <td>33.700000</td>\n",
       "      <td>14.200000</td>\n",
       "      <td>56.700000</td>\n",
       "      <td>6.500000</td>\n",
       "      <td>7.800000</td>\n",
       "      <td>7.900000</td>\n",
       "    </tr>\n",
       "    <tr>\n",
       "      <th>max</th>\n",
       "      <td>18.000000</td>\n",
       "      <td>14.000000</td>\n",
       "      <td>4.700000</td>\n",
       "      <td>33.700000</td>\n",
       "      <td>14.200000</td>\n",
       "      <td>56.700000</td>\n",
       "      <td>6.500000</td>\n",
       "      <td>7.800000</td>\n",
       "      <td>7.900000</td>\n",
       "    </tr>\n",
       "  </tbody>\n",
       "</table>\n",
       "</div>"
      ],
      "text/plain": [
       "         RedMeat   WhiteMeat       Eggs       Milk       Fish    Cereals  \\\n",
       "count  25.000000   25.000000  25.000000  25.000000  25.000000  25.000000   \n",
       "mean    9.828000    7.896000   2.936000  17.112000   4.284000  32.248000   \n",
       "std     3.347078    3.694081   1.117617   7.105416   3.402533  10.974786   \n",
       "min     4.400000    1.400000   0.500000   4.900000   0.200000  18.600000   \n",
       "50%     9.500000    7.800000   2.900000  17.600000   3.400000  28.000000   \n",
       "100%   18.000000   14.000000   4.700000  33.700000  14.200000  56.700000   \n",
       "max    18.000000   14.000000   4.700000  33.700000  14.200000  56.700000   \n",
       "\n",
       "          Starch       Nuts     Fr&Veg  \n",
       "count  25.000000  25.000000  25.000000  \n",
       "mean    4.276000   3.072000   4.136000  \n",
       "std     1.634085   1.985682   1.803903  \n",
       "min     0.600000   0.700000   1.400000  \n",
       "50%     4.700000   2.400000   3.800000  \n",
       "100%    6.500000   7.800000   7.900000  \n",
       "max     6.500000   7.800000   7.900000  "
      ]
     },
     "execution_count": 4,
     "metadata": {},
     "output_type": "execute_result"
    }
   ],
   "source": [
    "food.describe(percentiles=True)"
   ]
  },
  {
   "cell_type": "markdown",
   "metadata": {},
   "source": [
    "A scatter plot matrix of all the numeric varibles."
   ]
  },
  {
   "cell_type": "code",
   "execution_count": 5,
   "metadata": {
    "collapsed": false
   },
   "outputs": [
    {
     "name": "stdout",
     "output_type": "stream",
     "text": [
      "Populating the interactive namespace from numpy and matplotlib\n"
     ]
    },
    {
     "data": {
      "image/png": "[encoded data removed]",
      "text/plain": [
       "<matplotlib.figure.Figure at 0x104099810>"
      ]
     },
     "metadata": {},
     "output_type": "display_data"
    }
   ],
   "source": [
    "%pylab inline\n",
    "\n",
    "axes = pd.tools.plotting.scatter_matrix(food, alpha=0.5, figsize=(16, 16))"
   ]
  },
  {
   "cell_type": "markdown",
   "metadata": {},
   "source": [
    "Dropping the Country column (categorical) to fit Hierarchical Clustering algorithm to the dataset. Also, converting the dataset to a numpy array matrix."
   ]
  },
  {
   "cell_type": "code",
   "execution_count": 6,
   "metadata": {
    "collapsed": false
   },
   "outputs": [
    {
     "name": "stdout",
     "output_type": "stream",
     "text": [
      "Dataset type before conversion:  <class 'pandas.core.frame.DataFrame'>\n",
      "\n",
      "Dataset type after conversion:  <type 'numpy.ndarray'>\n",
      "\n",
      "[[ 10.1   1.4   0.5   8.9   0.2  42.3   0.6   5.5   1.7]\n",
      " [  8.9  14.    4.3  19.9   2.1  28.    3.6   1.3   4.3]\n",
      " [ 13.5   9.3   4.1  17.5   4.5  26.6   5.7   2.1   4. ]\n",
      " [  7.8   6.    1.6   8.3   1.2  56.7   1.1   3.7   4.2]\n",
      " [  9.7  11.4   2.8  12.5   2.   34.3   5.    1.1   4. ]\n",
      " [ 10.6  10.8   3.7  25.    9.9  21.9   4.8   0.7   2.4]\n",
      " [  8.4  11.6   3.7  11.1   5.4  24.6   6.5   0.8   3.6]\n",
      " [  9.5   4.9   2.7  33.7   5.8  26.3   5.1   1.    1.4]\n",
      " [ 18.    9.9   3.3  19.5   5.7  28.1   4.8   2.4   6.5]\n",
      " [ 10.2   3.    2.8  17.6   5.9  41.7   2.2   7.8   6.5]\n",
      " [  5.3  12.4   2.9   9.7   0.3  40.1   4.    5.4   4.2]\n",
      " [ 13.9  10.    4.7  25.8   2.2  24.    6.2   1.6   2.9]\n",
      " [  9.    5.1   2.9  13.7   3.4  36.8   2.1   4.3   6.7]\n",
      " [  9.5  13.6   3.6  23.4   2.5  22.4   4.2   1.8   3.7]\n",
      " [  9.4   4.7   2.7  23.3   9.7  23.    4.6   1.6   2.7]\n",
      " [  6.9  10.2   2.7  19.3   3.   36.1   5.9   2.    6.6]\n",
      " [  6.2   3.7   1.1   4.9  14.2  27.    5.9   4.7   7.9]\n",
      " [  6.2   6.3   1.5  11.1   1.   49.6   3.1   5.3   2.8]\n",
      " [  7.1   3.4   3.1   8.6   7.   29.2   5.7   5.9   7.2]\n",
      " [  9.9   7.8   3.5  24.7   7.5  19.5   3.7   1.4   2. ]\n",
      " [ 13.1  10.1   3.1  23.8   2.3  25.6   2.8   2.4   4.9]\n",
      " [ 17.4   5.7   4.7  20.6   4.3  24.3   4.7   3.4   3.3]\n",
      " [  9.3   4.6   2.1  16.6   3.   43.6   6.4   3.4   2.9]\n",
      " [ 11.4  12.5   4.1  18.8   3.4  18.6   5.2   1.5   3.8]\n",
      " [  4.4   5.    1.2   9.5   0.6  55.9   3.    5.7   3.2]]\n"
     ]
    }
   ],
   "source": [
    "train = food.drop('Country', axis = 1) \n",
    "print \"Dataset type before conversion: \", type(train)\n",
    "\n",
    "std_data = train.as_matrix()\n",
    "print \"\\nDataset type after conversion: \", type(std_data)\n",
    "print \"\\n\", std_data"
   ]
  },
  {
   "cell_type": "markdown",
   "metadata": {},
   "source": [
    "The ```euclidean_distances()``` function returns the distance matrix computed by using the euclidean distance measure between the rows of a data matrix."
   ]
  },
  {
   "cell_type": "code",
   "execution_count": 7,
   "metadata": {
    "collapsed": false
   },
   "outputs": [
    {
     "data": {
      "text/plain": [
       "array([[  0.        ,  23.17628098,  21.65017321,  15.68821214,\n",
       "         15.15453727,  30.15758611,  22.8659135 ,  30.99096643,\n",
       "         23.1741235 ,  12.13630916,  13.15712735,  27.90250885,\n",
       "         10.62449999,  28.30212006,  26.8054099 ,  17.64397914,\n",
       "         23.11103632,  10.31939921,  17.14992711,  29.9879976 ,\n",
       "         24.92889889,  24.30843475,  11.03403825,  29.14395306,\n",
       "         15.47481825],\n",
       "       [ 23.17628098,   0.        ,   7.86829079,  32.30448885,\n",
       "         10.30533842,  11.95658814,  10.74290464,  17.42125139,\n",
       "         11.01090369,  19.52972094,  16.97498159,  10.03942229,\n",
       "         14.68877122,   6.76387463,  13.68466295,   9.94233373,\n",
       "         22.93120145,  25.26123512,  17.44018349,  13.03226765,\n",
       "          7.5835348 ,  12.92052631,  19.04284643,  10.13163363,\n",
       "         31.94698734],\n",
       "       [ 21.65017321,   7.86829079,   0.        ,  32.78612511,\n",
       "         10.60990104,  11.11980216,   8.92860571,  17.60312472,\n",
       "          6.00749532,  18.25486237,  18.78403578,   9.14658406,\n",
       "         13.56871401,   9.67574287,  10.80370307,  12.20163923,\n",
       "         19.20078123,  25.87856256,  13.91653693,  11.63228267,\n",
       "          7.52595509,   6.83008053,  18.41684012,   9.06642157,\n",
       "         32.68485888],\n",
       "       [ 15.68821214,  32.30448885,  32.78612511,   0.        ,\n",
       "         24.00541606,  40.33410468,  33.61472891,  40.33509638,\n",
       "         33.2634935 ,  19.31553779,  18.39918476,  38.35974452,\n",
       "         21.0133291 ,  38.52674396,  38.17472986,  24.49387679,\n",
       "         33.29384327,   8.33486653,  28.88736748,  41.48059787,\n",
       "         35.50901294,  36.41950027,  16.67543103,  40.61982275,   4.8754487 ],\n",
       "       [ 15.15453727,  10.30533842,  10.60990104,  24.00541606,\n",
       "          0.        ,  19.42060761,  10.61367043,  24.01999167,\n",
       "         13.43502884,  15.02564474,   9.17986928,  17.58209316,\n",
       "          8.70517088,  16.35267562,  18.72725287,   8.25530133,\n",
       "         19.06043022,  17.31155683,  13.07057765,  20.43036955,\n",
       "         14.97163986,  16.4972725 ,  12.6352681 ,  17.15138478,\n",
       "         23.97769797],\n",
       "       [ 30.15758611,  11.95658814,  11.11980216,  40.33410468,\n",
       "         19.42060761,   0.        ,  15.1845316 ,  12.24989796,\n",
       "         12.71849048,  24.46609899,  26.73480877,   8.93812061,\n",
       "         21.59583293,   8.36002392,   6.68804904,  17.81375873,\n",
       "         23.92697223,  33.29219128,  21.1877323 ,   4.79583152,\n",
       "          9.65038859,  11.7405281 ,  25.33475873,   9.90101005,\n",
       "         39.87417711],\n",
       "       [ 22.8659135 ,  10.74290464,   8.92860571,  33.61472891,\n",
       "         10.61367043,  15.1845316 ,   0.        ,  23.82750511,\n",
       "         13.85532389,  22.10927407,  17.51799075,  16.17776252,\n",
       "         15.62273984,  13.2687603 ,  14.98532616,  14.87481092,\n",
       "         15.15618686,  26.73162921,  11.7843116 ,  15.58428696,\n",
       "         14.64718403,  14.78005413,  21.36913662,  10.55840897,\n",
       "         33.27942307],\n",
       "       [ 30.99096643,  17.42125139,  17.60312472,  40.33509638,\n",
       "         24.01999167,  12.24989796,  23.82750511,   0.        ,\n",
       "         18.18130908,  24.10705291,  29.98382897,  11.56935608,\n",
       "         23.75542043,  14.67753385,  11.68802806,  19.35897725,\n",
       "         31.17627303,  33.39805384,  26.57141321,  11.90882026,\n",
       "         13.05411812,  15.95117551,  24.69271148,  18.87882412,\n",
       "         39.33001398],\n",
       "       [ 23.1741235 ,  11.01090369,   6.00749532,  33.2634935 ,\n",
       "         13.43502884,  12.71849048,  13.85532389,  18.18130908,\n",
       "          0.        ,  18.25458846,  21.25629319,  10.15332458,\n",
       "         15.15783626,  12.35030364,  13.15028517,  14.01320806,\n",
       "         21.85406141,  27.11696886,  17.21510964,  14.0271166 ,\n",
       "          8.18229797,   6.98713103,  19.43424812,  12.45993579,\n",
       "         33.72313746],\n",
       "       [ 12.13630916,  19.52972094,  18.25486237,  19.31553779,\n",
       "         15.02564474,  24.46609899,  22.10927407,  24.10705291,\n",
       "         18.25458846,   0.        ,  14.93318452,  22.97650974,\n",
       "          7.97684148,  24.06283441,  21.41961718,  12.35880253,\n",
       "         22.15648889,  13.34166406,  16.26868157,  25.1573051 ,\n",
       "         20.03996008,  20.32018701,   8.17557337,  26.28041096,\n",
       "         18.74779987],\n",
       "       [ 13.15712735,  16.97498159,  18.78403578,  18.39918476,\n",
       "          9.17986928,  26.73480877,  17.51799075,  29.98382897,\n",
       "         21.25629319,  14.93318452,   0.        ,  25.01919263,\n",
       "         10.70280337,  23.20861909,  25.66943708,  11.99249765,\n",
       "         22.03156826,  11.63872845,  16.16570444,  27.65519843,\n",
       "         22.13955736,  24.17209135,  12.49319815,  24.70101213,\n",
       "         17.61590191],\n",
       "       [ 27.90250885,  10.03942229,   9.14658406,  38.35974452,\n",
       "         17.58209316,   8.93812061,  16.17776252,  11.56935608,\n",
       "         10.15332458,  22.97650974,  25.01919263,   0.        ,\n",
       "         20.03721538,   6.82788401,  10.88301429,  16.00874761,\n",
       "         27.13761228,  31.2956866 ,  21.80619178,   8.88425574,\n",
       "          5.09705797,   8.24196578,  23.01738473,   9.70978888,\n",
       "         37.95391943],\n",
       "       [ 10.62449999,  14.68877122,  13.56871401,  21.0133291 ,\n",
       "          8.70517088,  21.59583293,  15.62273984,  23.75542043,\n",
       "         15.15783626,   7.97684148,  10.70280337,  20.03721538,\n",
       "          0.        ,  19.87234259,  18.76672587,   9.06697303,\n",
       "         17.86616915,  14.31118444,  10.91054536,  21.87738558,\n",
       "         16.66883319,  17.26151789,   9.46202938,  21.0966822 ,\n",
       "         20.72124514],\n",
       "       [ 28.30212006,   6.76387463,   9.67574287,  38.52674396,\n",
       "         16.35267562,   8.36002392,  13.2687603 ,  14.67753385,\n",
       "         12.35030364,  24.06283441,  23.20861909,   6.82788401,\n",
       "         19.87234259,   0.        ,  11.55162326,  15.33688365,\n",
       "         25.38483799,  31.24483957,  20.66131651,   8.49764673,\n",
       "          6.2976186 ,  11.98707637,  24.23344796,   6.52533524,\n",
       "         37.96972478],\n",
       "       [ 26.8054099 ,  13.68466295,  10.80370307,  38.17472986,\n",
       "         18.72725287,   6.68804904,  14.98532616,  11.68802806,\n",
       "         13.15028517,  21.41961718,  25.66943708,  10.88301429,\n",
       "         18.76672587,  11.55162326,   0.        ,  16.91330837,\n",
       "         20.66276845,  31.02063829,  17.57583568,   5.55787729,\n",
       "         10.65363788,  10.52378259,  22.82630062,  12.15236602,\n",
       "         37.45156873],\n",
       "       [ 17.64397914,   9.94233373,  12.20163923,  24.49387679,\n",
       "          8.25530133,  17.81375873,  14.87481092,  19.35897725,\n",
       "         14.01320806,  12.35880253,  11.99249765,  16.00874761,\n",
       "          9.06697303,  15.33688365,  16.91330837,   0.        ,\n",
       "         21.67694628,  17.42985944,  15.49677386,  19.15019582,\n",
       "         13.50037037,  17.07073519,  10.81295519,  18.51323851,\n",
       "         23.72846392],\n",
       "       [ 23.11103632,  22.93120145,  19.20078123,  33.29384327,\n",
       "         19.06043022,  23.92697223,  15.15618686,  31.17627303,\n",
       "         21.85406141,  22.15648889,  22.03156826,  27.13761228,\n",
       "         17.86616915,  25.38483799,  20.66276845,  21.67694628,\n",
       "          0.        ,  27.65085894,   8.78862902,  24.08277393,\n",
       "         24.8445165 ,  22.77015591,  24.00520777,  22.8348418 ,\n",
       "         32.82940755],\n",
       "       [ 10.31939921,  25.26123512,  25.87856256,   8.33486653,\n",
       "         17.31155683,  33.29219128,  26.73162921,  33.39805384,\n",
       "         27.11696886,  13.34166406,  11.63872845,  31.2956866 ,\n",
       "         14.31118444,  31.24483957,  31.02063829,  17.42985944,\n",
       "         27.65085894,   0.        ,  22.28609432,  34.1960524 ,\n",
       "         28.57446412,  29.72692382,   9.8802834 ,  33.43860045,\n",
       "          6.91086102],\n",
       "       [ 17.14992711,  17.44018349,  13.91653693,  28.88736748,\n",
       "         13.07057765,  21.1877323 ,  11.7843116 ,  26.57141321,\n",
       "         17.21510964,  16.26868157,  16.16570444,  21.80619178,\n",
       "         10.91054536,  20.66131651,  17.57583568,  15.49677386,\n",
       "          8.78862902,  22.28609432,   0.        ,  20.78942039,\n",
       "         19.3113956 ,  17.65502761,  17.88490984,  19.04809702,\n",
       "         28.13272116],\n",
       "       [ 29.9879976 ,  13.03226765,  11.63228267,  41.48059787,\n",
       "         20.43036955,   4.79583152,  15.58428696,  11.90882026,\n",
       "         14.0271166 ,  25.1573051 ,  27.65519843,   8.88425574,\n",
       "         21.87738558,   8.49764673,   5.55787729,  19.15019582,\n",
       "         24.08277393,  34.1960524 ,  20.78942039,   0.        ,\n",
       "          9.53781946,  10.90321054,  26.293155  ,   9.09010451,\n",
       "         40.83393197],\n",
       "       [ 24.92889889,   7.5835348 ,   7.52595509,  35.50901294,\n",
       "         14.97163986,   9.65038859,  14.64718403,  13.05411812,\n",
       "          8.18229797,  20.03996008,  22.13955736,   5.09705797,\n",
       "         16.66883319,   6.2976186 ,  10.65363788,  13.50037037,\n",
       "         24.8445165 ,  28.57446412,  19.3113956 ,   9.53781946,\n",
       "          0.        ,   7.96931616,  20.97570023,   9.62496753,\n",
       "         35.27888887],\n",
       "       [ 24.30843475,  12.92052631,   6.83008053,  36.41950027,\n",
       "         16.4972725 ,  11.7405281 ,  14.78005413,  15.95117551,\n",
       "          6.98713103,  20.32018701,  24.17209135,   8.24196578,\n",
       "         17.26151789,  11.98707637,  10.52378259,  17.07073519,\n",
       "         22.77015591,  29.72692382,  17.65502761,  10.90321054,\n",
       "          7.96931616,   0.        ,  21.60578626,  11.10180166,\n",
       "         36.40590611],\n",
       "       [ 11.03403825,  19.04284643,  18.41684012,  16.67543103,\n",
       "         12.6352681 ,  25.33475873,  21.36913662,  24.69271148,\n",
       "         19.43424812,   8.17557337,  12.49319815,  23.01738473,\n",
       "          9.46202938,  24.23344796,  22.82630062,  10.81295519,\n",
       "         24.00520777,   9.8802834 ,  17.88490984,  26.293155  ,\n",
       "         20.97570023,  21.60578626,   0.        ,  26.5834535 ,\n",
       "         15.79177001],\n",
       "       [ 29.14395306,  10.13163363,   9.06642157,  40.61982275,\n",
       "         17.15138478,   9.90101005,  10.55840897,  18.87882412,\n",
       "         12.45993579,  26.28041096,  24.70101213,   9.70978888,\n",
       "         21.0966822 ,   6.52533524,  12.15236602,  18.51323851,\n",
       "         22.8348418 ,  33.43860045,  19.04809702,   9.09010451,\n",
       "          9.62496753,  11.10180166,  26.5834535 ,   0.        ,  40.2755509 ],\n",
       "       [ 15.47481825,  31.94698734,  32.68485888,   4.8754487 ,\n",
       "         23.97769797,  39.87417711,  33.27942307,  39.33001398,\n",
       "         33.72313746,  18.74779987,  17.61590191,  37.95391943,\n",
       "         20.72124514,  37.96972478,  37.45156873,  23.72846392,\n",
       "         32.82940755,   6.91086102,  28.13272116,  40.83393197,\n",
       "         35.27888887,  36.40590611,  15.79177001,  40.2755509 ,   0.        ]])"
      ]
     },
     "execution_count": 7,
     "metadata": {},
     "output_type": "execute_result"
    }
   ],
   "source": [
    "euclidean_distances(std_data)"
   ]
  },
  {
   "cell_type": "markdown",
   "metadata": {},
   "source": [
    "The ```linkage()``` function is used for fitting hierarchical clustering to the dataset. The second parameter below defines the clustering method to be used - single, complete, average , ect."
   ]
  },
  {
   "cell_type": "markdown",
   "metadata": {},
   "source": [
    "### Using average linkage hierarchial clustering:"
   ]
  },
  {
   "cell_type": "code",
   "execution_count": 8,
   "metadata": {
    "collapsed": true
   },
   "outputs": [],
   "source": [
    "# generate the linkage matrix\n",
    "avg_linkage = linkage(std_data, 'average')"
   ]
  },
  {
   "cell_type": "code",
   "execution_count": 9,
   "metadata": {
    "collapsed": false
   },
   "outputs": [
    {
     "data": {
      "text/plain": [
       "array([[  5.        ,  19.        ,   4.79583152,   2.        ],\n",
       "       [  3.        ,  24.        ,   4.8754487 ,   2.        ],\n",
       "       [ 11.        ,  20.        ,   5.09705797,   2.        ],\n",
       "       [  2.        ,   8.        ,   6.00749532,   2.        ],\n",
       "       [ 14.        ,  25.        ,   6.12296317,   3.        ],\n",
       "       [ 13.        ,  23.        ,   6.52533524,   2.        ],\n",
       "       [ 21.        ,  28.        ,   6.90860578,   3.        ],\n",
       "       [ 17.        ,  26.        ,   7.62286377,   3.        ],\n",
       "       [  9.        ,  12.        ,   7.97684148,   2.        ],\n",
       "       [ 27.        ,  30.        ,   8.11506475,   4.        ],\n",
       "       [  4.        ,  15.        ,   8.25530133,   2.        ],\n",
       "       [  1.        ,  34.        ,   8.62961634,   5.        ],\n",
       "       [ 16.        ,  18.        ,   8.78862902,   2.        ],\n",
       "       [ 22.        ,  33.        ,   8.81880138,   3.        ],\n",
       "       [ 31.        ,  36.        ,   9.97736309,   8.        ],\n",
       "       [ 10.        ,  35.        ,  10.58618347,   3.        ],\n",
       "       [ 29.        ,  39.        ,  10.97469713,  11.        ],\n",
       "       [  0.        ,  38.        ,  11.26494913,   4.        ],\n",
       "       [ 40.        ,  42.        ,  12.72413702,   7.        ],\n",
       "       [  6.        ,  37.        ,  13.47024923,   3.        ],\n",
       "       [  7.        ,  41.        ,  14.8348581 ,  12.        ],\n",
       "       [ 32.        ,  43.        ,  17.61339812,  10.        ],\n",
       "       [ 44.        ,  45.        ,  19.23682529,  15.        ],\n",
       "       [ 46.        ,  47.        ,  24.41765627,  25.        ]])"
      ]
     },
     "execution_count": 9,
     "metadata": {},
     "output_type": "execute_result"
    }
   ],
   "source": [
    "avg_linkage"
   ]
  },
  {
   "cell_type": "markdown",
   "metadata": {},
   "source": [
    "```avg_linkage``` tell us which clusters were merged for all the iteration. Each row of the resulting array has the format [idx1, idx2, dist, sample_count]. As an example, in the first iteration, the ```linkage()``` algorithm decided to merge the two clusters (original samples here) with indices 5 and 19, as they only had a distance of 4.79583152. This created a cluster with a total of 2 samples."
   ]
  },
  {
   "cell_type": "markdown",
   "metadata": {},
   "source": [
    "Plotting a Dendrogram for average linkage:"
   ]
  },
  {
   "cell_type": "code",
   "execution_count": 10,
   "metadata": {
    "collapsed": false
   },
   "outputs": [
    {
     "data": {
      "image/png": "[encoded data removed]",
      "text/plain": [
       "<matplotlib.figure.Figure at 0x11d917210>"
      ]
     },
     "metadata": {},
     "output_type": "display_data"
    }
   ],
   "source": [
    "plt.figure(figsize=(25, 10))\n",
    "plt.title('Hierarchical Clustering Average Linkage Dendrogram')\n",
    "plt.xlabel('sample index')\n",
    "plt.ylabel('distance')\n",
    "dendrogram(\n",
    "    avg_linkage, \n",
    "    leaf_rotation = 90.,  # rotates the x axis labels\n",
    "    leaf_font_size = 8.,  # font size for the x axis labels\n",
    ")\n",
    "plt.show()"
   ]
  },
  {
   "cell_type": "markdown",
   "metadata": {},
   "source": [
    "Plotting a truncated dendrogram for average linkage. The parameter ```show_contracted``` allows us to draw black dots at the heights of those previous cluster merges, so we can still spot gaps even if we don't want to clutter the whole visualization."
   ]
  },
  {
   "cell_type": "code",
   "execution_count": 11,
   "metadata": {
    "collapsed": false
   },
   "outputs": [
    {
     "data": {
      "image/png": "[encoded data removed]",
      "text/plain": [
       "<matplotlib.figure.Figure at 0x120caa150>"
      ]
     },
     "metadata": {},
     "output_type": "display_data"
    }
   ],
   "source": [
    "plt.figure(figsize=(25, 10))\n",
    "plt.title('Hierarchical Clustering  Average Linkage Dendrogram (truncated)')\n",
    "plt.xlabel('sample index')\n",
    "plt.ylabel('distance')\n",
    "dendrogram(\n",
    "    avg_linkage,\n",
    "    truncate_mode = 'lastp',  # show only the last p merged clusters\n",
    "    p = 15,  # show only the last p merged clusters\n",
    "    show_leaf_counts = True,  # numbers in brackets are counts\n",
    "    leaf_rotation = 90.,\n",
    "    leaf_font_size = 12.,\n",
    "    show_contracted = True,  # to get a distribution impression in truncated branches\n",
    ")\n",
    "plt.show()"
   ]
  },
  {
   "cell_type": "markdown",
   "metadata": {},
   "source": [
    "The code below checks the **Cophenetic Correlation Coefficient** of the clustering with the help of ```cophenet()``` function. This is a measure of how faithfully a dendrogram preserves the pairwise distances between the original unmodeled data points. The closer the value is to 1, the better the clustering preserves the original distances. This coefficient has also been proposed for use as a test for nested clusters. "
   ]
  },
  {
   "cell_type": "code",
   "execution_count": 12,
   "metadata": {
    "collapsed": false
   },
   "outputs": [
    {
     "data": {
      "text/plain": [
       "0.71932495071457936"
      ]
     },
     "execution_count": 12,
     "metadata": {},
     "output_type": "execute_result"
    }
   ],
   "source": [
    "c, coph_dists = cophenet(avg_linkage, pdist(std_data))\n",
    "c"
   ]
  },
  {
   "cell_type": "markdown",
   "metadata": {},
   "source": [
    "### Using single linkage hierarchial clustering:"
   ]
  },
  {
   "cell_type": "code",
   "execution_count": 13,
   "metadata": {
    "collapsed": true
   },
   "outputs": [],
   "source": [
    "# generate the linkage matrix\n",
    "single_linkage = linkage(std_data, 'single')"
   ]
  },
  {
   "cell_type": "code",
   "execution_count": 14,
   "metadata": {
    "collapsed": false
   },
   "outputs": [
    {
     "data": {
      "text/plain": [
       "array([[  5.        ,  19.        ,   4.79583152,   2.        ],\n",
       "       [  3.        ,  24.        ,   4.8754487 ,   2.        ],\n",
       "       [ 11.        ,  20.        ,   5.09705797,   2.        ],\n",
       "       [ 14.        ,  25.        ,   5.55787729,   3.        ],\n",
       "       [  2.        ,   8.        ,   6.00749532,   2.        ],\n",
       "       [ 13.        ,  27.        ,   6.2976186 ,   3.        ],\n",
       "       [ 23.        ,  30.        ,   6.52533524,   4.        ],\n",
       "       [  1.        ,  31.        ,   6.76387463,   5.        ],\n",
       "       [ 21.        ,  29.        ,   6.83008053,   3.        ],\n",
       "       [ 17.        ,  26.        ,   6.91086102,   3.        ],\n",
       "       [ 32.        ,  33.        ,   7.52595509,   8.        ],\n",
       "       [  9.        ,  12.        ,   7.97684148,   2.        ],\n",
       "       [ 22.        ,  36.        ,   8.17557337,   3.        ],\n",
       "       [  4.        ,  15.        ,   8.25530133,   2.        ],\n",
       "       [ 28.        ,  35.        ,   8.36002392,  11.        ],\n",
       "       [ 37.        ,  38.        ,   8.70517088,   5.        ],\n",
       "       [ 16.        ,  18.        ,   8.78862902,   2.        ],\n",
       "       [  6.        ,  39.        ,   8.92860571,  12.        ],\n",
       "       [ 10.        ,  40.        ,   9.17986928,   6.        ],\n",
       "       [ 34.        ,  43.        ,   9.8802834 ,   9.        ],\n",
       "       [ 42.        ,  44.        ,   9.94233373,  21.        ],\n",
       "       [  0.        ,  45.        ,  10.31939921,  22.        ],\n",
       "       [ 41.        ,  46.        ,  10.91054536,  24.        ],\n",
       "       [  7.        ,  47.        ,  11.56935608,  25.        ]])"
      ]
     },
     "execution_count": 14,
     "metadata": {},
     "output_type": "execute_result"
    }
   ],
   "source": [
    "single_linkage"
   ]
  },
  {
   "cell_type": "markdown",
   "metadata": {},
   "source": [
    "Plotting a Dendrogram for single linkage:"
   ]
  },
  {
   "cell_type": "code",
   "execution_count": 15,
   "metadata": {
    "collapsed": false
   },
   "outputs": [
    {
     "data": {
      "image/png": "[encoded data removed]",
      "text/plain": [
       "<matplotlib.figure.Figure at 0x121257e50>"
      ]
     },
     "metadata": {},
     "output_type": "display_data"
    }
   ],
   "source": [
    "plt.figure(figsize=(25, 10))\n",
    "plt.title('Hierarchical Clustering Single Linkage Dendrogram')\n",
    "plt.xlabel('sample index')\n",
    "plt.ylabel('distance')\n",
    "dendrogram(\n",
    "    single_linkage, \n",
    "    leaf_rotation = 90.,  # rotates the x axis labels\n",
    "    leaf_font_size = 8.,  # font size for the x axis labels\n",
    ")\n",
    "plt.show()"
   ]
  },
  {
   "cell_type": "markdown",
   "metadata": {},
   "source": [
    "The **Cophenetic Correlation Coefficient** for single linkage:"
   ]
  },
  {
   "cell_type": "code",
   "execution_count": 16,
   "metadata": {
    "collapsed": false
   },
   "outputs": [
    {
     "data": {
      "text/plain": [
       "0.56095988692787524"
      ]
     },
     "execution_count": 16,
     "metadata": {},
     "output_type": "execute_result"
    }
   ],
   "source": [
    "c, coph_dists = cophenet(single_linkage, pdist(std_data))\n",
    "c"
   ]
  },
  {
   "cell_type": "markdown",
   "metadata": {},
   "source": [
    "### Using complete linkage hierarchial clustering:"
   ]
  },
  {
   "cell_type": "code",
   "execution_count": 17,
   "metadata": {
    "collapsed": true
   },
   "outputs": [],
   "source": [
    "# generate the linkage matrix\n",
    "complete_linkage = linkage(std_data, 'complete')"
   ]
  },
  {
   "cell_type": "code",
   "execution_count": 18,
   "metadata": {
    "collapsed": false
   },
   "outputs": [
    {
     "data": {
      "text/plain": [
       "array([[  5.        ,  19.        ,   4.79583152,   2.        ],\n",
       "       [  3.        ,  24.        ,   4.8754487 ,   2.        ],\n",
       "       [ 11.        ,  20.        ,   5.09705797,   2.        ],\n",
       "       [  2.        ,   8.        ,   6.00749532,   2.        ],\n",
       "       [ 13.        ,  23.        ,   6.52533524,   2.        ],\n",
       "       [ 14.        ,  25.        ,   6.68804904,   3.        ],\n",
       "       [ 21.        ,  28.        ,   6.98713103,   3.        ],\n",
       "       [  9.        ,  12.        ,   7.97684148,   2.        ],\n",
       "       [  4.        ,  15.        ,   8.25530133,   2.        ],\n",
       "       [ 17.        ,  26.        ,   8.33486653,   3.        ],\n",
       "       [ 16.        ,  18.        ,   8.78862902,   2.        ],\n",
       "       [ 22.        ,  32.        ,   9.46202938,   3.        ],\n",
       "       [ 27.        ,  29.        ,   9.70978888,   4.        ],\n",
       "       [  1.        ,  37.        ,  10.13163363,   5.        ],\n",
       "       [ 10.        ,  33.        ,  11.99249765,   3.        ],\n",
       "       [  0.        ,  36.        ,  12.13630916,   4.        ],\n",
       "       [  7.        ,  30.        ,  12.24989796,   4.        ],\n",
       "       [ 31.        ,  38.        ,  12.92052631,   8.        ],\n",
       "       [  6.        ,  35.        ,  15.15618686,   3.        ],\n",
       "       [ 39.        ,  40.        ,  17.64397914,   7.        ],\n",
       "       [ 41.        ,  42.        ,  18.87882412,  12.        ],\n",
       "       [ 43.        ,  44.        ,  24.00520777,  10.        ],\n",
       "       [ 45.        ,  46.        ,  31.17627303,  22.        ],\n",
       "       [ 34.        ,  47.        ,  41.48059787,  25.        ]])"
      ]
     },
     "execution_count": 18,
     "metadata": {},
     "output_type": "execute_result"
    }
   ],
   "source": [
    "complete_linkage"
   ]
  },
  {
   "cell_type": "markdown",
   "metadata": {},
   "source": [
    "Plotting a Dendrogram for complete linkage:"
   ]
  },
  {
   "cell_type": "code",
   "execution_count": 19,
   "metadata": {
    "collapsed": false
   },
   "outputs": [
    {
     "data": {
      "image/png": "[encoded data removed]",
      "text/plain": [
       "<matplotlib.figure.Figure at 0x121698b90>"
      ]
     },
     "metadata": {},
     "output_type": "display_data"
    }
   ],
   "source": [
    "plt.figure(figsize=(25, 10))\n",
    "plt.title('Hierarchical Clustering Complete Linkage Dendrogram')\n",
    "plt.xlabel('sample index')\n",
    "plt.ylabel('distance')\n",
    "dendrogram(\n",
    "    complete_linkage, \n",
    "    leaf_rotation = 90.,  # rotates the x axis labels\n",
    "    leaf_font_size = 8.,  # font size for the x axis labels\n",
    ")\n",
    "plt.show()"
   ]
  },
  {
   "cell_type": "markdown",
   "metadata": {},
   "source": [
    "The **Cophenetic Correlation Coefficient** for complete linkage:"
   ]
  },
  {
   "cell_type": "code",
   "execution_count": 20,
   "metadata": {
    "collapsed": false
   },
   "outputs": [
    {
     "data": {
      "text/plain": [
       "0.76711370338587548"
      ]
     },
     "execution_count": 20,
     "metadata": {},
     "output_type": "execute_result"
    }
   ],
   "source": [
    "c, coph_dists = cophenet(complete_linkage, pdist(std_data))\n",
    "c"
   ]
  },
  {
   "cell_type": "markdown",
   "metadata": {},
   "source": [
    "## Summary\n",
    "\n",
    "1. *Cophenetic Correlation Coefficient* for **Average Linkage**: 0.72\n",
    "2. *Cophenetic Correlation Coefficient* for **Single Linkage**: 0.56\n",
    "3. *Cophenetic Correlation Coefficient* for **Complete Linkage**: 0.77"
   ]
  }
 ],
 "metadata": {
  "kernelspec": {
   "display_name": "Python 2",
   "language": "python",
   "name": "python2"
  },
  "language_info": {
   "codemirror_mode": {
    "name": "ipython",
    "version": 2
   },
   "file_extension": ".py",
   "mimetype": "text/x-python",
   "name": "python",
   "nbconvert_exporter": "python",
   "pygments_lexer": "ipython2",
   "version": "2.7.11"
  }
 },
 "nbformat": 4,
 "nbformat_minor": 0
}
